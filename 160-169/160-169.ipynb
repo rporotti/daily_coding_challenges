{
 "cells": [
  {
   "cell_type": "markdown",
   "metadata": {},
   "source": [
    "# Problem 160\n",
    "This problem was asked by Uber.\n",
    "\n",
    "Given a tree where each edge has a weight, compute the length of the longest path in the tree.\n",
    "\n",
    "For example, given the following tree:\n",
    "\n",
    "```\n",
    "   a\n",
    "  /|\\\n",
    " b c d\n",
    "    / \\\n",
    "   e   f\n",
    "  / \\\n",
    " g   h\n",
    "```\n",
    "\n",
    "and the weights: `a-b: 3`, `a-c: 5`, `a-d: 8`, `d-e: 2`, `d-f: 4`, `e-g: 1`, `e-h: 1`, the longest path would be `c -> a -> d -> f`, with a length of `17`.\n",
    "\n",
    "The path does not have to pass through the root, and each node can have any amount of children.\n",
    "\n",
    "\n",
    "---\n",
    "\n"
   ]
  },
  {
   "cell_type": "code",
   "execution_count": null,
   "metadata": {},
   "outputs": [],
   "source": []
  },
  {
   "cell_type": "markdown",
   "metadata": {},
   "source": [
    "# Problem 161\n",
    "This problem was asked by Facebook.\n",
    "\n",
    "Given a 32-bit integer, return the number with its bits reversed.\n",
    "\n",
    "For example, given the binary number `1111 0000 1111 0000 1111 0000 1111 0000`, return `0000 1111 0000 1111 0000 1111 0000 1111`.\n",
    "\n",
    "\n",
    "---\n",
    "\n"
   ]
  },
  {
   "cell_type": "code",
   "execution_count": null,
   "metadata": {},
   "outputs": [],
   "source": []
  },
  {
   "cell_type": "markdown",
   "metadata": {},
   "source": [
    "# Problem 162\n",
    "This problem was asked by Square.\n",
    "\n",
    "Given a list of words, return the shortest unique prefix of each word. For example, given the list:\n",
    "* dog\n",
    "* cat\n",
    "* apple\n",
    "* apricot\n",
    "* fish\n",
    "\n",
    "Return the list:\n",
    "* d\n",
    "* c\n",
    "* app\n",
    "* apr\n",
    "* f\n",
    "\n",
    "\n",
    "---\n",
    "\n"
   ]
  },
  {
   "cell_type": "code",
   "execution_count": null,
   "metadata": {},
   "outputs": [],
   "source": []
  },
  {
   "cell_type": "markdown",
   "metadata": {},
   "source": [
    "# Problem 163\n",
    "This problem was asked by Jane Street.\n",
    "\n",
    "Given an arithmetic expression in Reverse Polish Notation, write a program to evaluate it.\n",
    "\n",
    "The expression is given as a list of numbers and operands. For example: `[5, 3, '+']` should return `5 + 3 = 8`.\n",
    "\n",
    "For example, `[15, 7, 1, 1, '+', '-', '/', 3, '*', 2, 1, 1, '+', '+', '-']` should return `5`, since it is equivalent to `((15 / (7 - (1 + 1))) * 3) - (2 + (1 + 1)) = 5`.\n",
    "\n",
    "You can assume the given expression is always valid.\n",
    "\n",
    "\n",
    "---\n",
    "\n"
   ]
  },
  {
   "cell_type": "code",
   "execution_count": null,
   "metadata": {},
   "outputs": [],
   "source": []
  },
  {
   "cell_type": "markdown",
   "metadata": {},
   "source": [
    "# Problem 164\n",
    "This problem was asked by Google.\n",
    "\n",
    "You are given an array of length n + 1 whose elements belong to the set `{1, 2, ..., n}`. By the pigeonhole principle, there must be a duplicate. Find it in linear time and space.\n",
    "\n",
    "\n",
    "---\n",
    "\n"
   ]
  },
  {
   "cell_type": "code",
   "execution_count": null,
   "metadata": {},
   "outputs": [],
   "source": []
  },
  {
   "cell_type": "markdown",
   "metadata": {},
   "source": [
    "# Problem 165\n",
    "This problem was asked by Google.\n",
    "\n",
    "Given an array of integers, return a new array where each element in the new array is the number of smaller elements to the right of that element in the original input array.\n",
    "\n",
    "For example, given the array `[3, 4, 9, 6, 1]`, return `[1, 1, 2, 1, 0]`, since:\n",
    "* There is 1 smaller element to the right of `3`\n",
    "* There is 1 smaller element to the right of `4`\n",
    "* There are 2 smaller elements to the right of `9`\n",
    "* There is 1 smaller element to the right of `6`\n",
    "* There are no smaller elements to the right of `1`\n",
    "\n",
    "\n",
    "---\n",
    "\n"
   ]
  },
  {
   "cell_type": "code",
   "execution_count": null,
   "metadata": {},
   "outputs": [],
   "source": []
  },
  {
   "cell_type": "markdown",
   "metadata": {},
   "source": [
    "# Problem 166\n",
    "This problem was asked by Uber.\n",
    "\n",
    "Implement a 2D iterator class. It will be initialized with an array of arrays, and should implement the following methods:\n",
    "* `next()`: returns the next element in the array of arrays. If there are no more elements, raise an exception.\n",
    "* `has_next()`: returns whether or not the iterator still has elements left.\n",
    "\n",
    "For example, given the input `[[1, 2], [3], [], [4, 5, 6]]`, calling `next()` repeatedly should output `1, 2, 3, 4, 5, 6`.\n",
    "\n",
    "Do not use flatten or otherwise clone the arrays. Some of the arrays can be empty.\n",
    "\n",
    "\n",
    "---\n",
    "\n"
   ]
  },
  {
   "cell_type": "code",
   "execution_count": null,
   "metadata": {},
   "outputs": [],
   "source": []
  },
  {
   "cell_type": "markdown",
   "metadata": {},
   "source": [
    "# Problem 167\n",
    "This problem was asked by Airbnb.\n",
    "\n",
    "Given a list of words, find all pairs of unique indices such that the concatenation of the two words is a palindrome.\n",
    "\n",
    "For example, given the list `[\"code\", \"edoc\", \"da\", \"d\"]`, return `[(0, 1), (1, 0), (2, 3)]`.\n",
    "\n",
    "\n",
    "---\n",
    "\n"
   ]
  },
  {
   "cell_type": "code",
   "execution_count": null,
   "metadata": {},
   "outputs": [],
   "source": []
  },
  {
   "cell_type": "markdown",
   "metadata": {},
   "source": [
    "# Problem 168\n",
    "This problem was asked by Facebook.\n",
    "\n",
    "Given an N by N matrix, rotate it by 90 degrees clockwise.\n",
    "\n",
    "For example, given the following matrix:\n",
    "```\n",
    "[[1, 2, 3],\n",
    " [4, 5, 6],\n",
    " [7, 8, 9]]\n",
    "```\n",
    "\n",
    "you should return:\n",
    "```\n",
    "[[7, 4, 1],\n",
    " [8, 5, 2],\n",
    " [9, 6, 3]]\n",
    "```\n",
    "\n",
    "Follow-up: What if you couldn't use any extra space?\n",
    "\n",
    "\n",
    "---\n",
    "\n"
   ]
  },
  {
   "cell_type": "code",
   "execution_count": null,
   "metadata": {},
   "outputs": [],
   "source": []
  },
  {
   "cell_type": "markdown",
   "metadata": {},
   "source": [
    "# Problem 169\n",
    "This problem was asked by Google.\n",
    "\n",
    "Given a linked list, sort it in `O(n log n)` time and constant space.\n",
    "\n",
    "For example, the linked list `4 -> 1 -> -3 -> 99` should become `-3 -> 1 -> 4 -> 99`.\n",
    "\n",
    "\n",
    "---\n",
    "\n"
   ]
  },
  {
   "cell_type": "code",
   "execution_count": null,
   "metadata": {},
   "outputs": [],
   "source": []
  }
 ],
 "metadata": {},
 "nbformat": 4,
 "nbformat_minor": 4
}
