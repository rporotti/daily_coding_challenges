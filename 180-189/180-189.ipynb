{
 "cells": [
  {
   "cell_type": "markdown",
   "metadata": {},
   "source": [
    "# Problem 180\n",
    "This problem was asked by Google.\n",
    "\n",
    "Given a stack of `N` elements, interleave the first half of the stack with the second half reversed using only one other queue. This should be done in-place.\n",
    "\n",
    "Recall that you can only push or pop from a stack, and enqueue or dequeue from a queue.\n",
    "\n",
    "For example, if the stack is `[1, 2, 3, 4, 5]`, it should become `[1, 5, 2, 4, 3]`. If the stack is `[1, 2, 3, 4]`, it should become `[1, 4, 2, 3]`.\n",
    "\n",
    "Hint: Try working backwards from the end state.\n",
    "\n",
    "\n",
    "---\n",
    "\n"
   ]
  },
  {
   "cell_type": "code",
   "execution_count": null,
   "metadata": {},
   "outputs": [],
   "source": []
  },
  {
   "cell_type": "markdown",
   "metadata": {},
   "source": [
    "# Problem 181\n",
    "This problem was asked by Google.\n",
    "\n",
    "Given a string, split it into as few strings as possible such that each string is a palindrome.\n",
    "\n",
    "For example, given the input string `\"racecarannakayak\"`, return `[\"racecar\", \"anna\", \"kayak\"]`.\n",
    "\n",
    "Given the input string `\"abc\"`, return `[\"a\", \"b\", \"c\"]`.\n",
    "\n",
    "\n",
    "---\n",
    "\n"
   ]
  },
  {
   "cell_type": "code",
   "execution_count": null,
   "metadata": {},
   "outputs": [],
   "source": []
  },
  {
   "cell_type": "markdown",
   "metadata": {},
   "source": [
    "# Problem 182\n",
    "This problem was asked by Facebook.\n",
    "\n",
    "A graph is minimally-connected if it is connected and there is no edge that can be removed while still leaving the graph connected. For example, any binary tree is minimally-connected.\n",
    "\n",
    "Given an undirected graph, check if the graph is minimally-connected. You can choose to represent the graph as either an adjacency matrix or adjacency list.\n",
    "\n",
    "\n",
    "---\n",
    "\n"
   ]
  },
  {
   "cell_type": "code",
   "execution_count": null,
   "metadata": {},
   "outputs": [],
   "source": []
  },
  {
   "cell_type": "markdown",
   "metadata": {},
   "source": [
    "# Problem 183\n",
    "This problem was asked by Twitch.\n",
    "\n",
    "Describe what happens when you type a URL into your browser and press Enter.\n",
    "\n",
    "\n",
    "---\n",
    "\n"
   ]
  },
  {
   "cell_type": "code",
   "execution_count": null,
   "metadata": {},
   "outputs": [],
   "source": []
  },
  {
   "cell_type": "markdown",
   "metadata": {},
   "source": [
    "# Problem 184\n",
    "This problem was asked by Amazon.\n",
    "\n",
    "Given n numbers, find the greatest common denominator between them.\n",
    "\n",
    "For example, given the numbers `[42, 56, 14]`, return `14`.\n",
    "\n",
    "\n",
    "---\n",
    "\n"
   ]
  },
  {
   "cell_type": "code",
   "execution_count": null,
   "metadata": {},
   "outputs": [],
   "source": []
  },
  {
   "cell_type": "markdown",
   "metadata": {},
   "source": [
    "# Problem 185\n",
    "This problem was asked by Google.\n",
    "\n",
    "Given two rectangles on a 2D graph, return the area of their intersection. If the rectangles don't intersect, return `0`.\n",
    "\n",
    "For example, given the following rectangles:\n",
    "```\n",
    "{\n",
    "    \"top_left\": (1, 4),\n",
    "    \"dimensions\": (3, 3) # width, height\n",
    "}\n",
    "```\n",
    "and\n",
    "```\n",
    "{\n",
    "    \"top_left\": (0, 5),\n",
    "    \"dimensions\" (4, 3) # width, height\n",
    "}\n",
    "```\n",
    "return `6`.\n",
    "\n",
    "\n",
    "---\n",
    "\n"
   ]
  },
  {
   "cell_type": "code",
   "execution_count": null,
   "metadata": {},
   "outputs": [],
   "source": []
  },
  {
   "cell_type": "markdown",
   "metadata": {},
   "source": [
    "# Problem 186\n",
    "This problem was asked by Microsoft.\n",
    "\n",
    "Given an array of positive integers, divide the array into two subsets such that the difference between the sum of the subsets is as small as possible.\n",
    "\n",
    "For example, given `[5, 10, 15, 20, 25]`, return the sets `{10, 25}` and `{5, 15, 20}`, which has a difference of `5`, which is the smallest possible difference.\n",
    "\n",
    "\n",
    "---\n",
    "\n"
   ]
  },
  {
   "cell_type": "code",
   "execution_count": null,
   "metadata": {},
   "outputs": [],
   "source": []
  },
  {
   "cell_type": "markdown",
   "metadata": {},
   "source": [
    "# Problem 187\n",
    "This problem was asked by Google.\n",
    "\n",
    "You are given given a list of rectangles represented by min and max x- and y-coordinates. Compute whether or not a pair of rectangles overlap each other. If one rectangle completely covers another, it is considered overlapping.\n",
    "\n",
    "For example, given the following rectangles:\n",
    "```\n",
    "{\n",
    "    \"top_left\": (1, 4),\n",
    "    \"dimensions\": (3, 3) # width, height\n",
    "},\n",
    "{\n",
    "    \"top_left\": (-1, 3),\n",
    "    \"dimensions\": (2, 1)\n",
    "},\n",
    "{\n",
    "    \"top_left\": (0, 5),\n",
    "    \"dimensions\": (4, 3)\n",
    "}\n",
    "```\n",
    "\n",
    "return `true` as the first and third rectangle overlap each other.\n",
    "\n",
    "\n",
    "---\n",
    "\n"
   ]
  },
  {
   "cell_type": "code",
   "execution_count": null,
   "metadata": {},
   "outputs": [],
   "source": []
  },
  {
   "cell_type": "markdown",
   "metadata": {},
   "source": [
    "# Problem 188\n",
    "This problem was asked by Google.\n",
    "\n",
    "What will this code print out?\n",
    "\n",
    "```\n",
    "def make_functions():\n",
    "    flist = []\n",
    "\n",
    "    for i in [1, 2, 3]:\n",
    "        def print_i():\n",
    "            print(i)\n",
    "        flist.append(print_i)\n",
    "\n",
    "    return flist\n",
    "\n",
    "functions = make_functions()\n",
    "for f in functions:\n",
    "    f()\n",
    "```\n",
    "\n",
    "How can we make it print out what we apparently want?\n",
    "\n",
    "\n",
    "---\n",
    "\n"
   ]
  },
  {
   "cell_type": "code",
   "execution_count": null,
   "metadata": {},
   "outputs": [],
   "source": []
  },
  {
   "cell_type": "markdown",
   "metadata": {},
   "source": [
    "# Problem 189\n",
    "This problem was asked by Google.\n",
    "\n",
    "Given an array of elements, return the length of the longest subarray where all its elements are distinct.\n",
    "\n",
    "For example, given the array `[5, 1, 3, 5, 2, 3, 4, 1]`, return `5` as the longest subarray of distinct elements is `[5, 2, 3, 4, 1]`.\n",
    "\n",
    "\n",
    "---\n",
    "\n"
   ]
  },
  {
   "cell_type": "code",
   "execution_count": null,
   "metadata": {},
   "outputs": [],
   "source": []
  }
 ],
 "metadata": {},
 "nbformat": 4,
 "nbformat_minor": 4
}
