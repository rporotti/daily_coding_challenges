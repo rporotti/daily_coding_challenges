{
 "cells": [
  {
   "cell_type": "markdown",
   "metadata": {},
   "source": [
    "# Problem 320\n",
    "This problem was asked by Amazon.\n",
    "\n",
    "Given a string, find the length of the smallest window that contains every distinct character. Characters may appear more than once in the window.\n",
    "\n",
    "For example, given \"jiujitsu\", you should return 5, corresponding to the final five letters.\n",
    "\n",
    "\n",
    "---\n",
    "\n"
   ]
  },
  {
   "cell_type": "code",
   "execution_count": null,
   "metadata": {},
   "outputs": [],
   "source": []
  },
  {
   "cell_type": "markdown",
   "metadata": {},
   "source": [
    "# Problem 321\n",
    "This problem was asked by PagerDuty.\n",
    "\n",
    "Given a positive integer `N`, find the smallest number of steps it will take to reach `1`.\n",
    "\n",
    "There are two kinds of permitted steps:\n",
    "- You may decrement `N` to `N - 1`.\n",
    "- If `a * b = N`, you may decrement `N` to the larger of `a` and `b`.\n",
    "\n",
    "For example, given `100`, you can reach `1` in five steps with the following route: `100 -> 10 -> 9 -> 3 -> 2 -> 1`.\n",
    "\n",
    "\n",
    "---\n",
    "\n"
   ]
  },
  {
   "cell_type": "code",
   "execution_count": null,
   "metadata": {},
   "outputs": [],
   "source": []
  },
  {
   "cell_type": "markdown",
   "metadata": {},
   "source": [
    "# Problem 322\n",
    "This problem was asked by Flipkart.\n",
    "\n",
    "Starting from `0` on a number line, you would like to make a series of jumps that lead to the integer `N`.\n",
    "\n",
    "On the `i`th jump, you may move exactly `i` places to the left or right.\n",
    "\n",
    "Find a path with the fewest number of jumps required to get from `0` to `N`.\n",
    "\n",
    "\n",
    "---\n",
    "\n"
   ]
  },
  {
   "cell_type": "code",
   "execution_count": null,
   "metadata": {},
   "outputs": [],
   "source": []
  },
  {
   "cell_type": "markdown",
   "metadata": {},
   "source": [
    "# Problem 323\n",
    "This problem was asked by Dropbox.\n",
    "\n",
    "Create an algorithm to efficiently compute the approximate median of a list of numbers.\n",
    "\n",
    "More precisely, given an unordered list of `N` numbers, find an element whose rank is between `N / 4` and `3 * N / 4`, with a high level of certainty, in less than `O(N)` time.\n",
    "\n",
    "\n",
    "---\n",
    "\n"
   ]
  },
  {
   "cell_type": "code",
   "execution_count": null,
   "metadata": {},
   "outputs": [],
   "source": []
  },
  {
   "cell_type": "markdown",
   "metadata": {},
   "source": [
    "# Problem 324\n",
    "This problem was asked by Amazon.\n",
    "\n",
    "Consider the following scenario: there are `N` mice and `N` holes placed at integer points along a line. Given this, find a method that maps mice to holes such that the largest number of steps any mouse takes is minimized.\n",
    "\n",
    "Each move consists of moving one mouse one unit to the left or right, and only one mouse can fit inside each hole.\n",
    "\n",
    "For example, suppose the mice are positioned at `[1, 4, 9, 15]`, and the holes are located at `[10, -5, 0, 16]`. In this case, the best pairing would require us to send the mouse at `1` to the hole at `-5`, so our function should return `6`.\n",
    "\n",
    "\n",
    "---\n",
    "\n"
   ]
  },
  {
   "cell_type": "code",
   "execution_count": null,
   "metadata": {},
   "outputs": [],
   "source": []
  },
  {
   "cell_type": "markdown",
   "metadata": {},
   "source": [
    "# Problem 325\n",
    "This problem was asked by Jane Street.\n",
    "\n",
    "The United States uses the imperial system of weights and measures, which means that there are many different, seemingly arbitrary units to measure distance. There are 12 inches in a foot, 3 feet in a yard, 22 yards in a chain, and so on.\n",
    "\n",
    "Create a data structure that can efficiently convert a certain quantity of one unit to the correct amount of any other unit. You should also allow for additional units to be added to the system.\n",
    "\n",
    "\n",
    "---\n",
    "\n"
   ]
  },
  {
   "cell_type": "code",
   "execution_count": null,
   "metadata": {},
   "outputs": [],
   "source": []
  },
  {
   "cell_type": "markdown",
   "metadata": {},
   "source": [
    "# Problem 326\n",
    "This problem was asked by Netflix.\n",
    "\n",
    "A Cartesian tree with sequence `S` is a binary tree defined by the following two properties:\n",
    "\n",
    "It is heap-ordered, so that each parent value is strictly less than that of its children.\n",
    "An in-order traversal of the tree produces nodes with values that correspond exactly to `S`.\n",
    "For example, given the sequence `[3, 2, 6, 1, 9]`, the resulting Cartesian tree would be:\n",
    "\n",
    "```\n",
    "      1\n",
    "    /   \\   \n",
    "  2       9\n",
    " / \\\n",
    "3   6\n",
    "```\n",
    "\n",
    "Given a sequence S, construct the corresponding Cartesian tree.\n",
    "\n",
    "\n",
    "---\n",
    "\n"
   ]
  },
  {
   "cell_type": "code",
   "execution_count": null,
   "metadata": {},
   "outputs": [],
   "source": []
  },
  {
   "cell_type": "markdown",
   "metadata": {},
   "source": [
    "# Problem 327\n",
    "This problem was asked by Salesforce.\n",
    "\n",
    "Write a program to merge two binary trees. Each node in the new tree should hold a value equal to the sum of the values of the corresponding nodes of the input trees.\n",
    "\n",
    "If only one input tree has a node in a given position, the corresponding node in the new tree should match that input node.\n",
    "\n",
    "\n",
    "---\n",
    "\n"
   ]
  },
  {
   "cell_type": "code",
   "execution_count": null,
   "metadata": {},
   "outputs": [],
   "source": []
  },
  {
   "cell_type": "markdown",
   "metadata": {},
   "source": [
    "# Problem 328\n",
    "This problem was asked by Facebook.\n",
    "\n",
    "In chess, the Elo rating system is used to calculate player strengths based on game results.\n",
    "\n",
    "A simplified description of the Elo system is as follows. Every player begins at the same score. For each subsequent game, the loser transfers some points to the winner, where the amount of points transferred depends on how unlikely the win is. For example, a 1200-ranked player should gain much more points for beating a 2000-ranked player than for beating a 1300-ranked player.\n",
    "\n",
    "Implement this system.\n",
    "\n",
    "\n",
    "---\n",
    "\n"
   ]
  },
  {
   "cell_type": "code",
   "execution_count": null,
   "metadata": {},
   "outputs": [],
   "source": []
  },
  {
   "cell_type": "markdown",
   "metadata": {},
   "source": [
    "# Problem 329\n",
    "This problem was asked by Amazon.\n",
    "\n",
    "The stable marriage problem is defined as follows:\n",
    "\n",
    "Suppose you have `N` men and `N` women, and each person has ranked their prospective opposite-sex partners in order of preference.\n",
    "\n",
    "For example, if `N = 3`, the input could be something like this:\n",
    "\n",
    "```\n",
    "guy_preferences = {\n",
    "    'andrew': ['caroline', 'abigail', 'betty'],\n",
    "    'bill': ['caroline', 'betty', 'abigail'],\n",
    "    'chester': ['betty', 'caroline', 'abigail'],\n",
    "}\n",
    "gal_preferences = {\n",
    "    'abigail': ['andrew', 'bill', 'chester'],\n",
    "    'betty': ['bill', 'andrew', 'chester'],\n",
    "    'caroline': ['bill', 'chester', 'andrew']\n",
    "}\n",
    "```\n",
    "\n",
    "Write an algorithm that pairs the men and women together in such a way that no two people of opposite sex would both rather be with each other than with their current partners.\n",
    "\n",
    "\n",
    "---\n",
    "\n"
   ]
  },
  {
   "cell_type": "code",
   "execution_count": null,
   "metadata": {},
   "outputs": [],
   "source": []
  }
 ],
 "metadata": {},
 "nbformat": 4,
 "nbformat_minor": 4
}
