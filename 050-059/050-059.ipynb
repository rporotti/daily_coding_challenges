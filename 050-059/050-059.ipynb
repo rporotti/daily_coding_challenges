{
 "cells": [
  {
   "cell_type": "markdown",
   "metadata": {},
   "source": [
    "# Problem 50\n",
    "This problem was asked by Microsoft.\n",
    "\n",
    "Suppose an arithmetic expression is given as a binary tree. Each leaf is an integer and each internal node is one of '+', '−', '∗', or '/'.\n",
    "\n",
    "Given the root to such a tree, write a function to evaluate it.\n",
    "\n",
    "For example, given the following tree:\n",
    "\n",
    "```\n",
    "    *\n",
    "   / \\\n",
    "  +    +\n",
    " / \\  / \\\n",
    "3  2  4  5\n",
    "```\n",
    "\n",
    "You should return 45, as it is (3 + 2) * (4 + 5).\n",
    "\n",
    "\n",
    "---\n",
    "\n"
   ]
  },
  {
   "cell_type": "code",
   "execution_count": null,
   "metadata": {},
   "outputs": [],
   "source": []
  },
  {
   "cell_type": "markdown",
   "metadata": {},
   "source": [
    "# Problem 51\n",
    "This problem was asked by Facebook.\n",
    "\n",
    "Given a function that generates perfectly random numbers between 1 and k (inclusive), where k is an input, write a function that shuffles a deck of cards represented as an array using only swaps.\n",
    "\n",
    "It should run in O(N) time.\n",
    "\n",
    "Hint: Make sure each one of the 52! permutations of the deck is equally likely.\n",
    "\n",
    "\n",
    "---\n",
    "\n"
   ]
  },
  {
   "cell_type": "code",
   "execution_count": null,
   "metadata": {},
   "outputs": [],
   "source": []
  },
  {
   "cell_type": "markdown",
   "metadata": {},
   "source": [
    "# Problem 52\n",
    "This problem was asked by Google.\n",
    "\n",
    "Implement an LRU (Least Recently Used) cache. It should be able to be initialized with a cache size n, and contain the following methods:\n",
    "\n",
    "set(key, value): sets key to value. If there are already n items in the cache and we are adding a new item, then it should also remove the least recently used item.\n",
    "get(key): gets the value at key. If no such key exists, return null.\n",
    "Each operation should run in O(1) time.\n",
    "\n",
    "\n",
    "---\n",
    "\n"
   ]
  },
  {
   "cell_type": "code",
   "execution_count": null,
   "metadata": {},
   "outputs": [],
   "source": []
  },
  {
   "cell_type": "markdown",
   "metadata": {},
   "source": [
    "# Problem 53\n",
    "This problem was asked by Apple.\n",
    "\n",
    "Implement a queue using two stacks. Recall that a queue is a FIFO (first-in, first-out) data structure with the following methods: enqueue, which inserts an element into the queue, and dequeue, which removes it.\n",
    "\n",
    "\n",
    "---\n",
    "\n"
   ]
  },
  {
   "cell_type": "code",
   "execution_count": null,
   "metadata": {},
   "outputs": [],
   "source": []
  },
  {
   "cell_type": "markdown",
   "metadata": {},
   "source": [
    "# Problem 54\n",
    "This problem was asked by Dropbox.\n",
    "\n",
    "Sudoku is a puzzle where you're given a partially-filled 9 by 9 grid with digits. The objective is to fill the grid with the constraint that every row, column, and box (3 by 3 subgrid) must contain all of the digits from 1 to 9.\n",
    "\n",
    "Implement an efficient sudoku solver.\n",
    "\n",
    "\n",
    "---\n",
    "\n"
   ]
  },
  {
   "cell_type": "code",
   "execution_count": null,
   "metadata": {},
   "outputs": [],
   "source": []
  },
  {
   "cell_type": "markdown",
   "metadata": {},
   "source": [
    "# Problem 55\n",
    "This problem was asked by Microsoft.\n",
    "\n",
    "Implement a URL shortener with the following methods:\n",
    "\n",
    "* shorten(url), which shortens the url into a six-character alphanumeric string, such as zLg6wl.\n",
    "* restore(short), which expands the shortened string into the original url. If no such shortened string exists, return null.\n",
    "\n",
    "Hint: What if we enter the same URL twice?\n",
    "\n",
    "\n",
    "---\n",
    "\n"
   ]
  },
  {
   "cell_type": "code",
   "execution_count": null,
   "metadata": {},
   "outputs": [],
   "source": []
  },
  {
   "cell_type": "markdown",
   "metadata": {},
   "source": [
    "# Problem 56\n",
    "This problem was asked by Google.\n",
    "\n",
    "Given an undirected graph represented as an adjacency matrix and an integer k, write a function to determine whether each vertex in the graph can be colored such that no two adjacent vertices share the same color using at most k colors.\n",
    "\n",
    "\n",
    "---\n",
    "\n"
   ]
  },
  {
   "cell_type": "code",
   "execution_count": null,
   "metadata": {},
   "outputs": [],
   "source": []
  },
  {
   "cell_type": "markdown",
   "metadata": {},
   "source": [
    "# Problem 57\n",
    "This problem was asked by Amazon.\n",
    "\n",
    "Given a string s and an integer k, break up the string into multiple texts such that each text has a length of k or less. You must break it up so that words don't break across lines. If there's no way to break the text up, then return null.\n",
    "\n",
    "You can assume that there are no spaces at the ends of the string and that there is exactly one space between each word.\n",
    "\n",
    "For example, given the string \"the quick brown fox jumps over the lazy dog\" and k = 10, you should return: [\"the quick\", \"brown fox\", \"jumps over\", \"the lazy\", \"dog\"]. No string in the list has a length of more than 10.\n",
    "\n",
    "\n",
    "---\n",
    "\n"
   ]
  },
  {
   "cell_type": "code",
   "execution_count": null,
   "metadata": {},
   "outputs": [],
   "source": []
  },
  {
   "cell_type": "markdown",
   "metadata": {},
   "source": [
    "# Problem 58\n",
    "This problem was asked by Amazon.\n",
    "\n",
    "An sorted array of integers was rotated an unknown number of times.\n",
    "\n",
    "Given such an array, find the index of the element in the array in faster than linear time. If the element doesn't exist in the array, return null.\n",
    "\n",
    "For example, given the array [13, 18, 25, 2, 8, 10] and the element 8, return 4 (the index of 8 in the array).\n",
    "\n",
    "You can assume all the integers in the array are unique.\n",
    "\n",
    "\n",
    "---\n",
    "\n"
   ]
  },
  {
   "cell_type": "code",
   "execution_count": null,
   "metadata": {},
   "outputs": [],
   "source": []
  },
  {
   "cell_type": "markdown",
   "metadata": {},
   "source": [
    "# Problem 59\n",
    "This problem was asked by Google.\n",
    "\n",
    "Implement a file syncing algorithm for two computers over a low-bandwidth network. What if we know the files in the two computers are mostly the same?\n",
    "\n",
    "\n",
    "---\n",
    "\n"
   ]
  },
  {
   "cell_type": "code",
   "execution_count": null,
   "metadata": {},
   "outputs": [],
   "source": []
  }
 ],
 "metadata": {},
 "nbformat": 4,
 "nbformat_minor": 4
}
