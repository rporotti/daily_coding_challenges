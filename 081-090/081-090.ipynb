{
 "cells": [
  {
   "cell_type": "markdown",
   "metadata": {
    "heading_collapsed": true
   },
   "source": [
    "# Problem 81 (solved)"
   ]
  },
  {
   "attachments": {},
   "cell_type": "markdown",
   "metadata": {
    "hidden": true
   },
   "source": [
    "This problem was asked by Yelp.\n",
    "\n",
    "Given a mapping of digits to letters (as in a phone number), and a digit string, return all possible letters the number could represent. You can assume each valid number in the mapping is a single digit.\n",
    "\n",
    "For example if `{'2': ['a', 'b', 'c'], '3': ['d', 'e', 'f'], }` then `\"23\"` should return `['ad', 'ae', 'af', 'bd', 'be', 'bf', 'cd', 'ce', 'cf']`.\n"
   ]
  },
  {
   "cell_type": "code",
   "execution_count": 101,
   "metadata": {
    "ExecuteTime": {
     "end_time": "2020-12-25T17:06:03.573319Z",
     "start_time": "2020-12-25T17:06:03.561357Z"
    },
    "hidden": true
   },
   "outputs": [],
   "source": [
    "import itertools\n",
    "mapping={\n",
    "    \"2\":[\"a\",\"b\",\"c\"],\n",
    "    \"3\":[\"d\",\"e\",\"f\"],\n",
    "}\n",
    "\n",
    "s=\"23\"\n",
    "\n",
    "def keyboard(mapping, s):\n",
    "    return [\"\".join(x)  for x in list( itertools.product((*[mapping[c] for c in s])) ) ]\n",
    "\n",
    "assert keyboard(mapping,s)==[\"ad\",\"ae\",\"af\",\"bd\",\"be\",\"bf\",\"cd\",\"ce\",\"cf\"]\n"
   ]
  },
  {
   "cell_type": "markdown",
   "metadata": {
    "heading_collapsed": true
   },
   "source": [
    "# Problem 82"
   ]
  },
  {
   "attachments": {},
   "cell_type": "markdown",
   "metadata": {
    "hidden": true
   },
   "source": [
    "This problem was asked Microsoft.\n",
    "\n",
    "Using a read7() method that returns 7 characters from a file, implement readN(n) which reads n characters.\n",
    "\n",
    "For example, given a file with the content \"Hello world\", three read7() returns \"Hello w\", \"orld\" and then \"\".\n"
   ]
  },
  {
   "cell_type": "code",
   "execution_count": 71,
   "metadata": {
    "ExecuteTime": {
     "end_time": "2020-12-25T10:38:44.273114Z",
     "start_time": "2020-12-25T10:38:44.258855Z"
    },
    "hidden": true
   },
   "outputs": [
    {
     "name": "stdout",
     "output_type": "stream",
     "text": [
      "Hello w\n",
      "orld\n",
      "\n",
      "\n"
     ]
    }
   ],
   "source": [
    "class FileProxy:\n",
    "    def __init__(self, contents):\n",
    "        self.contents = contents\n",
    "        self.offset = 0\n",
    "        self.buffer=\"\"\n",
    "\n",
    "    def read7(self):\n",
    "        start = self.offset\n",
    "        end = min(self.offset + 7, len(self.contents))\n",
    "        self.offset = end\n",
    "        return self.contents[start:end].strip()\n",
    "    \n",
    "    def readN(n):\n",
    "        temp=self.read_7()\n",
    "        self.buffer=temp[]\n",
    "    \n",
    "file=FileProxy(\"Hello world\")\n",
    "\n",
    "print(file.read7())\n",
    "print(file.read7())\n",
    "print(file.read7())\n",
    "print(file.read7())"
   ]
  },
  {
   "cell_type": "markdown",
   "metadata": {},
   "source": [
    "# Problem 83 (solved)"
   ]
  },
  {
   "attachments": {},
   "cell_type": "markdown",
   "metadata": {},
   "source": [
    "\n",
    "\n",
    "This problem was asked by Google.\n",
    "\n",
    "Invert a binary tree.\n",
    "\n",
    "For example, given the following tree:\n",
    "```\n",
    "    a\n",
    "   / \\\n",
    "  b   c\n",
    " / \\  /\n",
    "d   e f\n",
    "```\n",
    "\n",
    "should become:\n",
    "```\n",
    "  a\n",
    " / \\\n",
    " c  b\n",
    " \\  / \\\n",
    "  f e  d\n",
    "```"
   ]
  },
  {
   "cell_type": "code",
   "execution_count": 59,
   "metadata": {
    "ExecuteTime": {
     "end_time": "2020-12-25T10:26:13.861615Z",
     "start_time": "2020-12-25T10:26:13.846972Z"
    }
   },
   "outputs": [
    {
     "name": "stdout",
     "output_type": "stream",
     "text": [
      "a\n",
      "b\n",
      "d\n",
      "e\n",
      "c\n",
      "f\n",
      "\n",
      "a\n",
      "c\n",
      "f\n",
      "b\n",
      "e\n",
      "d\n"
     ]
    }
   ],
   "source": [
    "class Node():\n",
    "    def __init__(self,value,left=None,right=None):\n",
    "        self.value=value\n",
    "        self.left=left\n",
    "        self.right=right\n",
    "        \n",
    "\n",
    "root=Node(\"a\",Node(\"b\",Node(\"d\"),Node(\"e\")),Node(\"c\",Node(\"f\")))\n",
    "\n",
    "def DFS(node):\n",
    "    if node is None: return\n",
    "    else:\n",
    "        DFS(node.left)\n",
    "        DFS(node.right)\n",
    "        temp=node.left\n",
    "        node.left=node.right\n",
    "        node.right=temp\n",
    "        \n",
    "def print_tree(node):\n",
    "    if node is None: return\n",
    "    else:\n",
    "        print(node.value)\n",
    "        print_tree(node.left)\n",
    "        print_tree(node.right)\n",
    "        \n",
    "print_tree(root)\n",
    "DFS(root)\n",
    "print(\"\")\n",
    "print_tree(root)"
   ]
  },
  {
   "cell_type": "markdown",
   "metadata": {
    "ExecuteTime": {
     "end_time": "2020-12-24T15:58:17.909563Z",
     "start_time": "2020-12-24T15:58:17.901799Z"
    }
   },
   "source": [
    "# Problem 84 (solved)"
   ]
  },
  {
   "attachments": {},
   "cell_type": "markdown",
   "metadata": {},
   "source": [
    "\n",
    "This problem was asked by Amazon.\n",
    "\n",
    "Given a matrix of 1s and 0s, return the number of \"islands\" in the matrix. A 1 represents land and 0 represents water, so an island is a group of 1s that are neighboring and their perimeter is surrounded by water.\n",
    "\n",
    "For example, this matrix has 4 islands.\n",
    "\n",
    "```\n",
    "1 0 0 0 0\n",
    "0 0 1 1 0\n",
    "0 1 1 0 0\n",
    "0 0 0 0 0\n",
    "1 1 0 0 1\n",
    "1 1 0 0 1\n",
    "```"
   ]
  },
  {
   "cell_type": "code",
   "execution_count": 41,
   "metadata": {
    "ExecuteTime": {
     "end_time": "2020-12-24T20:10:54.625171Z",
     "start_time": "2020-12-24T20:10:54.601156Z"
    }
   },
   "outputs": [],
   "source": [
    "import numpy as np\n",
    "\n",
    "mat=[\n",
    "    [1,0,0,0,0],\n",
    "    [0,0,1,1,0],\n",
    "    [0,1,1,0,0],\n",
    "    [0,0,0,0,0],\n",
    "    [1,1,0,0,1],\n",
    "    [1,1,0,0,1], \n",
    "]\n",
    "mat=np.array(mat)\n",
    "\n",
    "width=len(mat[0])\n",
    "height=len(mat)\n",
    "visited=np.zeros((height,width))\n",
    "\n",
    "def search_island(mat,i,j):\n",
    "    \n",
    "    if visited[i,j]==1: return 0\n",
    "    if (j<0 or i>height or j>width): return 0\n",
    "    \n",
    "    visited[i,j]=1\n",
    "    mat[i,j]=0\n",
    "    for row in range(i-1,i+1):\n",
    "        for column in range(j-1,j+1):\n",
    "            search_island(mat,row,column)\n",
    "\n",
    "def count_islands(mat):\n",
    "    count=0\n",
    "    for i in range(height):\n",
    "        for j in range(width):\n",
    "            if mat[i,j]==1: \n",
    "                count+=1\n",
    "                search_island(mat,i,j)\n",
    "    return count\n",
    "\n",
    "\n",
    "assert count_islands(mat)==4"
   ]
  },
  {
   "cell_type": "markdown",
   "metadata": {},
   "source": [
    "# Problem 85 (solved)"
   ]
  },
  {
   "attachments": {},
   "cell_type": "markdown",
   "metadata": {},
   "source": [
    "\n",
    "This problem was asked by Facebook.\n",
    "\n",
    "Given three 32-bit integers x, y, and b, return x if b is 1 and y if b is 0, using only mathematical or bit operations. You can assume b can only be 1 or 0.\n"
   ]
  },
  {
   "cell_type": "code",
   "execution_count": 26,
   "metadata": {
    "ExecuteTime": {
     "end_time": "2020-12-24T16:45:56.771431Z",
     "start_time": "2020-12-24T16:45:56.763438Z"
    }
   },
   "outputs": [],
   "source": [
    "b=1\n",
    "x=23137\n",
    "y=12393\n",
    "\n",
    "def f(x,y,b):\n",
    "    return b * x + (not b) * y\n",
    "\n",
    "assert f(x,y,0)==y\n",
    "assert f(x,y,1)==x"
   ]
  },
  {
   "cell_type": "markdown",
   "metadata": {
    "ExecuteTime": {
     "end_time": "2020-12-25T17:06:32.201979Z",
     "start_time": "2020-12-25T17:06:32.194324Z"
    }
   },
   "source": [
    "# Problem 86 (solved)"
   ]
  },
  {
   "attachments": {},
   "cell_type": "markdown",
   "metadata": {},
   "source": [
    "\n",
    "This problem was asked by Google.\n",
    "\n",
    "Given a string of parentheses, write a function to compute the minimum number of parentheses to be removed to make the string valid (i.e. each open parenthesis is eventually closed).\n",
    "\n",
    "For example, given the string \"()())()\", you should return 1. Given the string \")(\", you should return 2, since we must remove all of them.\n"
   ]
  },
  {
   "cell_type": "code",
   "execution_count": 131,
   "metadata": {
    "ExecuteTime": {
     "end_time": "2020-12-25T17:25:05.995664Z",
     "start_time": "2020-12-25T17:25:05.988992Z"
    }
   },
   "outputs": [],
   "source": [
    "def remove_parentheses(s):\n",
    "    count=0\n",
    "    for char in s:\n",
    "        if char!=\"(\":\n",
    "            count+=1\n",
    "        else: break\n",
    "    for char in s[count:]:\n",
    "        if char==\"(\": count+=1\n",
    "        if char==\")\": count-=1\n",
    "    return np.abs(count)\n",
    "\n",
    "assert remove_parentheses(\"()())()\")==1\n",
    "assert remove_parentheses(\")(\")==2"
   ]
  },
  {
   "cell_type": "markdown",
   "metadata": {},
   "source": [
    "# Problem 87"
   ]
  },
  {
   "attachments": {},
   "cell_type": "markdown",
   "metadata": {},
   "source": [
    "\n",
    "\n",
    "This problem was asked by Uber.\n",
    "\n",
    "A rule looks like this:\n",
    "\n",
    "`A NE B`\n",
    "\n",
    "This means this means point A is located northeast of point B.\n",
    "\n",
    "`A SW C`\n",
    "\n",
    "means that point A is southwest of C.\n",
    "\n",
    "Given a list of rules, check if the sum of the rules validate. For example:\n",
    "```\n",
    "A N B\n",
    "B NE C\n",
    "C N A\n",
    "```\n",
    "does not validate, since A cannot be both north and south of C.\n",
    "\n",
    "```\n",
    "A NW B\n",
    "A N B\n",
    "```\n",
    "\n",
    "is considered valid."
   ]
  },
  {
   "cell_type": "code",
   "execution_count": 218,
   "metadata": {
    "ExecuteTime": {
     "end_time": "2020-12-27T16:15:28.683803Z",
     "start_time": "2020-12-27T16:15:28.667613Z"
    }
   },
   "outputs": [
    {
     "data": {
      "text/plain": [
       "array([['', '', 'A'],\n",
       "       ['', 'B', ''],\n",
       "       ['', '', '']], dtype='<U1')"
      ]
     },
     "execution_count": 218,
     "metadata": {},
     "output_type": "execute_result"
    }
   ],
   "source": [
    "rules=[\n",
    "    \"A NW B\",\n",
    "    \"A N B\"\n",
    "]\n",
    "\n",
    "mapping={\n",
    "    \"N\":[-1,0],\n",
    "   \"S\":[1,0],\n",
    "    \"E\":[0,1],\n",
    "    \"W\":[0,-1],\n",
    "    \"NW\":[-1,1],\n",
    "    \"NE\":[-1,-1],\n",
    "    \"SW\":[1,1],\n",
    "    \"SE\":[1,-1]\n",
    "}\n",
    "\n",
    "import numpy as np\n",
    "grid=np.zeros(  (len(rules)+1,len(rules)+1)  ,dtype=str)\n",
    "\n",
    "s=rules[0].split()\n",
    "grid[  int(len(grid)/2)   ,  int(len(grid)/2)  ]=s[2]\n",
    "pos=mapping[s[1]]\n",
    "grid[  int(len(grid)/2)+pos[0]  , int(len(grid)/2)+pos[1]  ]=s[0]\n",
    "\n",
    "grid\n",
    "# for rule in rules[1:]:\n",
    "#     s=rule.split()\n",
    "    "
   ]
  },
  {
   "cell_type": "markdown",
   "metadata": {},
   "source": [
    "# Problem 88 (solved)"
   ]
  },
  {
   "attachments": {},
   "cell_type": "markdown",
   "metadata": {},
   "source": [
    "\n",
    "This question was asked by ContextLogic.\n",
    "\n",
    "Implement division of two positive integers without using the division, multiplication, or modulus operators. Return the quotient as an integer, ignoring the remainder.\n"
   ]
  },
  {
   "cell_type": "code",
   "execution_count": 236,
   "metadata": {
    "ExecuteTime": {
     "end_time": "2020-12-27T17:02:43.361042Z",
     "start_time": "2020-12-27T17:02:43.354637Z"
    }
   },
   "outputs": [],
   "source": [
    "def division(a,b):\n",
    "    count=0\n",
    "    while a>=b:\n",
    "        a-=b\n",
    "        count+=1\n",
    "    return count\n",
    "\n",
    "assert division(48,6)==48//6\n",
    "assert division(47,6)==47//6\n",
    "assert division(4,2)==4//2"
   ]
  },
  {
   "cell_type": "markdown",
   "metadata": {},
   "source": [
    "# Problem 89"
   ]
  },
  {
   "attachments": {},
   "cell_type": "markdown",
   "metadata": {},
   "source": [
    "\n",
    "This problem was asked by LinkedIn.\n",
    "\n",
    "Determine whether a tree is a valid binary search tree.\n",
    "\n",
    "A binary search tree is a tree with two children, left and right, and satisfies the constraint that the key in the left child must be less than or equal to the root and the key in the right child must be greater than or equal to the root."
   ]
  },
  {
   "cell_type": "code",
   "execution_count": 330,
   "metadata": {
    "ExecuteTime": {
     "end_time": "2020-12-28T20:29:12.930359Z",
     "start_time": "2020-12-28T20:29:12.904851Z"
    }
   },
   "outputs": [
    {
     "name": "stdout",
     "output_type": "stream",
     "text": [
      "1\n",
      "2\n",
      "6\n",
      "4\n"
     ]
    },
    {
     "ename": "AssertionError",
     "evalue": "",
     "output_type": "error",
     "traceback": [
      "\u001b[0;31m---------------------------------------------------------------------------\u001b[0m",
      "\u001b[0;31mAssertionError\u001b[0m                            Traceback (most recent call last)",
      "\u001b[0;32m<ipython-input-330-5cdbff7bd5dc>\u001b[0m in \u001b[0;36m<module>\u001b[0;34m\u001b[0m\n\u001b[1;32m     39\u001b[0m \u001b[0mroot\u001b[0m\u001b[0;34m=\u001b[0m\u001b[0mNode\u001b[0m\u001b[0;34m(\u001b[0m\u001b[0;36m1\u001b[0m\u001b[0;34m,\u001b[0m\u001b[0mNode\u001b[0m\u001b[0;34m(\u001b[0m\u001b[0;36m2\u001b[0m\u001b[0;34m,\u001b[0m\u001b[0mNode\u001b[0m\u001b[0;34m(\u001b[0m\u001b[0;36m1\u001b[0m\u001b[0;34m)\u001b[0m\u001b[0;34m,\u001b[0m\u001b[0mNode\u001b[0m\u001b[0;34m(\u001b[0m\u001b[0;36m3\u001b[0m\u001b[0;34m)\u001b[0m\u001b[0;34m)\u001b[0m\u001b[0;34m,\u001b[0m\u001b[0mNode\u001b[0m\u001b[0;34m(\u001b[0m\u001b[0;36m6\u001b[0m\u001b[0;34m,\u001b[0m\u001b[0mNode\u001b[0m\u001b[0;34m(\u001b[0m\u001b[0;36m4\u001b[0m\u001b[0;34m)\u001b[0m\u001b[0;34m)\u001b[0m   \u001b[0;34m)\u001b[0m\u001b[0;34m\u001b[0m\u001b[0;34m\u001b[0m\u001b[0m\n\u001b[1;32m     40\u001b[0m \u001b[0;34m\u001b[0m\u001b[0m\n\u001b[0;32m---> 41\u001b[0;31m \u001b[0;32massert\u001b[0m \u001b[0;32mnot\u001b[0m \u001b[0mis_valid_bst\u001b[0m\u001b[0;34m(\u001b[0m\u001b[0mroot\u001b[0m\u001b[0;34m)\u001b[0m\u001b[0;34m\u001b[0m\u001b[0;34m\u001b[0m\u001b[0m\n\u001b[0m",
      "\u001b[0;31mAssertionError\u001b[0m: "
     ]
    }
   ],
   "source": [
    "import sys\n",
    "class Node():\n",
    "    def __init__(self,value,left=None,right=None):\n",
    "        self.value=value\n",
    "        self.left=left\n",
    "        self.right=right\n",
    "\n",
    "        \n",
    "def is_valid_bst(node,value=None,which=None):\n",
    "    if not node: return\n",
    "    \n",
    "    print(node.value)\n",
    "    if which==\"left\":\n",
    "        if node.value>value: return False\n",
    "    if which==\"right\":\n",
    "        if node.value<value: return False\n",
    "    is_valid_bst(node.left,node.value,\"left\")\n",
    "    is_valid_bst(node.right,node.value,\"right\")\n",
    "    \n",
    "    return True\n",
    "\n",
    "# a = Node(3)\n",
    "# b = Node(2)\n",
    "# c = Node(6)\n",
    "# d = Node(1)\n",
    "# e = Node(3)\n",
    "# f = Node(4)\n",
    "\n",
    "# a.left = b\n",
    "# a.right = c\n",
    "# b.left = d\n",
    "# b.right = e\n",
    "# c.left = f\n",
    "\n",
    "\n",
    "# assert is_valid_bst(a)\n",
    "\n",
    "\n",
    "root=Node(1,Node(2,Node(1),Node(3)),Node(6,Node(4))   )\n",
    "\n",
    "assert not is_valid_bst(root)\n"
   ]
  },
  {
   "cell_type": "markdown",
   "metadata": {},
   "source": [
    "# Problem 90 (solved)"
   ]
  },
  {
   "attachments": {},
   "cell_type": "markdown",
   "metadata": {},
   "source": [
    "This question was asked by Google.\n",
    "\n",
    "Given an integer n and a list of integers l, write a function that randomly generates a number from 0 to n-1 that isn't in l (uniform).\n"
   ]
  },
  {
   "cell_type": "code",
   "execution_count": 344,
   "metadata": {
    "ExecuteTime": {
     "end_time": "2020-12-29T20:31:16.979908Z",
     "start_time": "2020-12-29T20:31:11.445667Z"
    }
   },
   "outputs": [
    {
     "data": {
      "text/plain": [
       "(array([143132., 143027.,      0.,      0.,      0., 142270., 142976.,\n",
       "        142768., 142456., 143371.]),\n",
       " array([0. , 0.9, 1.8, 2.7, 3.6, 4.5, 5.4, 6.3, 7.2, 8.1, 9. ]),\n",
       " <BarContainer object of 10 artists>)"
      ]
     },
     "execution_count": 344,
     "metadata": {},
     "output_type": "execute_result"
    },
    {
     "data": {
      "image/png": "[encoded data removed]",
      "text/plain": [
       "<Figure size 432x288 with 1 Axes>"
      ]
     },
     "metadata": {
      "needs_background": "light"
     },
     "output_type": "display_data"
    }
   ],
   "source": [
    "import numpy as np\n",
    "import matplotlib.pyplot as plt\n",
    "def rand(n,l):\n",
    "    num=np.random.randint(n)\n",
    "    while num in l:\n",
    "          num=np.random.randint(n)\n",
    "    return num\n",
    "\n",
    "l=[2,3,4]\n",
    "n=10\n",
    "\n",
    "\n",
    "nums=list(map(lambda x: rand(n,l), range(1000000)))\n",
    "plt.hist(nums,bins=n)"
   ]
  }
 ],
 "metadata": {
  "kernelspec": {
   "display_name": "Python 3",
   "language": "python",
   "name": "python3"
  },
  "language_info": {
   "codemirror_mode": {
    "name": "ipython",
    "version": 3
   },
   "file_extension": ".py",
   "mimetype": "text/x-python",
   "name": "python",
   "nbconvert_exporter": "python",
   "pygments_lexer": "ipython3",
   "version": "3.7.7"
  },
  "toc": {
   "base_numbering": 1,
   "nav_menu": {},
   "number_sections": true,
   "sideBar": true,
   "skip_h1_title": false,
   "title_cell": "Table of Contents",
   "title_sidebar": "Contents",
   "toc_cell": false,
   "toc_position": {},
   "toc_section_display": true,
   "toc_window_display": false
  }
 },
 "nbformat": 4,
 "nbformat_minor": 4
}
