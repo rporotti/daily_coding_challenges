{
 "cells": [
  {
   "cell_type": "markdown",
   "metadata": {},
   "source": [
    "# Problem 250\n",
    "This problem was asked by Google.\n",
    "\n",
    "A cryptarithmetic puzzle is a mathematical game where the digits of some numbers are represented by letters. Each letter represents a unique digit.\n",
    "\n",
    "For example, a puzzle of the form:\n",
    "\n",
    "```\n",
    "  SEND\n",
    "+ MORE\n",
    "--------\n",
    " MONEY\n",
    "```\n",
    "may have the solution:\n",
    "\n",
    "`{'S': 9, 'E': 5, 'N': 6, 'D': 7, 'M': 1, 'O': 0, 'R': 8, 'Y': 2}`\n",
    "\n",
    "Given a three-word puzzle like the one above, create an algorithm that finds a solution.\n",
    "\n",
    "\n",
    "---\n",
    "\n"
   ]
  },
  {
   "cell_type": "code",
   "execution_count": null,
   "metadata": {},
   "outputs": [],
   "source": []
  },
  {
   "cell_type": "markdown",
   "metadata": {},
   "source": [
    "# Problem 251\n",
    "This problem was asked by Amazon.\n",
    "\n",
    "Given an array of a million integers between zero and a billion, out of order, how can you efficiently sort it? Assume that you cannot store an array of a billion elements in memory.\n",
    "\n",
    "\n",
    "---\n",
    "\n"
   ]
  },
  {
   "cell_type": "code",
   "execution_count": null,
   "metadata": {},
   "outputs": [],
   "source": []
  },
  {
   "cell_type": "markdown",
   "metadata": {},
   "source": [
    "# Problem 252\n",
    "This problem was asked by Palantir.\n",
    "\n",
    "The ancient Egyptians used to express fractions as a sum of several terms where each numerator is one. For example, `4 / 13` can be represented as `1 / (4 + 1 / (18 + (1 / 468)))`.\n",
    "\n",
    "Create an algorithm to turn an ordinary fraction `a / b`, where `a < b`, into an Egyptian fraction.\n",
    "\n",
    "\n",
    "---\n",
    "\n"
   ]
  },
  {
   "cell_type": "code",
   "execution_count": null,
   "metadata": {},
   "outputs": [],
   "source": []
  },
  {
   "cell_type": "markdown",
   "metadata": {},
   "source": [
    "# Problem 253\n",
    "This problem was asked by PayPal.\n",
    "\n",
    "Given a string and a number of lines `k`, print the string in zigzag form. In zigzag, characters are printed out diagonally from top left to bottom right until reaching the kth line, then back up to top right, and so on.\n",
    "\n",
    "For example, given the sentence `\"thisisazigzag\"` and `k = 4`, you should print:\n",
    "\n",
    "```\n",
    "t     a     g\n",
    " h   s z   a\n",
    "  i i   i z\n",
    "   s     g\n",
    "```\n",
    "\n",
    "\n",
    "---\n",
    "\n"
   ]
  },
  {
   "cell_type": "code",
   "execution_count": null,
   "metadata": {},
   "outputs": [],
   "source": []
  },
  {
   "cell_type": "markdown",
   "metadata": {},
   "source": [
    "# Problem 254\n",
    "This problem was asked by Yahoo.\n",
    "\n",
    "Recall that a full binary tree is one in which each node is either a leaf node, or has two children. Given a binary tree, convert it to a full one by removing nodes with only one child.\n",
    "\n",
    "For example, given the following tree:\n",
    "\n",
    "```\n",
    "         a\n",
    "      /     \\\n",
    "    b         c\n",
    "  /            \\\n",
    "d                 e\n",
    "  \\             /   \\\n",
    "    f          g     h\n",
    "```\n",
    "\n",
    "You should convert it to:\n",
    "\n",
    "```\n",
    "     a\n",
    "  /     \\\n",
    "f         e\n",
    "        /   \\\n",
    "       g     h\n",
    "```\n",
    "\n",
    "---\n",
    "\n"
   ]
  },
  {
   "cell_type": "code",
   "execution_count": null,
   "metadata": {},
   "outputs": [],
   "source": []
  },
  {
   "cell_type": "markdown",
   "metadata": {},
   "source": [
    "# Problem 255\n",
    "This problem was asked by Microsoft.\n",
    "\n",
    "The transitive closure of a graph is a measure of which vertices are reachable from other vertices. It can be represented as a matrix `M`, where `M[i][j] == 1` if there is a path between vertices `i` and `j`, and otherwise `0`.\n",
    "\n",
    "For example, suppose we are given the following graph in adjacency list form:\n",
    "```\n",
    "graph = [\n",
    "    [0, 1, 3],\n",
    "    [1, 2],\n",
    "    [2],\n",
    "    [3]\n",
    "]\n",
    "```\n",
    "\n",
    "The transitive closure of this graph would be:\n",
    "```\n",
    "[1, 1, 1, 1]\n",
    "[0, 1, 1, 0]\n",
    "[0, 0, 1, 0]\n",
    "[0, 0, 0, 1]\n",
    "```\n",
    "\n",
    "Given a graph, find its transitive closure.\n",
    "\n",
    "\n",
    "---\n",
    "\n"
   ]
  },
  {
   "cell_type": "code",
   "execution_count": null,
   "metadata": {},
   "outputs": [],
   "source": []
  },
  {
   "cell_type": "markdown",
   "metadata": {},
   "source": [
    "# Problem 256\n",
    "This problem was asked by Fitbit.\n",
    "\n",
    "Given a linked list, rearrange the node values such that they appear in alternating `low -> high -> low -> high` ... form. For example, given `1 -> 2 -> 3 -> 4 -> 5`, you should return `1 -> 3 -> 2 -> 5 -> 4`.\n",
    "\n",
    "\n",
    "---\n",
    "\n"
   ]
  },
  {
   "cell_type": "code",
   "execution_count": null,
   "metadata": {},
   "outputs": [],
   "source": []
  },
  {
   "cell_type": "markdown",
   "metadata": {},
   "source": [
    "# Problem 257\n",
    "This problem was asked by WhatsApp.\n",
    "\n",
    "Given an array of integers out of order, determine the bounds of the smallest window that must be sorted in order for the entire array to be sorted. For example, given `[3, 7, 5, 6, 9]`, you should return `(1, 3)`.\n",
    "\n",
    "\n",
    "---\n",
    "\n"
   ]
  },
  {
   "cell_type": "code",
   "execution_count": null,
   "metadata": {},
   "outputs": [],
   "source": []
  },
  {
   "cell_type": "markdown",
   "metadata": {},
   "source": [
    "# Problem 258\n",
    "This problem was asked by Morgan Stanley.\n",
    "\n",
    "In Ancient Greece, it was common to write text with the first line going left to right, the second line going right to left, and continuing to go back and forth. This style was called \"boustrophedon\".\n",
    "\n",
    "Given a binary tree, write an algorithm to print the nodes in boustrophedon order.\n",
    "\n",
    "For example, given the following tree:\n",
    "\n",
    "```\n",
    "       1\n",
    "    /     \\\n",
    "  2         3\n",
    " / \\       / \\\n",
    "4   5     6   7\n",
    "```\n",
    "\n",
    "You should return `[1, 3, 2, 4, 5, 6, 7]`.\n",
    "\n",
    "\n",
    "---\n",
    "\n"
   ]
  },
  {
   "cell_type": "code",
   "execution_count": null,
   "metadata": {},
   "outputs": [],
   "source": []
  },
  {
   "cell_type": "markdown",
   "metadata": {},
   "source": [
    "# Problem 259\n",
    "This problem was asked by Two Sigma.\n",
    "\n",
    "Ghost is a two-person word game where players alternate appending letters to a word. The first person who spells out a word, or creates a prefix for which there is no possible continuation, loses. Here is a sample game:\n",
    "\n",
    "```\n",
    "Player 1: g\n",
    "Player 2: h\n",
    "Player 1: o\n",
    "Player 2: s\n",
    "Player 1: t [loses]\n",
    "```\n",
    "\n",
    "Given a dictionary of words, determine the letters the first player should start with, such that with optimal play they cannot lose.\n",
    "\n",
    "For example, if the dictionary is `[\"cat\", \"calf\", \"dog\", \"bear\"]`, the only winning start letter would be b.\n",
    "\n",
    "\n",
    "---\n",
    "\n"
   ]
  },
  {
   "cell_type": "code",
   "execution_count": null,
   "metadata": {},
   "outputs": [],
   "source": []
  }
 ],
 "metadata": {},
 "nbformat": 4,
 "nbformat_minor": 4
}
