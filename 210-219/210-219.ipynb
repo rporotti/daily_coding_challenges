{
 "cells": [
  {
   "cell_type": "markdown",
   "metadata": {},
   "source": [
    "# Problem 210\n",
    "This problem was asked by Apple.\n",
    "\n",
    "A Collatz sequence in mathematics can be defined as follows. Starting with any positive integer:\n",
    "* If `n` is even, the next number in the sequence is `n / 2`\n",
    "* If `n` is odd, the next number in the sequence is `3n + 1`\n",
    "It is conjectured that every such sequence eventually reaches the number `1`. Test this conjecture.\n",
    "\n",
    "Bonus: What input `n <= 1000000` gives the longest sequence?\n",
    "\n",
    "\n",
    "---\n",
    "\n"
   ]
  },
  {
   "cell_type": "code",
   "execution_count": null,
   "metadata": {},
   "outputs": [],
   "source": []
  },
  {
   "cell_type": "markdown",
   "metadata": {},
   "source": [
    "# Problem 211\n",
    "This problem was asked by Microsoft.\n",
    "\n",
    "Given a string and a pattern, find the starting indices of all occurrences of the pattern in the string. For example, given the string \"abracadabra\" and the pattern \"abr\", you should return `[0, 7]`.\n",
    "\n",
    "\n",
    "---\n",
    "\n"
   ]
  },
  {
   "cell_type": "code",
   "execution_count": null,
   "metadata": {},
   "outputs": [],
   "source": []
  },
  {
   "cell_type": "markdown",
   "metadata": {},
   "source": [
    "# Problem 212\n",
    "This problem was asked by Dropbox.\n",
    "\n",
    "Spreadsheets often use this alphabetical encoding for its columns: \"A\", \"B\", \"C\", ..., \"AA\", \"AB\", ..., \"ZZ\", \"AAA\", \"AAB\", ....\n",
    "\n",
    "Given a column number, return its alphabetical column id. For example, given `1`, return \"A\". Given `27`, return \"AA\".\n",
    "\n",
    "\n",
    "---\n",
    "\n"
   ]
  },
  {
   "cell_type": "code",
   "execution_count": null,
   "metadata": {},
   "outputs": [],
   "source": []
  },
  {
   "cell_type": "markdown",
   "metadata": {},
   "source": [
    "# Problem 213\n",
    "This problem was asked by Snapchat.\n",
    "\n",
    "Given a string of digits, generate all possible valid IP address combinations.\n",
    "\n",
    "IP addresses must follow the format `A.B.C.D`, where `A`, `B`, `C`, and `D` are numbers between `0` and `255`. Zero-prefixed numbers, such as `01` and `065`, are not allowed, except for `0` itself.\n",
    "\n",
    "For example, given \"2542540123\", you should return `['254.25.40.123', '254.254.0.123']`.\n",
    "\n",
    "\n",
    "---\n",
    "\n"
   ]
  },
  {
   "cell_type": "code",
   "execution_count": null,
   "metadata": {},
   "outputs": [],
   "source": []
  },
  {
   "cell_type": "markdown",
   "metadata": {},
   "source": [
    "# Problem 214\n",
    "This problem was asked by Stripe.\n",
    "\n",
    "Given an integer `n`, return the length of the longest consecutive run of `1`s in its binary representation.\n",
    "\n",
    "For example, given `156`, you should return `3`.\n",
    "\n",
    "\n",
    "---\n",
    "\n"
   ]
  },
  {
   "cell_type": "code",
   "execution_count": null,
   "metadata": {},
   "outputs": [],
   "source": []
  },
  {
   "cell_type": "markdown",
   "metadata": {},
   "source": [
    "# Problem 215\n",
    "This problem was asked by Yelp.\n",
    "\n",
    "The horizontal distance of a binary tree node describes how far left or right the node will be when the tree is printed out.\n",
    "\n",
    "More rigorously, we can define it as follows:\n",
    "* The horizontal distance of the root is `0`.\n",
    "* The horizontal distance of a left child is `hd(parent) - 1`.\n",
    "* The horizontal distance of a right child is `hd(parent) + 1`.\n",
    "\n",
    "For example, for the following tree, `hd(1) = -2`, and `hd(6) = 0`.\n",
    "\n",
    "```\n",
    "             5\n",
    "          /     \\\n",
    "        3         7\n",
    "      /  \\      /   \\\n",
    "    1     4    6     9\n",
    "   /                /\n",
    "  0                8\n",
    "```\n",
    "  \n",
    "The bottom view of a tree, then, consists of the lowest node at each horizontal distance. If there are two nodes at the same depth and horizontal distance, either is acceptable.\n",
    "\n",
    "For this tree, for example, the bottom view could be `[0, 1, 3, 6, 8, 9]`.\n",
    "\n",
    "Given the root to a binary tree, return its bottom view.\n",
    "\n",
    "\n",
    "---\n",
    "\n"
   ]
  },
  {
   "cell_type": "code",
   "execution_count": null,
   "metadata": {},
   "outputs": [],
   "source": []
  },
  {
   "cell_type": "markdown",
   "metadata": {},
   "source": [
    "# Problem 216\n",
    "This problem was asked by Facebook.\n",
    "\n",
    "Given a number in Roman numeral format, convert it to decimal.\n",
    "\n",
    "The values of Roman numerals are as follows:\n",
    "```\n",
    "{\n",
    "    'M': 1000,\n",
    "    'D': 500,\n",
    "    'C': 100,\n",
    "    'L': 50,\n",
    "    'X': 10,\n",
    "    'V': 5,\n",
    "    'I': 1\n",
    "}\n",
    "```\n",
    "\n",
    "In addition, note that the Roman numeral system uses subtractive notation for numbers such as `IV` and `XL`.\n",
    "\n",
    "For the input `XIV`, for instance, you should return `14`.\n",
    "\n",
    "\n",
    "---\n",
    "\n"
   ]
  },
  {
   "cell_type": "code",
   "execution_count": null,
   "metadata": {},
   "outputs": [],
   "source": []
  },
  {
   "cell_type": "markdown",
   "metadata": {},
   "source": [
    "# Problem 217\n",
    "This problem was asked by Oracle.\n",
    "\n",
    "We say a number is sparse if there are no adjacent ones in its binary representation. For example, `21` (`10101`) is sparse, but `22` (`10110`) is not. For a given input `N`, find the smallest sparse number greater than or equal to `N`.\n",
    "\n",
    "Do this in faster than `O(N log N)` time.\n",
    "\n",
    "\n",
    "---\n",
    "\n"
   ]
  },
  {
   "cell_type": "code",
   "execution_count": null,
   "metadata": {},
   "outputs": [],
   "source": []
  },
  {
   "cell_type": "markdown",
   "metadata": {},
   "source": [
    "# Problem 218\n",
    "This problem was asked by Yahoo.\n",
    "\n",
    "Write an algorithm that computes the reversal of a directed graph. For example, if a graph consists of `A -> B -> C`, it should become `A <- B <- C`.\n",
    "\n",
    "\n",
    "---\n",
    "\n"
   ]
  },
  {
   "cell_type": "code",
   "execution_count": null,
   "metadata": {},
   "outputs": [],
   "source": []
  },
  {
   "cell_type": "markdown",
   "metadata": {},
   "source": [
    "# Problem 219\n",
    "This problem was asked by Salesforce.\n",
    "\n",
    "Connect 4 is a game where opponents take turns dropping red or black discs into a `7 x 6` vertically suspended grid. The game ends either when one player creates a line of four consecutive discs of their color (horizontally, vertically, or diagonally), or when there are no more spots left in the grid.\n",
    "\n",
    "Design and implement Connect 4.\n",
    "\n",
    "\n",
    "---\n",
    "\n"
   ]
  },
  {
   "cell_type": "code",
   "execution_count": null,
   "metadata": {},
   "outputs": [],
   "source": []
  }
 ],
 "metadata": {},
 "nbformat": 4,
 "nbformat_minor": 4
}
