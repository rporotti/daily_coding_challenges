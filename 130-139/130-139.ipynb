{
 "cells": [
  {
   "cell_type": "markdown",
   "metadata": {},
   "source": [
    "# Problem 130\n",
    "This problem was asked by Facebook.\n",
    "\n",
    "Given an array of numbers representing the stock prices of a company in chronological order and an integer k, return the maximum profit you can make from k buys and sells. You must buy the stock before you can sell it, and you must sell the stock before you can buy it again.\n",
    "\n",
    "For example, given `k = 2` and the array `[5, 2, 4, 0, 1]`, you should return `3`.\n",
    "\n",
    "\n",
    "---\n",
    "\n"
   ]
  },
  {
   "cell_type": "code",
   "execution_count": null,
   "metadata": {},
   "outputs": [],
   "source": []
  },
  {
   "cell_type": "markdown",
   "metadata": {},
   "source": [
    "# Problem 131\n",
    "This question was asked by Snapchat.\n",
    "\n",
    "Given the head to a singly linked list, where each node also has a 'random' pointer that points to anywhere in the linked list, deep clone the list.\n",
    "\n",
    "\n",
    "---\n",
    "\n"
   ]
  },
  {
   "cell_type": "code",
   "execution_count": null,
   "metadata": {},
   "outputs": [],
   "source": []
  },
  {
   "cell_type": "markdown",
   "metadata": {},
   "source": [
    "# Problem 132\n",
    "This question was asked by Riot Games.\n",
    "\n",
    "Design and implement a HitCounter class that keeps track of requests (or hits). It should support the following operations:\n",
    "* `record(timestamp)`: records a hit that happened at timestamp\n",
    "* `total()`: returns the total number of hits recorded\n",
    "* `range(lower, upper)`: returns the number of hits that occurred between timestamps lower and upper (inclusive)\n",
    "\n",
    "Follow-up: What if our system has limited memory?\n",
    "\n",
    "\n",
    "---\n",
    "\n"
   ]
  },
  {
   "cell_type": "code",
   "execution_count": null,
   "metadata": {},
   "outputs": [],
   "source": []
  },
  {
   "cell_type": "markdown",
   "metadata": {},
   "source": [
    "# Problem 133\n",
    "This problem was asked by Amazon.\n",
    "\n",
    "Given a node in a binary tree, return the next bigger element, also known as the inorder successor.\n",
    "(NOTE: I'm assuming this is a binary search tree, because otherwise, the problem makes no sense at all)\n",
    "\n",
    "For example, the inorder successor of 22 is 30.\n",
    "\n",
    "```\n",
    "   10\n",
    "  /  \\\n",
    " 5    30\n",
    "     /  \\\n",
    "   22    35\n",
    "```\n",
    "You can assume each node has a parent pointer.\n",
    "\n",
    "\n",
    "---\n",
    "\n"
   ]
  },
  {
   "cell_type": "code",
   "execution_count": null,
   "metadata": {},
   "outputs": [],
   "source": []
  },
  {
   "cell_type": "markdown",
   "metadata": {},
   "source": [
    "# Problem 134\n",
    "This problem was asked by Facebook.\n",
    "\n",
    "You have a large array with most of the elements as zero.\n",
    "\n",
    "Use a more space-efficient data structure, SparseArray, that implements the same interface:\n",
    "* `init(arr, size)`: initialize with the original large array and size.\n",
    "* `set(i, val)`: updates index at i with val.\n",
    "* `get(i)`: gets the value at index i.\n",
    "\n",
    "\n",
    "---\n",
    "\n"
   ]
  },
  {
   "cell_type": "code",
   "execution_count": null,
   "metadata": {},
   "outputs": [],
   "source": []
  },
  {
   "cell_type": "markdown",
   "metadata": {},
   "source": [
    "# Problem 135\n",
    "This question was asked by Apple.\n",
    "\n",
    "Given a binary tree, find a minimum path sum from root to a leaf.\n",
    "\n",
    "For example, the minimum path in this tree is `[10, 5, 1, -1]`, which has sum 15.\n",
    "\n",
    "```\n",
    "  10\n",
    " /  \\\n",
    "5    5\n",
    " \\     \\\n",
    "   2    1\n",
    "       /\n",
    "     -1\n",
    "```\n",
    "\n",
    "\n",
    "---\n",
    "\n"
   ]
  },
  {
   "cell_type": "code",
   "execution_count": null,
   "metadata": {},
   "outputs": [],
   "source": []
  },
  {
   "cell_type": "markdown",
   "metadata": {},
   "source": [
    "# Problem 136\n",
    "This question was asked by Google.\n",
    "\n",
    "Given an N by M matrix consisting only of 1's and 0's, find the largest rectangle containing only 1's and return its area.\n",
    "\n",
    "For example, given the following matrix:\n",
    "\n",
    "```\n",
    "[[1, 0, 0, 0],\n",
    " [1, 0, 1, 1],\n",
    " [1, 0, 1, 1],\n",
    " [0, 1, 0, 0]]\n",
    "```\n",
    "\n",
    "Return 4.\n",
    "\n",
    "\n",
    "---\n",
    "\n"
   ]
  },
  {
   "cell_type": "code",
   "execution_count": null,
   "metadata": {},
   "outputs": [],
   "source": []
  },
  {
   "cell_type": "markdown",
   "metadata": {},
   "source": [
    "# Problem 137\n",
    "This problem was asked by Amazon.\n",
    "\n",
    "Implement a bit array.\n",
    "\n",
    "A bit array is a space efficient array that holds a value of 1 or 0 at each index.\n",
    "* init(size): initialize the array with size\n",
    "* set(i, val): updates index at i with val where val is either 1 or 0.\n",
    "* get(i): gets the value at index i.\n",
    "\n",
    "\n",
    "---\n",
    "\n"
   ]
  },
  {
   "cell_type": "code",
   "execution_count": null,
   "metadata": {},
   "outputs": [],
   "source": []
  },
  {
   "cell_type": "markdown",
   "metadata": {},
   "source": [
    "# Problem 138\n",
    "This problem was asked by Google.\n",
    "\n",
    "Find the minimum number of coins required to make n cents.\n",
    "\n",
    "You can use standard American denominations, that is, 1¢, 5¢, 10¢, and 25¢.\n",
    "\n",
    "For example, given n = 16, return 3 since we can make it with a 10¢, a 5¢, and a 1¢.\n",
    "\n",
    "\n",
    "---\n",
    "\n"
   ]
  },
  {
   "cell_type": "code",
   "execution_count": null,
   "metadata": {},
   "outputs": [],
   "source": []
  },
  {
   "cell_type": "markdown",
   "metadata": {},
   "source": [
    "# Problem 139\n",
    "This problem was asked by Google.\n",
    "\n",
    "Given an iterator with methods next() and hasNext(), create a wrapper iterator, PeekableInterface, which also implements peek(). peek shows the next element that would be returned on next().\n",
    "\n",
    "Here is the interface:\n",
    "\n",
    "```\n",
    "class PeekableInterface(object):\n",
    "    def __init__(self, iterator):\n",
    "        pass\n",
    "\n",
    "    def peek(self):\n",
    "        pass\n",
    "\n",
    "    def next(self):\n",
    "        pass\n",
    "\n",
    "    def hasNext(self):\n",
    "        pass\n",
    "```\n",
    "\n",
    "\n",
    "---\n",
    "\n"
   ]
  },
  {
   "cell_type": "code",
   "execution_count": null,
   "metadata": {},
   "outputs": [],
   "source": []
  }
 ],
 "metadata": {},
 "nbformat": 4,
 "nbformat_minor": 4
}
