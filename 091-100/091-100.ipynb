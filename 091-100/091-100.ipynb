{
 "cells": [
  {
   "cell_type": "markdown",
   "metadata": {},
   "source": [
    "# Problem 91 (solved)"
   ]
  },
  {
   "attachments": {},
   "cell_type": "markdown",
   "metadata": {},
   "source": [
    "This problem was asked by Dropbox.\n",
    "\n",
    "What does the below code snippet print out? How can we fix the anonymous functions to behave as we'd expect?\n",
    "\n",
    "```python\n",
    "functions = []\n",
    "for i in range(10):\n",
    "    functions.append(lambda : i)\n",
    "\n",
    "for f in functions:\n",
    "    print(f())\n",
    "```"
   ]
  },
  {
   "cell_type": "code",
   "execution_count": 350,
   "metadata": {
    "ExecuteTime": {
     "end_time": "2021-01-03T09:15:07.282736Z",
     "start_time": "2021-01-03T09:15:07.259206Z"
    }
   },
   "outputs": [
    {
     "name": "stdout",
     "output_type": "stream",
     "text": [
      "0\n",
      "1\n",
      "2\n",
      "3\n",
      "4\n",
      "5\n",
      "6\n",
      "7\n",
      "8\n",
      "9\n"
     ]
    }
   ],
   "source": [
    "functions = []\n",
    "for i in range(10):\n",
    "    functions.append(lambda : i)\n",
    "\n",
    "    \n",
    "i=0\n",
    "for f in functions:\n",
    "    print(f())\n",
    "    i+=1"
   ]
  },
  {
   "cell_type": "markdown",
   "metadata": {},
   "source": [
    "# Problem 92"
   ]
  },
  {
   "attachments": {},
   "cell_type": "markdown",
   "metadata": {},
   "source": [
    "This problem was asked by Airbnb.\n",
    "\n",
    "We're given a hashmap with a key courseId and value a list of courseIds, which represents that the prerequsite of courseId is courseIds. Return a sorted ordering of courses such that we can finish all courses.\n",
    "\n",
    "Return null if there is no such ordering.\n",
    "\n",
    "For example, given `{'CSC300': ['CSC100', 'CSC200'], 'CSC200': ['CSC100'], 'CSC100': []}`, should return `['CSC100', 'CSC200', 'CSCS300']`.\n"
   ]
  },
  {
   "cell_type": "code",
   "execution_count": 351,
   "metadata": {
    "ExecuteTime": {
     "end_time": "2021-01-03T09:27:42.765577Z",
     "start_time": "2021-01-03T09:27:42.723894Z"
    }
   },
   "outputs": [
    {
     "ename": "SyntaxError",
     "evalue": "invalid syntax (<ipython-input-351-d286b9eef17b>, line 3)",
     "output_type": "error",
     "traceback": [
      "\u001b[0;36m  File \u001b[0;32m\"<ipython-input-351-d286b9eef17b>\"\u001b[0;36m, line \u001b[0;32m3\u001b[0m\n\u001b[0;31m    \"CSC200\":[\"CSC100\"]\u001b[0m\n\u001b[0m           ^\u001b[0m\n\u001b[0;31mSyntaxError\u001b[0m\u001b[0;31m:\u001b[0m invalid syntax\n"
     ]
    }
   ],
   "source": [
    "courseId={\n",
    "    \"CSC300\":[\"CSC100\",\"CSC200\"],\n",
    "    \"CSC200\":[\"CSC100\"],\n",
    "    \"CSC100\":[]  \n",
    "}\n",
    "\n",
    "def check_courses(courseId):\n",
    "    for Id in courseId:\n",
    "        \n",
    "    "
   ]
  },
  {
   "cell_type": "markdown",
   "metadata": {},
   "source": [
    "# Problem 93"
   ]
  },
  {
   "cell_type": "markdown",
   "metadata": {},
   "source": [
    "This problem was asked by Apple.\n",
    "\n",
    "Given a tree, find the largest tree/subtree that is a BST.\n",
    "\n",
    "Given a tree, return the size of the largest tree/subtree that is a BST.\n"
   ]
  },
  {
   "cell_type": "code",
   "execution_count": 373,
   "metadata": {
    "ExecuteTime": {
     "end_time": "2021-01-05T10:52:40.334604Z",
     "start_time": "2021-01-05T10:52:40.327192Z"
    }
   },
   "outputs": [],
   "source": []
  },
  {
   "cell_type": "markdown",
   "metadata": {},
   "source": [
    "# Problem 94"
   ]
  },
  {
   "cell_type": "markdown",
   "metadata": {},
   "source": [
    "\n",
    "This problem was asked by Google.\n",
    "\n",
    "Given a binary tree of integers, find the maximum path sum between two nodes. The path must go through at least one node, and does not need to go through the root.\n"
   ]
  },
  {
   "cell_type": "code",
   "execution_count": null,
   "metadata": {},
   "outputs": [],
   "source": []
  },
  {
   "cell_type": "markdown",
   "metadata": {},
   "source": [
    "# Problem 95 (solved)"
   ]
  },
  {
   "attachments": {},
   "cell_type": "markdown",
   "metadata": {},
   "source": [
    "This problem was asked by Palantir.\n",
    "\n",
    "Given a number represented by a list of digits, find the next greater permutation of a number, in terms of lexicographic ordering. If there is not greater permutation possible, return the permutation with the lowest value/ordering.\n",
    "\n",
    "For example, the list `[1,2,3]` should return `[1,3,2]`. The list `[1,3,2]` should return `[2,1,3]`. The list `[3,2,1]` should return `[1,2,3]`.\n",
    "\n",
    "Can you perform the operation without allocating extra memory (disregarding the input memory)?\n"
   ]
  },
  {
   "cell_type": "code",
   "execution_count": 374,
   "metadata": {
    "ExecuteTime": {
     "end_time": "2021-01-05T10:54:01.042458Z",
     "start_time": "2021-01-05T10:54:01.031731Z"
    }
   },
   "outputs": [],
   "source": [
    "from itertools import permutations\n",
    "def next_perm(l):\n",
    "    \n",
    "    appo=[list(x) for x in list(permutations(sorted(l)))]\n",
    "    ind=appo.index(l)\n",
    "\n",
    "    if ind==len(appo)-1:\n",
    "        return appo[0]\n",
    "    else:\n",
    "        return appo[ind+1]\n",
    "\n",
    "assert next_perm([1,2,3])==[1,3,2]   \n",
    "assert next_perm([1,3,2])==[2,1,3]\n",
    "assert next_perm([3,2,1])==[1,2,3]"
   ]
  },
  {
   "cell_type": "markdown",
   "metadata": {},
   "source": [
    "# Problem 96 (solved)"
   ]
  },
  {
   "attachments": {},
   "cell_type": "markdown",
   "metadata": {},
   "source": [
    "This problem was asked by Microsoft.\n",
    "\n",
    "Given a number in the form of a list of digits, return all possible permutations.\n",
    "\n",
    "For example, given `[1,2,3]`, return `[[1,2,3],[1,3,2],[2,1,3],[2,3,1],[3,1,2],[3,2,1]]`.\n"
   ]
  },
  {
   "cell_type": "code",
   "execution_count": 355,
   "metadata": {
    "ExecuteTime": {
     "end_time": "2021-01-04T20:21:53.424567Z",
     "start_time": "2021-01-04T20:21:53.414463Z"
    }
   },
   "outputs": [],
   "source": [
    "from itertools import permutations\n",
    "def perm(l):\n",
    "    return [list(x) for x in list(permutations(l))]\n",
    "\n",
    "assert perm([1,2,3])==[[1, 2, 3], [1, 3, 2], [2, 1, 3], [2, 3, 1], [3, 1, 2], [3, 2, 1]]"
   ]
  },
  {
   "cell_type": "markdown",
   "metadata": {},
   "source": [
    "# Problem 97 (solved)"
   ]
  },
  {
   "attachments": {},
   "cell_type": "markdown",
   "metadata": {},
   "source": [
    "\n",
    "\n",
    "This problem was asked by Stripe.\n",
    "\n",
    "Write a map implementation with a get function that lets you retrieve the value of a key at a particular time.\n",
    "\n",
    "It should contain the following methods:\n",
    "```\n",
    "    set(key, value, time): # sets key to value for t = time.\n",
    "    get(key, time): # gets the key at t = time.\n",
    "```\n",
    "\n",
    "The map should work like this. If we set a key at a particular time, it will maintain that value forever or until it gets set at a later time. In other words, when we get a key at a time, it should return the value that was set for that key set at the most recent time.\n",
    "\n",
    "Consider the following examples:\n",
    "\n",
    "```\n",
    "d.set(1, 1, 0) # set key 1 to value 1 at time 0\n",
    "d.set(1, 2, 2) # set key 1 to value 2 at time 2\n",
    "d.get(1, 1) # get key 1 at time 1 should be 1\n",
    "d.get(1, 3) # get key 1 at time 3 should be 2\n",
    "\n",
    "d.set(1, 1, 5) # set key 1 to value 1 at time 5\n",
    "d.get(1, 0) # get key 1 at time 0 should be null\n",
    "d.get(1, 10) # get key 1 at time 10 should be 1\n",
    "\n",
    "d.set(1, 1, 0) # set key 1 to value 1 at time 0\n",
    "d.set(1, 2, 0) # set key 1 to value 2 at time 0\n",
    "d.get(1, 0) # get key 1 at time 0 should be 2\n",
    "```"
   ]
  },
  {
   "cell_type": "code",
   "execution_count": 415,
   "metadata": {
    "ExecuteTime": {
     "end_time": "2021-01-05T16:59:38.866813Z",
     "start_time": "2021-01-05T16:59:38.852463Z"
    }
   },
   "outputs": [],
   "source": [
    "class key():\n",
    "    def __init__(self):\n",
    "        self.keys={}\n",
    "        \n",
    "    def _set(self, key, value, time):\n",
    "        if key not in self.keys:\n",
    "            self.keys[key]=[[value,time]]\n",
    "        else:\n",
    "            self.keys[key].append([value,time])\n",
    "            self.keys[key].sort(key=lambda x: x[1])\n",
    "        \n",
    "    def get(self, key, time):\n",
    "        for i in range(len(self.keys[key])):\n",
    "            \n",
    "            if self.keys[key][::-1][i][1]<=time: \n",
    "                return self.keys[key][::-1][i][0]\n",
    "                \n",
    "        return None\n",
    "    \n",
    "d=key()\n",
    "d._set(1,1,0)\n",
    "d._set(1,2,2)\n",
    "\n",
    "assert d.get(1,1)==1\n",
    "assert d.get(1,3)==2\n",
    "\n",
    "\n",
    "d=key()\n",
    "d._set(1,1,5)\n",
    "assert d.get(1,0)==None\n",
    "assert d.get(1,10)==1\n",
    "\n",
    "d=key()\n",
    "d._set(1, 1, 0)\n",
    "d._set(1, 2, 0)\n",
    "d.get(1, 0)\n",
    "assert d.get(1,0)==2\n"
   ]
  },
  {
   "cell_type": "markdown",
   "metadata": {},
   "source": [
    "# Problem 98 (solved)"
   ]
  },
  {
   "attachments": {},
   "cell_type": "markdown",
   "metadata": {},
   "source": [
    "\n",
    "\n",
    "This problem was asked by Coursera.\n",
    "\n",
    "Given a 2D board of characters and a word, find if the word exists in the grid.\n",
    "\n",
    "The word can be constructed from letters of sequentially adjacent cell, where \"adjacent\" cells are those horizontally or vertically neighboring. The same letter cell may not be used more than once.\n",
    "\n",
    "For example, given the following board:\n",
    "```\n",
    "[\n",
    "  ['A','B','C','E'],\n",
    "  ['S','F','C','S'],\n",
    "  ['A','D','E','E']\n",
    "]\n",
    "```\n",
    "`exists(board, \"ABCCED\")` returns true, `exists(board, \"SEE\")` returns true, `exists(board, \"ABCB\")` returns false.\n"
   ]
  },
  {
   "cell_type": "code",
   "execution_count": 475,
   "metadata": {
    "ExecuteTime": {
     "end_time": "2021-01-06T22:20:37.777125Z",
     "start_time": "2021-01-06T22:20:37.757990Z"
    }
   },
   "outputs": [],
   "source": [
    "\n",
    "def exists_helper(board, letters, i=None, j=None, prev_i=None, prev_j=None):\n",
    "    \n",
    "    if letters==[]: return True\n",
    "    else:\n",
    "        letter=letters[0]\n",
    "        if (i is None):\n",
    "            for n in range(len(board)):\n",
    "                for m in range(len(board[0])):\n",
    "\n",
    "                    if board[n][m]==letter:\n",
    "                        if exists_helper(board, letters[1:], n, m, n, m):\n",
    "                            return True  \n",
    "            return False\n",
    "        else:\n",
    "\n",
    "            for (m,n) in [(-1,0),(1,0),(0,-1),(0,1)]:\n",
    "                pos_i=(i+n)%len(board)\n",
    "                pos_j=(j+m)%len(board[0])\n",
    "\n",
    "                if board[pos_i][pos_j]==letter and (prev_i!=pos_i or prev_j!=pos_j):\n",
    "                    if exists_helper(board, letters[1:], pos_i, pos_j, i, j):\n",
    "                        return True\n",
    "            return False\n",
    "    \n",
    "    \n",
    "    \n",
    "    \n",
    "def exists(board, word):\n",
    "    letters=list(word)\n",
    "    return exists_helper(board, letters)\n",
    "    \n",
    "    \n",
    "board=[\n",
    "  ['A','B','C','E'],\n",
    "  ['S','F','C','S'],\n",
    "  ['A','D','E','E']\n",
    "]\n",
    "\n",
    "\n",
    "assert exists(board,\"ABCCED\")==True\n",
    "assert exists(board,\"SEE\")==True\n",
    "assert exists(board,\"ABCB\")==False"
   ]
  },
  {
   "cell_type": "markdown",
   "metadata": {},
   "source": [
    "# Problem 99 (solved)"
   ]
  },
  {
   "attachments": {},
   "cell_type": "markdown",
   "metadata": {
    "ExecuteTime": {
     "end_time": "2021-01-06T21:29:00.907710Z",
     "start_time": "2021-01-06T21:29:00.899531Z"
    }
   },
   "source": [
    "\n",
    "\n",
    "This problem was asked by Microsoft.\n",
    "\n",
    "Given an unsorted array of integers, find the length of the longest consecutive elements sequence.\n",
    "\n",
    "For example, given [100, 4, 200, 1, 3, 2], the longest consecutive element sequence is [1, 2, 3, 4]. Return its length: 4.\n",
    "\n",
    "Your algorithm should run in O(n) complexity.\n"
   ]
  },
  {
   "cell_type": "code",
   "execution_count": 536,
   "metadata": {
    "ExecuteTime": {
     "end_time": "2021-01-08T20:55:06.336527Z",
     "start_time": "2021-01-08T20:55:06.299166Z"
    }
   },
   "outputs": [],
   "source": [
    "def longest_sequence(seq):\n",
    "    seq=set(seq)\n",
    "    max_count=0\n",
    "    for item in seq:\n",
    "        count=0\n",
    "        if item-1 in seq:\n",
    "            appo=item-1\n",
    "            while (appo in seq):\n",
    "                count+=1\n",
    "                appo+=1\n",
    "            if count>max_count:\n",
    "                max_count=count\n",
    "    return max_count\n",
    "    \n",
    "assert longest_sequence([100,4,200,1,3,2])==4\n",
    "\n"
   ]
  },
  {
   "cell_type": "markdown",
   "metadata": {},
   "source": [
    "# Problem 100 (solved)"
   ]
  },
  {
   "attachments": {},
   "cell_type": "markdown",
   "metadata": {},
   "source": [
    "\n",
    "This problem was asked by Google.\n",
    "\n",
    "You are in an infinite 2D grid where you can move in any of the 8 directions:\n",
    "\n",
    "```\n",
    " (x,y) to\n",
    "    (x+1, y),\n",
    "    (x - 1, y),\n",
    "    (x, y+1),\n",
    "    (x, y-1),\n",
    "    (x-1, y-1),\n",
    "    (x+1,y+1),\n",
    "    (x-1,y+1),\n",
    "    (x+1,y-1)\n",
    "```\n",
    "\n",
    "You are given a sequence of points and the order in which you need to cover the points. Give the minimum number of steps in which you can achieve it. You start from the first point.\n",
    "\n",
    "Example:\n",
    "Input: `[(0, 0), (1, 1), (1, 2)]`\n",
    "Output: 2\n",
    "It takes 1 step to move from (0, 0) to (1, 1). It takes one more step to move from (1, 1) to (1, 2).\n"
   ]
  },
  {
   "cell_type": "code",
   "execution_count": 504,
   "metadata": {
    "ExecuteTime": {
     "end_time": "2021-01-08T17:43:51.940688Z",
     "start_time": "2021-01-08T17:43:51.928570Z"
    }
   },
   "outputs": [],
   "source": [
    "def count(order):\n",
    "    order=np.array(order,dtype=np.float32)\n",
    "    count=0\n",
    "    for i in range(1,len(order)):\n",
    "        \n",
    "        appo=np.abs(order[i]-order[i-1])\n",
    "        while np.any(appo!=[0,0]):\n",
    "            \n",
    "            appo-=np.abs(np.ceil(appo/np.linalg.norm(appo)))\n",
    "            count+=1\n",
    "    return count\n",
    "    \n",
    "\n",
    "\n",
    "assert count([(0, 0), (2, 2), (1, 2)])==3\n",
    "assert count([(0, 0), (1, 1), (1, 2)])==2\n",
    "assert count([(1, 1), (1, 2)])==1"
   ]
  }
 ],
 "metadata": {
  "kernelspec": {
   "display_name": "Python 3",
   "language": "python",
   "name": "python3"
  },
  "language_info": {
   "codemirror_mode": {
    "name": "ipython",
    "version": 3
   },
   "file_extension": ".py",
   "mimetype": "text/x-python",
   "name": "python",
   "nbconvert_exporter": "python",
   "pygments_lexer": "ipython3",
   "version": "3.7.7"
  },
  "toc": {
   "base_numbering": 1,
   "nav_menu": {},
   "number_sections": true,
   "sideBar": true,
   "skip_h1_title": false,
   "title_cell": "Table of Contents",
   "title_sidebar": "Contents",
   "toc_cell": false,
   "toc_position": {},
   "toc_section_display": true,
   "toc_window_display": false
  }
 },
 "nbformat": 4,
 "nbformat_minor": 4
}
