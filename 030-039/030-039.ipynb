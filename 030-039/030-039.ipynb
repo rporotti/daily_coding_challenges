{
 "cells": [
  {
   "cell_type": "markdown",
   "metadata": {},
   "source": [
    "# Problem 30\n",
    "You are given an array of non-negative integers that represents a two-dimensional elevation map where each element is unit-width wall and the integer is the height. Suppose it will rain and all spots between two walls get filled up.\n",
    "\n",
    "Compute how many units of water remain trapped on the map in O(N) time and O(1) space.\n",
    "\n",
    "For example, given the input [2, 1, 2], we can hold 1 unit of water in the middle.\n",
    "\n",
    "Given the input [3, 0, 1, 3, 0, 5], we can hold 3 units in the first index, 2 in the second, and 3 in the fourth index (we cannot hold 5 since it would run off to the left), so we can trap 8 units of water.\n",
    "\n",
    "\n",
    "---\n",
    "\n"
   ]
  },
  {
   "cell_type": "code",
   "execution_count": null,
   "metadata": {},
   "outputs": [],
   "source": []
  },
  {
   "cell_type": "markdown",
   "metadata": {},
   "source": [
    "# Problem 31\n",
    "This problem was asked by Google.\n",
    "\n",
    "The edit distance between two strings refers to the minimum number of character insertions, deletions, and substitutions required to change one string to the other. For example, the edit distance between \"kitten\" and \"sitting\" is three: substitute the \"k\" for \"s\", substitute the \"e\" for \"i\", and append a \"g\".\n",
    "\n",
    "Given two strings, compute the edit distance between them.\n",
    "\n",
    "\n",
    "---\n",
    "\n"
   ]
  },
  {
   "cell_type": "code",
   "execution_count": null,
   "metadata": {},
   "outputs": [],
   "source": []
  },
  {
   "cell_type": "markdown",
   "metadata": {},
   "source": [
    "# Problem 32\n",
    "This problem was asked by Jane Street.\n",
    "\n",
    "Suppose you are given a table of currency exchange rates, represented as a 2D array. Determine whether there is a possible arbitrage: that is, whether there is some sequence of trades you can make, starting with some amount A of any currency, so that you can end up with some amount greater than A of that currency.\n",
    "\n",
    "There are no transaction costs and you can trade fractional quantities.\n",
    "\n",
    "\n",
    "---\n",
    "\n"
   ]
  },
  {
   "cell_type": "code",
   "execution_count": null,
   "metadata": {},
   "outputs": [],
   "source": []
  },
  {
   "cell_type": "markdown",
   "metadata": {},
   "source": [
    "# Problem 33\n",
    "This problem was asked by Microsoft.\n",
    "\n",
    "Compute the running median of a sequence of numbers. That is, given a stream of numbers, print out the median of the list so far on each new element.\n",
    "\n",
    "Recall that the median of an even-numbered list is the average of the two middle numbers.\n",
    "\n",
    "For example, given the sequence [2, 1, 5, 7, 2, 0, 5], your algorithm should print out:\n",
    "\n",
    "```\n",
    "2\n",
    "1.5\n",
    "2\n",
    "3.5\n",
    "2\n",
    "2\n",
    "2\n",
    "```\n",
    "\n",
    "\n",
    "---\n",
    "\n"
   ]
  },
  {
   "cell_type": "code",
   "execution_count": null,
   "metadata": {},
   "outputs": [],
   "source": []
  },
  {
   "cell_type": "markdown",
   "metadata": {},
   "source": [
    "# Problem 34\n",
    "This problem was asked by Quora.\n",
    "\n",
    "Given a string, find the palindrome that can be made by inserting the fewest number of characters as possible anywhere in the word. If there is more than one palindrome of minimum length that can be made, return the lexicographically earliest one (the first one alphabetically).\n",
    "\n",
    "For example, given the string \"race\", you should return \"ecarace\", since we can add three letters to it (which is the smallest amount to make a palindrome). There are seven other palindromes that can be made from \"race\" by adding three letters, but \"ecarace\" comes first alphabetically.\n",
    "\n",
    "As another example, given the string \"google\", you should return \"elgoogle\".\n",
    "\n",
    "\n",
    "---\n",
    "\n"
   ]
  },
  {
   "cell_type": "code",
   "execution_count": null,
   "metadata": {},
   "outputs": [],
   "source": []
  },
  {
   "cell_type": "markdown",
   "metadata": {},
   "source": [
    "# Problem 35\n",
    "This problem was asked by Google.\n",
    "\n",
    "Given an array of strictly the characters 'R', 'G', and 'B', segregate the values of the array so that all the Rs come first, the Gs come second, and the Bs come last. You can only swap elements of the array.\n",
    "\n",
    "Do this in linear time and in-place.\n",
    "\n",
    "For example, given the array ['G', 'B', 'R', 'R', 'B', 'R', 'G'], it should become ['R', 'R', 'R', 'G', 'G', 'B', 'B'].\n",
    "\n",
    "\n",
    "---\n",
    "\n"
   ]
  },
  {
   "cell_type": "code",
   "execution_count": null,
   "metadata": {},
   "outputs": [],
   "source": []
  },
  {
   "cell_type": "markdown",
   "metadata": {},
   "source": [
    "# Problem 36\n",
    "This problem was asked by Dropbox.\n",
    "\n",
    "Given the root to a binary search tree, find the second largest node in the tree.\n",
    "\n",
    "\n",
    "---\n",
    "\n"
   ]
  },
  {
   "cell_type": "code",
   "execution_count": null,
   "metadata": {},
   "outputs": [],
   "source": []
  },
  {
   "cell_type": "markdown",
   "metadata": {},
   "source": [
    "# Problem 37\n",
    "This problem was asked by Google.\n",
    "\n",
    "The power set of a set is the set of all its subsets. Write a function that, given a set, generates its power set.\n",
    "\n",
    "For example, given the set {1, 2, 3}, it should return {{}, {1}, {2}, {3}, {1, 2}, {1, 3}, {2, 3}, {1, 2, 3}}.\n",
    "\n",
    "You may also use a list or array to represent a set.\n",
    "\n",
    "\n",
    "---\n",
    "\n"
   ]
  },
  {
   "cell_type": "code",
   "execution_count": null,
   "metadata": {},
   "outputs": [],
   "source": []
  },
  {
   "cell_type": "markdown",
   "metadata": {},
   "source": [
    "# Problem 38\n",
    "This problem was asked by Microsoft.\n",
    "\n",
    "You have an N by N board. Write a function that, given N, returns the number of possible arrangements of the board where N queens can be placed on the board without threatening each other, i.e. no two queens share the same row, column, or diagonal.\n",
    "\n",
    "\n",
    "---\n",
    "\n"
   ]
  },
  {
   "cell_type": "code",
   "execution_count": null,
   "metadata": {},
   "outputs": [],
   "source": []
  },
  {
   "cell_type": "markdown",
   "metadata": {},
   "source": [
    "# Problem 39\n",
    "This problem was asked by Dropbox.\n",
    "\n",
    "Conway's Game of Life takes place on an infinite two-dimensional board of square cells. Each cell is either dead or alive, and at each tick, the following rules apply:\n",
    "\n",
    "Any live cell with less than two live neighbours dies.\n",
    "Any live cell with two or three live neighbours remains living.\n",
    "Any live cell with more than three live neighbours dies.\n",
    "Any dead cell with exactly three live neighbours becomes a live cell.\n",
    "A cell neighbours another cell if it is horizontally, vertically, or diagonally adjacent.\n",
    "\n",
    "Implement Conway's Game of Life. It should be able to be initialized with a starting list of live cell coordinates and the number of steps it should run for. Once initialized, it should print out the board state at each step. Since it's an infinite board, print out only the relevant coordinates, i.e. from the top-leftmost live cell to bottom-rightmost live cell.\n",
    "\n",
    "You can represent a live cell with an asterisk `*` and a dead cell with a dot `.`.\n",
    "\n",
    "\n",
    "---\n",
    "\n"
   ]
  },
  {
   "cell_type": "code",
   "execution_count": null,
   "metadata": {},
   "outputs": [],
   "source": []
  }
 ],
 "metadata": {},
 "nbformat": 4,
 "nbformat_minor": 4
}
