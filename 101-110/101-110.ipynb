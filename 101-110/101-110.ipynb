{
 "cells": [
  {
   "cell_type": "markdown",
   "metadata": {},
   "source": [
    "# Problem 101"
   ]
  },
  {
   "attachments": {},
   "cell_type": "markdown",
   "metadata": {},
   "source": [
    "This problem was asked by Alibaba.\n",
    "\n",
    "Given an even number (greater than 2), return two prime numbers whose sum will be equal to the given number.\n",
    "\n",
    "A solution will always exist. See Goldbach’s conjecture.\n",
    "\n",
    "Example:\n",
    "\n",
    "Input: 4\n",
    "Output: 2 + 2 = 4\n",
    "If there are more than one solution possible, return the lexicographically smaller solution.\n",
    "\n",
    "If `[a, b]` is one solution with `a <= b`, and `[c, d]` is another solution with `c <= d`, then\n",
    "\n",
    "```python\n",
    "[a, b] < [c, d]\n",
    "if a < c or a==c and b < d.\n",
    "```"
   ]
  },
  {
   "cell_type": "markdown",
   "metadata": {},
   "source": [
    "# Problem 102 (solved)"
   ]
  },
  {
   "attachments": {},
   "cell_type": "markdown",
   "metadata": {},
   "source": [
    "This problem was asked by Lyft.\n",
    "\n",
    "Given a list of integers and a number K, return which contiguous elements of the list sum to K.\n",
    "\n",
    "For example, if the list is [1, 2, 3, 4, 5] and K is 9, then it should return [2, 3, 4].\n"
   ]
  },
  {
   "cell_type": "code",
   "execution_count": 596,
   "metadata": {
    "ExecuteTime": {
     "end_time": "2021-01-10T19:11:08.659271Z",
     "start_time": "2021-01-10T19:11:08.642087Z"
    }
   },
   "outputs": [
    {
     "name": "stdout",
     "output_type": "stream",
     "text": [
      "1 4\n",
      "2 4\n",
      "3 5\n"
     ]
    }
   ],
   "source": [
    "def sum_K(l,K):\n",
    "    sol=[]\n",
    "    i=0\n",
    "    j=1\n",
    "    while True:\n",
    "        \n",
    "        if sum(l[i:j])==K:\n",
    "            sol.append(l[i:j])\n",
    "        while (sum(l[i:j])<K):     \n",
    "            j+=1\n",
    "        i+=1\n",
    "        if (i==len(l)-1 and j==len(l)):\n",
    "            break\n",
    "    return sol\n",
    "    \n",
    "assert sum_K([1,2,3,4,5],9)==[[2,3,4],[4,5]]"
   ]
  },
  {
   "cell_type": "markdown",
   "metadata": {},
   "source": [
    "# Problem 103"
   ]
  },
  {
   "cell_type": "markdown",
   "metadata": {},
   "source": [
    "\n",
    "\n",
    "This problem was asked by Square.\n",
    "\n",
    "Given a string and a set of characters, return the shortest substring containing all the characters in the set.\n",
    "\n",
    "For example, given the string \"figehaeci\" and the set of characters {a, e, i}, you should return \"aeci\".\n",
    "\n",
    "If there is no substring containing all the characters in the set, return null.\n"
   ]
  },
  {
   "cell_type": "code",
   "execution_count": null,
   "metadata": {},
   "outputs": [],
   "source": []
  },
  {
   "cell_type": "markdown",
   "metadata": {},
   "source": [
    "# Problem 104 (solved)"
   ]
  },
  {
   "attachments": {},
   "cell_type": "markdown",
   "metadata": {},
   "source": [
    "\n",
    "This problem was asked by Google.\n",
    "\n",
    "Determine whether a doubly linked list is a palindrome. What if it’s singly linked?\n",
    "\n",
    "For example, `1 -> 4 -> 3 -> 4 -> 1` returns true while `1 -> 4` returns false.\n"
   ]
  },
  {
   "cell_type": "code",
   "execution_count": 621,
   "metadata": {
    "ExecuteTime": {
     "end_time": "2021-01-12T17:23:22.769060Z",
     "start_time": "2021-01-12T17:23:22.730586Z"
    }
   },
   "outputs": [],
   "source": [
    "class Node():\n",
    "    def __init__(self,val,nex=None,prev=None):\n",
    "        self.value=val\n",
    "        self.next=nex\n",
    "        self.prev=prev\n",
    "    \n",
    "a=Node(1)\n",
    "b=Node(4)\n",
    "c=Node(3)\n",
    "d=Node(4)\n",
    "e=Node(1)\n",
    "a.next=b\n",
    "b.prev=a; b.next=c\n",
    "c.prev=b; c.next=d\n",
    "d.prev=c; d.next=e\n",
    "e.prev=d\n",
    "\n",
    "def palindrome(l):\n",
    "    head=l\n",
    "    curr=l\n",
    "    length=1\n",
    "    while curr.next:\n",
    "        length+=1\n",
    "        curr=curr.next\n",
    "    tail=curr\n",
    "    for i in range(length//2):\n",
    "        if head.value==tail.value:\n",
    "            head=head.next\n",
    "            tail=tail.prev\n",
    "            continue\n",
    "        else:\n",
    "            return False\n",
    "    return True\n",
    "    \n",
    "    \n",
    "    \n",
    "assert palindrome(a)\n",
    "\n",
    "\n",
    "a=Node(1)\n",
    "b=Node(4)\n",
    "a.next=b\n",
    "b.prev=a\n",
    "assert not palindrome(a)"
   ]
  },
  {
   "cell_type": "markdown",
   "metadata": {},
   "source": [
    "# Problem 105"
   ]
  },
  {
   "cell_type": "markdown",
   "metadata": {
    "ExecuteTime": {
     "end_time": "2021-01-15T21:36:37.390554Z",
     "start_time": "2021-01-15T21:36:37.378896Z"
    }
   },
   "source": [
    "This problem was asked by Facebook.\n",
    "\n",
    "Given a function f, and N return a debounced f of N milliseconds.\n",
    "\n",
    "That is, as long as the debounced f continues to be invoked, f itself will not be called for N milliseconds.\n"
   ]
  },
  {
   "cell_type": "code",
   "execution_count": null,
   "metadata": {},
   "outputs": [],
   "source": []
  },
  {
   "cell_type": "markdown",
   "metadata": {},
   "source": [
    "# Problem 106"
   ]
  },
  {
   "cell_type": "markdown",
   "metadata": {},
   "source": [
    "\n",
    "This problem was asked by Pinterest.\n",
    "\n",
    "Given an integer list where each number represents the number of hops you can make, determine whether you can reach to the last index starting at index 0.\n",
    "\n",
    "For example, `[2, 0, 1, 0]` returns `true` while `[1, 1, 0, 1]` returns `false`.\n"
   ]
  },
  {
   "cell_type": "code",
   "execution_count": null,
   "metadata": {},
   "outputs": [],
   "source": []
  },
  {
   "cell_type": "markdown",
   "metadata": {},
   "source": [
    "# Problem 107"
   ]
  },
  {
   "cell_type": "markdown",
   "metadata": {},
   "source": [
    "This problem was asked by Microsoft.\n",
    "\n",
    "Print the nodes in a binary tree level-wise. For example, the following should print `1, 2, 3, 4, 5`.\n",
    "\n",
    "```\n",
    "  1\n",
    " / \\\n",
    "2   3\n",
    "   / \\\n",
    "  4   5\n",
    "```\n"
   ]
  },
  {
   "cell_type": "code",
   "execution_count": null,
   "metadata": {},
   "outputs": [],
   "source": []
  },
  {
   "cell_type": "markdown",
   "metadata": {},
   "source": [
    "# Problem 108"
   ]
  },
  {
   "cell_type": "markdown",
   "metadata": {},
   "source": [
    "\n",
    "This problem was asked by Google.\n",
    "\n",
    "Given two strings A and B, return whether or not A can be shifted some number of times to get B.\n",
    "\n",
    "For example, if A is `abcde` and B is `cdeab`, return true. If A is `abc` and B is `acb`, return false.\n"
   ]
  },
  {
   "cell_type": "code",
   "execution_count": null,
   "metadata": {},
   "outputs": [],
   "source": []
  },
  {
   "cell_type": "markdown",
   "metadata": {},
   "source": [
    "# Problem 109"
   ]
  },
  {
   "cell_type": "markdown",
   "metadata": {
    "ExecuteTime": {
     "end_time": "2021-01-15T21:37:54.306028Z",
     "start_time": "2021-01-15T21:37:54.293711Z"
    }
   },
   "source": [
    "This problem was asked by Cisco.\n",
    "\n",
    "Given an unsigned 8-bit integer, swap its even and odd bits. The 1st and 2nd bit should be swapped, the 3rd and 4th bit should be swapped, and so on.\n",
    "\n",
    "For example, `10101010` should be `01010101`. `11100010` should be `11010001`.\n",
    "\n",
    "Bonus: Can you do this in one line?"
   ]
  },
  {
   "cell_type": "code",
   "execution_count": null,
   "metadata": {},
   "outputs": [],
   "source": []
  },
  {
   "cell_type": "markdown",
   "metadata": {},
   "source": [
    "# Problem 110"
   ]
  },
  {
   "cell_type": "markdown",
   "metadata": {
    "ExecuteTime": {
     "end_time": "2021-01-15T21:38:12.334770Z",
     "start_time": "2021-01-15T21:38:12.324061Z"
    }
   },
   "source": [
    "This problem was asked by Facebook.\n",
    "\n",
    "Given a binary tree, return all paths from the root to leaves.\n",
    "\n",
    "For example, given the tree\n",
    "\n",
    "```\n",
    "   1\n",
    "  / \\\n",
    " 2   3\n",
    "    / \\\n",
    "   4   5\n",
    "```\n",
    "\n",
    "it should return `[[1, 2], [1, 3, 4], [1, 3, 5]]`."
   ]
  },
  {
   "cell_type": "code",
   "execution_count": null,
   "metadata": {},
   "outputs": [],
   "source": []
  }
 ],
 "metadata": {
  "kernelspec": {
   "display_name": "Python 3",
   "language": "python",
   "name": "python3"
  },
  "language_info": {
   "codemirror_mode": {
    "name": "ipython",
    "version": 3
   },
   "file_extension": ".py",
   "mimetype": "text/x-python",
   "name": "python",
   "nbconvert_exporter": "python",
   "pygments_lexer": "ipython3",
   "version": "3.7.7"
  },
  "toc": {
   "base_numbering": 1,
   "nav_menu": {},
   "number_sections": true,
   "sideBar": true,
   "skip_h1_title": false,
   "title_cell": "Table of Contents",
   "title_sidebar": "Contents",
   "toc_cell": false,
   "toc_position": {},
   "toc_section_display": true,
   "toc_window_display": false
  }
 },
 "nbformat": 4,
 "nbformat_minor": 4
}
