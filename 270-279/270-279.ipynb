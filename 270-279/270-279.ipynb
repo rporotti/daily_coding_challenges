{
 "cells": [
  {
   "cell_type": "markdown",
   "metadata": {},
   "source": [
    "# Problem 270\n",
    "This problem was asked by Twitter.\n",
    "\n",
    "A network consists of nodes labeled `0` to `N`. You are given a list of edges `(a, b, t)`, describing the time `t` it takes for a message to be sent from node `a` to node `b`. Whenever a node receives a message, it immediately passes the message on to a neighboring node, if possible.\n",
    "\n",
    "Assuming all nodes are connected, determine how long it will take for every node to receive a message that begins at node `0`.\n",
    "\n",
    "For example, given `N = 5`, and the following edges:\n",
    "\n",
    "```\n",
    "edges = [\n",
    "    (0, 1, 5),\n",
    "    (0, 2, 3),\n",
    "    (0, 5, 4),\n",
    "    (1, 3, 8),\n",
    "    (2, 3, 1),\n",
    "    (3, 5, 10),\n",
    "    (3, 4, 5)\n",
    "]\n",
    "```\n",
    "\n",
    "You should return `9`, because propagating the message from `0 -> 2 -> 3 -> 4` will take that much time.\n",
    "\n",
    "\n",
    "---\n",
    "\n"
   ]
  },
  {
   "cell_type": "code",
   "execution_count": null,
   "metadata": {},
   "outputs": [],
   "source": []
  },
  {
   "cell_type": "markdown",
   "metadata": {},
   "source": [
    "# Problem 271\n",
    "This problem was asked by Netflix.\n",
    "\n",
    "Given a sorted list of integers of length `N`, determine if an element `x` is in the list without performing any multiplication, division, or bit-shift operations.\n",
    "\n",
    "Do this in `O(log N)` time.\n",
    "\n",
    "\n",
    "---\n",
    "\n"
   ]
  },
  {
   "cell_type": "code",
   "execution_count": null,
   "metadata": {},
   "outputs": [],
   "source": []
  },
  {
   "cell_type": "markdown",
   "metadata": {},
   "source": [
    "# Problem 272\n",
    "This problem was asked by Spotify.\n",
    "\n",
    "Write a function, `throw_dice(N, faces, total)`, that determines how many ways it is possible to throw `N` dice with some number of faces each to get a specific total.\n",
    "\n",
    "For example, `throw_dice(3, 6, 7)` should equal `15`.\n",
    "\n",
    "\n",
    "---\n",
    "\n"
   ]
  },
  {
   "cell_type": "code",
   "execution_count": null,
   "metadata": {},
   "outputs": [],
   "source": []
  },
  {
   "cell_type": "markdown",
   "metadata": {},
   "source": [
    "# Problem 273\n",
    "This problem was asked by Apple.\n",
    "\n",
    "A fixed point in an array is an element whose value is equal to its index. Given a sorted array of distinct elements, return a fixed point, if one exists. Otherwise, return `False`.\n",
    "\n",
    "For example, given `[-6, 0, 2, 40]`, you should return `2`. Given `[1, 5, 7, 8]`, you should return `False`.\n",
    "\n",
    "\n",
    "---\n",
    "\n"
   ]
  },
  {
   "cell_type": "code",
   "execution_count": null,
   "metadata": {},
   "outputs": [],
   "source": []
  },
  {
   "cell_type": "markdown",
   "metadata": {},
   "source": [
    "# Problem 274\n",
    "This problem was asked by Facebook.\n",
    "\n",
    "Given a string consisting of parentheses, single digits, and positive and negative signs, convert the string into a mathematical expression to obtain the answer.\n",
    "\n",
    "Don't use eval or a similar built-in parser.\n",
    "\n",
    "For example, given `'-1 + (2 + 3)'`, you should return `4`.\n",
    "\n",
    "\n",
    "---\n",
    "\n"
   ]
  },
  {
   "cell_type": "code",
   "execution_count": null,
   "metadata": {},
   "outputs": [],
   "source": []
  },
  {
   "cell_type": "markdown",
   "metadata": {},
   "source": [
    "# Problem 275\n",
    "This problem was asked by Epic.\n",
    "\n",
    "The \"look and say\" sequence is defined as follows: beginning with the term `1`, each subsequent term visually describes the digits appearing in the previous term. The first few terms are as follows:\n",
    "\n",
    "```\n",
    "1\n",
    "11\n",
    "21\n",
    "1211\n",
    "111221\n",
    "```\n",
    "\n",
    "As an example, the fourth term is `1211`, since the third term consists of one `2` and one `1`.\n",
    "\n",
    "Given an integer `N`, print the `Nth` term of this sequence.\n",
    "\n",
    "\n",
    "---\n",
    "\n"
   ]
  },
  {
   "cell_type": "code",
   "execution_count": null,
   "metadata": {},
   "outputs": [],
   "source": []
  },
  {
   "cell_type": "markdown",
   "metadata": {},
   "source": [
    "# Problem 276\n",
    "This problem was asked by Dropbox.\n",
    "\n",
    "Implement an efficient string matching algorithm.\n",
    "\n",
    "That is, given a string of length `N` and a pattern of length `k`, write a program that searches for the pattern in the string with less than `O(N * k)` worst-case time complexity.\n",
    "\n",
    "If the pattern is found, return the start index of its location. If not, return `False`.\n",
    "\n",
    "\n",
    "---\n",
    "\n"
   ]
  },
  {
   "cell_type": "code",
   "execution_count": null,
   "metadata": {},
   "outputs": [],
   "source": []
  },
  {
   "cell_type": "markdown",
   "metadata": {},
   "source": [
    "# Problem 277\n",
    "This problem was asked by Google.\n",
    "\n",
    "UTF-8 is a character encoding that maps each symbol to one, two, three, or four bytes.\n",
    "\n",
    "For example, the Euro sign, `€`, corresponds to the three bytes `11100010 10000010 10101100`. The rules for mapping characters are as follows:\n",
    "* For a single-byte character, the first bit must be zero.\n",
    "* For an `n`-byte character, the first byte starts with `n` ones and a zero. The other `n - 1` bytes all start with `10`.\n",
    "Visually, this can be represented as follows.\n",
    "\n",
    "```\n",
    " Bytes   |           Byte format\n",
    "-----------------------------------------------\n",
    "   1     | 0xxxxxxx\n",
    "   2     | 110xxxxx 10xxxxxx\n",
    "   3     | 1110xxxx 10xxxxxx 10xxxxxx\n",
    "   4     | 11110xxx 10xxxxxx 10xxxxxx 10xxxxxx\n",
    "```\n",
    "\n",
    "Write a program that takes in an array of integers representing byte values, and returns whether it is a valid UTF-8 encoding.\n",
    "\n",
    "\n",
    "---\n",
    "\n"
   ]
  },
  {
   "cell_type": "code",
   "execution_count": null,
   "metadata": {},
   "outputs": [],
   "source": []
  },
  {
   "cell_type": "markdown",
   "metadata": {},
   "source": [
    "# Problem 278\n",
    "This problem was asked by Amazon.\n",
    "\n",
    "Given an integer `N`, construct all possible binary search trees with `N` nodes.\n",
    "\n",
    "\n",
    "---\n",
    "\n"
   ]
  },
  {
   "cell_type": "code",
   "execution_count": null,
   "metadata": {},
   "outputs": [],
   "source": []
  },
  {
   "cell_type": "markdown",
   "metadata": {},
   "source": [
    "# Problem 279\n",
    "This problem was asked by Twitter.\n",
    "\n",
    "A classroom consists of N students, whose friendships can be represented in an adjacency list. For example, the following descibes a situation where `0` is friends with `1` and `2`, `3` is friends with `6`, and so on.\n",
    "\n",
    "```\n",
    "{\n",
    "    0: [1, 2],\n",
    "    1: [0, 5],\n",
    "    2: [0],\n",
    "    3: [6],\n",
    "    4: [],\n",
    "    5: [1],\n",
    "    6: [3]\n",
    "}\n",
    "```\n",
    "Each student can be placed in a friend group, which can be defined as the transitive closure of that student's friendship relations. In other words, this is the smallest set such that no student in the group has any friends outside this group. For the example above, the friend groups would be `{0, 1, 2, 5}, {3, 6}, {4}`.\n",
    "\n",
    "Given a friendship list such as the one above, determine the number of friend groups in the class.\n",
    "\n",
    "\n",
    "---\n",
    "\n"
   ]
  },
  {
   "cell_type": "code",
   "execution_count": null,
   "metadata": {},
   "outputs": [],
   "source": []
  }
 ],
 "metadata": {},
 "nbformat": 4,
 "nbformat_minor": 4
}
