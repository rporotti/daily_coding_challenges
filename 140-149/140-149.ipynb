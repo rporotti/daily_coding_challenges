{
 "cells": [
  {
   "cell_type": "markdown",
   "metadata": {},
   "source": [
    "# Problem 140\n",
    "This problem was asked by Facebook.\n",
    "\n",
    "Given an array of integers in which two elements appear exactly once and all other elements appear exactly twice, find the two elements that appear only once.\n",
    "\n",
    "For example, given the array `[2, 4, 6, 8, 10, 2, 6, 10]`, return 4 and 8. The order does not matter.\n",
    "\n",
    "Follow-up: Can you do this in linear time and constant space?\n",
    "\n",
    "\n",
    "---\n",
    "\n"
   ]
  },
  {
   "cell_type": "code",
   "execution_count": null,
   "metadata": {},
   "outputs": [],
   "source": []
  },
  {
   "cell_type": "markdown",
   "metadata": {},
   "source": [
    "# Problem 141\n",
    "This problem was asked by Microsoft.\n",
    "\n",
    "Implement 3 stacks using a single list:\n",
    "\n",
    "```\n",
    "class Stack:\n",
    "    def __init__(self):\n",
    "        self.list = []\n",
    "\n",
    "    def pop(self, stack_number):\n",
    "        pass\n",
    "\n",
    "    def push(self, item, stack_number):\n",
    "        pass\n",
    "```\n",
    "\n",
    "\n",
    "---\n",
    "\n"
   ]
  },
  {
   "cell_type": "code",
   "execution_count": null,
   "metadata": {},
   "outputs": [],
   "source": []
  },
  {
   "cell_type": "markdown",
   "metadata": {},
   "source": [
    "# Problem 142\n",
    "This problem was asked by Google.\n",
    "\n",
    "You're given a string consisting solely of `(`, `)`, and `*`. \n",
    "`*` can represent either a `(`, `)`, or an empty string. Determine whether the parentheses are balanced.\n",
    "\n",
    "For example, `(()*` and `(*)` are balanced. `)*(` is not balanced.\n",
    "\n",
    "\n",
    "---\n",
    "\n"
   ]
  },
  {
   "cell_type": "code",
   "execution_count": null,
   "metadata": {},
   "outputs": [],
   "source": []
  },
  {
   "cell_type": "markdown",
   "metadata": {},
   "source": [
    "# Problem 143\n",
    "This problem was asked by Amazon.\n",
    "\n",
    "Given a pivot `x`, and a list `lst`, partition the list into three parts.\n",
    "* The first part contains all elements in `lst` that are less than `x`\n",
    "* The second part contains all elements in `lst` that are equal to `x`\n",
    "* The third part contains all elements in `lst` that are larger than `x`\n",
    "Ordering within a part can be arbitrary.\n",
    "\n",
    "For example, given `x = 10` and `lst = [9, 12, 3, 5, 14, 10, 10]`, one partition may be `[9, 3, 5, 10, 10, 12, 14]`\n",
    "\n",
    "\n",
    "---\n",
    "\n"
   ]
  },
  {
   "cell_type": "code",
   "execution_count": null,
   "metadata": {},
   "outputs": [],
   "source": []
  },
  {
   "cell_type": "markdown",
   "metadata": {},
   "source": [
    "# Problem 144\n",
    "This problem was asked by Google.\n",
    "\n",
    "Given an array of numbers and an index `i`, return the index of the nearest larger number of the number at index `i`, where distance is measured in array indices.\n",
    "\n",
    "For example, given `[4, 1, 3, 5, 6]` and index `0`, you should return `3`.\n",
    "\n",
    "If two distances to larger numbers are equal, then return any one of them. If the array at `i` doesn't have a nearest larger integer, then return `null`.\n",
    "\n",
    "Follow-up: If you can preprocess the array, can you do this in constant time?\n",
    "\n",
    "\n",
    "---\n",
    "\n"
   ]
  },
  {
   "cell_type": "code",
   "execution_count": null,
   "metadata": {},
   "outputs": [],
   "source": []
  },
  {
   "cell_type": "markdown",
   "metadata": {},
   "source": [
    "# Problem 145\n",
    "This problem was asked by Google.\n",
    "\n",
    "Given the head of a singly linked list, swap every two nodes and return its head.\n",
    "\n",
    "For example, given `1 -> 2 -> 3 -> 4`, return `2 -> 1 -> 4 -> 3`.\n",
    "\n",
    "\n",
    "---\n",
    "\n"
   ]
  },
  {
   "cell_type": "code",
   "execution_count": null,
   "metadata": {},
   "outputs": [],
   "source": []
  },
  {
   "cell_type": "markdown",
   "metadata": {},
   "source": [
    "# Problem 146\n",
    "This question was asked by BufferBox.\n",
    "\n",
    "Given a binary tree where all nodes are either 0 or 1, prune the tree so that subtrees containing all 0s are removed.\n",
    "\n",
    "For example, given the following tree:\n",
    "```\n",
    "   0\n",
    "  / \\\n",
    " 1   0\n",
    "    / \\\n",
    "   1   0\n",
    "  / \\\n",
    " 0   0\n",
    "```\n",
    "\n",
    "should be pruned to:\n",
    "```\n",
    "   0\n",
    "  / \\\n",
    " 1   0\n",
    "    /\n",
    "   1\n",
    "```\n",
    "\n",
    "We do not remove the tree at the root or its left child because it still has a 1 as a descendant.\n",
    "\n",
    "\n",
    "---\n",
    "\n"
   ]
  },
  {
   "cell_type": "code",
   "execution_count": null,
   "metadata": {},
   "outputs": [],
   "source": []
  },
  {
   "cell_type": "markdown",
   "metadata": {},
   "source": [
    "# Problem 147\n",
    "Given a list, sort it using this method: `reverse(lst, i, j)`, which sorts `lst` from `i` to `j`.\n",
    "\n",
    "\n",
    "---\n",
    "\n"
   ]
  },
  {
   "cell_type": "code",
   "execution_count": null,
   "metadata": {},
   "outputs": [],
   "source": []
  },
  {
   "cell_type": "markdown",
   "metadata": {},
   "source": [
    "# Problem 148\n",
    "This problem was asked by Apple.\n",
    "\n",
    "Gray code is a binary code where each successive value differ in only one bit, as well as when wrapping around. Gray code is common in hardware so that we don't see temporary spurious values during transitions.\n",
    "\n",
    "Given a number of bits `n`, generate a possible gray code for it.\n",
    "\n",
    "For example, for `n = 2`, one gray code would be `[00, 01, 11, 10]`.\n",
    "\n",
    "\n",
    "---\n",
    "\n"
   ]
  },
  {
   "cell_type": "code",
   "execution_count": null,
   "metadata": {},
   "outputs": [],
   "source": []
  },
  {
   "cell_type": "markdown",
   "metadata": {},
   "source": [
    "# Problem 149\n",
    "This problem was asked by Goldman Sachs.\n",
    "\n",
    "Given a list of numbers `L`, implement a method `sum(i, j)` which returns the sum from the sublist `L[i:j]` (including i, excluding j).\n",
    "\n",
    "For example, given `L = [1, 2, 3, 4, 5]`, `sum(1, 3)` should return `sum([2, 3])`, which is `5`.\n",
    "\n",
    "You can assume that you can do some pre-processing. `sum()` should be optimized over the pre-processing step.\n",
    "\n",
    "\n",
    "---\n",
    "\n"
   ]
  },
  {
   "cell_type": "code",
   "execution_count": null,
   "metadata": {},
   "outputs": [],
   "source": []
  }
 ],
 "metadata": {},
 "nbformat": 4,
 "nbformat_minor": 4
}
