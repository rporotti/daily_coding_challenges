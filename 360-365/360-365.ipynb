{
 "cells": [
  {
   "cell_type": "markdown",
   "metadata": {},
   "source": [
    "# Problem 360\n",
    "This problem was asked by Spotify.\n",
    "\n",
    "You have access to ranked lists of songs for various users. Each song is represented as an integer, and more preferred songs appear earlier in each list. For example, the list `[4, 1, 7]` indicates that a user likes song `4` the best, followed by songs `1` and `7`.\n",
    "\n",
    "Given a set of these ranked lists, interleave them to create a playlist that satisfies everyone's priorities.\n",
    "\n",
    "For example, suppose your input is `{[1, 7, 3], [2, 1, 6, 7, 9], [3, 9, 5]}`. In this case a satisfactory playlist could be `[2, 1, 6, 7, 3, 9, 5]`.\n",
    "\n",
    "\n",
    "---\n",
    "\n"
   ]
  },
  {
   "cell_type": "code",
   "execution_count": null,
   "metadata": {},
   "outputs": [],
   "source": []
  },
  {
   "cell_type": "markdown",
   "metadata": {},
   "source": [
    "# Problem 361\n",
    "This problem was asked by Facebook.\n",
    "\n",
    "Mastermind is a two-player game in which the first player attempts to guess the secret code of the second. In this version, the code may be any six-digit number with all distinct digits.\n",
    "\n",
    "Each turn the first player guesses some number, and the second player responds by saying how many digits in this number correctly matched their location in the secret code. For example, if the secret code were `123456`, then a guess of `175286` would score two, since `1` and `6` were correctly placed.\n",
    "\n",
    "Write an algorithm which, given a sequence of guesses and their scores, determines whether there exists some secret code that could have produced them.\n",
    "\n",
    "For example, for the following scores you should return `True`, since they correspond to the secret code `123456`:\n",
    "`{175286: 2, 293416: 3, 654321: 0}`\n",
    "\n",
    "However, it is impossible for any key to result in the following scores, so in this case you should return `False`:\n",
    "`{123456: 4, 345678: 4, 567890: 4}`\n",
    "\n",
    "\n",
    "---\n",
    "\n"
   ]
  },
  {
   "cell_type": "code",
   "execution_count": null,
   "metadata": {},
   "outputs": [],
   "source": []
  },
  {
   "cell_type": "markdown",
   "metadata": {},
   "source": [
    "# Problem 362\n",
    "This problem was asked by Twitter.\n",
    "\n",
    "A strobogrammatic number is a positive number that appears the same after being rotated `180` degrees. For example, `16891` is strobogrammatic.\n",
    "\n",
    "Create a program that finds all strobogrammatic numbers with N digits.\n",
    "\n",
    "\n",
    "---\n",
    "\n"
   ]
  },
  {
   "cell_type": "code",
   "execution_count": null,
   "metadata": {},
   "outputs": [],
   "source": []
  },
  {
   "cell_type": "markdown",
   "metadata": {},
   "source": [
    "# Problem 363\n",
    "Write a function, add_subtract, which alternately adds and subtracts curried arguments. Here are some sample operations:\n",
    "\n",
    "```\n",
    "add_subtract(7) -> 7\n",
    "add_subtract(1)(2)(3) -> 1 + 2 - 3 -> 0\n",
    "add_subtract(-5)(10)(3)(9) -> -5 + 10 - 3 + 9 -> 11\n",
    "```\n",
    "\n",
    "\n",
    "---\n",
    "\n"
   ]
  },
  {
   "cell_type": "code",
   "execution_count": null,
   "metadata": {},
   "outputs": [],
   "source": []
  },
  {
   "cell_type": "markdown",
   "metadata": {},
   "source": [
    "# Problem 364\n",
    "This problem was asked by Facebook.\n",
    "\n",
    "Describe an algorithm to compute the longest increasing subsequence of an array of numbers in `O(n log n)` time.\n",
    "\n",
    "\n",
    "---\n",
    "\n"
   ]
  },
  {
   "cell_type": "code",
   "execution_count": null,
   "metadata": {},
   "outputs": [],
   "source": []
  },
  {
   "cell_type": "markdown",
   "metadata": {},
   "source": [
    "# Problem 365\n",
    "This problem was asked by Google.\n",
    "\n",
    "A quack is a data structure combining properties of both stacks and queues. It can be viewed as a list of elements written left to right such that three operations are possible:\n",
    "- `push(x)`: add a new item `x` to the left end of the list\n",
    "- `pop()`: remove and return the item on the left end of the list\n",
    "- `pull()`: remove the item on the right end of the list.\n",
    "\n",
    "Implement a quack using three stacks and `O(1)` additional memory, so that the amortized time for any push, pop, or pull operation is `O(1)`.\n",
    "\n",
    "\n",
    "---\n"
   ]
  },
  {
   "cell_type": "code",
   "execution_count": null,
   "metadata": {},
   "outputs": [],
   "source": []
  }
 ],
 "metadata": {},
 "nbformat": 4,
 "nbformat_minor": 4
}
