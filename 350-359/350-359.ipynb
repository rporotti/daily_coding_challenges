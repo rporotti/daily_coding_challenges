{
 "cells": [
  {
   "cell_type": "markdown",
   "metadata": {},
   "source": [
    "# Problem 350\n",
    "This problem was asked by Uber.\n",
    "\n",
    "Write a program that determines the smallest number of perfect squares that sum up to `N`.\n",
    "\n",
    "Here are a few examples:\n",
    "- Given `N = 4`, return `1` `(4)`\n",
    "- Given `N = 17`, return `2` `(16 + 1)`\n",
    "- Given `N = 18`, return `2` `(9 + 9)`\n",
    "\n",
    "\n",
    "---\n",
    "\n"
   ]
  },
  {
   "cell_type": "code",
   "execution_count": null,
   "metadata": {},
   "outputs": [],
   "source": []
  },
  {
   "cell_type": "markdown",
   "metadata": {},
   "source": [
    "# Problem 351\n",
    "This problem was asked by Quora.\n",
    "\n",
    "Word sense disambiguation is the problem of determining which sense a word takes on in a particular setting, if that word has multiple meanings. For example, in the sentence \"I went to get money from the bank\", bank probably means the place where people deposit money, not the land beside a river or lake.\n",
    "\n",
    "Suppose you are given a list of meanings for several words, formatted like so:\n",
    "```\n",
    "{\n",
    "    \"word_1\": [\"meaning one\", \"meaning two\", ...],\n",
    "    ...\n",
    "    \"word_n\": [\"meaning one\", \"meaning two\", ...]\n",
    "}\n",
    "```\n",
    "\n",
    "Given a sentence, most of whose words are contained in the meaning list above, create an algorithm that determines the likely sense of each possibly ambiguous word.\n",
    "\n",
    "\n",
    "---\n",
    "\n"
   ]
  },
  {
   "cell_type": "code",
   "execution_count": null,
   "metadata": {},
   "outputs": [],
   "source": []
  },
  {
   "cell_type": "markdown",
   "metadata": {},
   "source": [
    "# Problem 352\n",
    "This problem was asked by Palantir.\n",
    "\n",
    "A typical American-style crossword puzzle grid is an `N x N` matrix with black and white squares, which obeys the following rules:\n",
    "- Every white square must be part of an \"across\" word and a \"down\" word.\n",
    "- No word can be fewer than three letters long.\n",
    "- Every white square must be reachable from every other white square.\n",
    "\n",
    "The grid is rotationally symmetric (for example, the colors of the top left and bottom right squares must match).\n",
    "Write a program to determine whether a given matrix qualifies as a crossword grid.\n",
    "\n",
    "\n",
    "---\n",
    "\n"
   ]
  },
  {
   "cell_type": "code",
   "execution_count": null,
   "metadata": {},
   "outputs": [],
   "source": []
  },
  {
   "cell_type": "markdown",
   "metadata": {},
   "source": [
    "# Problem 353\n",
    "This problem was asked by Square.\n",
    "\n",
    "You are given a histogram consisting of rectangles of different heights. These heights are represented in an input list, such that `[1, 3, 2, 5]` corresponds to the following diagram:\n",
    "\n",
    "```\n",
    "      x\n",
    "      x  \n",
    "  x   x\n",
    "  x x x\n",
    "x x x x\n",
    "```\n",
    "\n",
    "Determine the area of the largest rectangle that can be formed only from the bars of the histogram. For the diagram above, for example, this would be six, representing the `2 x 3` area at the bottom right.\n",
    "\n",
    "\n",
    "---\n",
    "\n"
   ]
  },
  {
   "cell_type": "code",
   "execution_count": null,
   "metadata": {},
   "outputs": [],
   "source": []
  },
  {
   "cell_type": "markdown",
   "metadata": {},
   "source": [
    "# Problem 354\n",
    "This problem was asked by Google.\n",
    "\n",
    "Design a system to crawl and copy all of Wikipedia using a distributed network of machines.\n",
    "\n",
    "More specifically, suppose your server has access to a set of client machines. Your client machines can execute code you have written to access Wikipedia pages, download and parse their data, and write the results to a database.\n",
    "\n",
    "Some questions you may want to consider as part of your solution are:\n",
    "- How will you reach as many pages as possible?\n",
    "- How can you keep track of pages that have already been visited?\n",
    "- How will you deal with your client machines being blacklisted?\n",
    "- How can you update your database when Wikipedia pages are added or updated?\n",
    "\n",
    "\n",
    "---\n",
    "\n"
   ]
  },
  {
   "cell_type": "code",
   "execution_count": null,
   "metadata": {},
   "outputs": [],
   "source": []
  },
  {
   "cell_type": "markdown",
   "metadata": {},
   "source": [
    "# Problem 355\n",
    "This problem was asked by Airbnb.\n",
    "\n",
    "You are given an array `X` of floating-point numbers `x1, x2, ... xn`. These can be rounded up or down to create a corresponding array `Y` of integers `y1, y2, ... yn`.\n",
    "\n",
    "Write an algorithm that finds an appropriate `Y` array with the following properties:\n",
    "- The rounded sums of both arrays should be equal.\n",
    "- The absolute pairwise difference between elements is minimized. In other words, `|x1- y1| + |x2- y2| + ... + |xn- yn|` should be as small as possible.\n",
    "\n",
    "For example, suppose your input is `[1.3, 2.3, 4.4]`. In this case you cannot do better than `[1, 2, 5]`, which has an absolute difference of `|1.3 - 1| + |2.3 - 2| + |4.4 - 5| = 1`.\n",
    "\n",
    "\n",
    "---\n",
    "\n"
   ]
  },
  {
   "cell_type": "code",
   "execution_count": null,
   "metadata": {},
   "outputs": [],
   "source": []
  },
  {
   "cell_type": "markdown",
   "metadata": {},
   "source": [
    "# Problem 356\n",
    "This problem was asked by Netflix.\n",
    "\n",
    "Implement a queue using a set of fixed-length arrays.\n",
    "\n",
    "The queue should support `enqueue`, `dequeue`, and `get_size` operations.\n",
    "\n",
    "\n",
    "---\n",
    "\n"
   ]
  },
  {
   "cell_type": "code",
   "execution_count": null,
   "metadata": {},
   "outputs": [],
   "source": []
  },
  {
   "cell_type": "markdown",
   "metadata": {},
   "source": [
    "# Problem 357\n",
    "This problem was asked by LinkedIn.\n",
    "\n",
    "You are given a binary tree in a peculiar string representation. Each node is written in the form `(lr)`, where `l` corresponds to the left child and `r` corresponds to the right child.\n",
    "\n",
    "If either `l` or `r` is null, it will be represented as a zero. Otherwise, it will be represented by a new `(lr)` pair.\n",
    "\n",
    "Here are a few examples:\n",
    "- A root node with no children: `(00)`\n",
    "- A root node with two children: `((00)(00))`\n",
    "- An unbalanced tree with three consecutive left children: `((((00)0)0)0)`\n",
    "\n",
    "Given this representation, determine the depth of the tree.\n",
    "\n",
    "\n",
    "---\n",
    "\n"
   ]
  },
  {
   "cell_type": "code",
   "execution_count": null,
   "metadata": {},
   "outputs": [],
   "source": []
  },
  {
   "cell_type": "markdown",
   "metadata": {},
   "source": [
    "# Problem 358\n",
    "This problem was asked by Dropbox.\n",
    "\n",
    "Create a data structure that performs all the following operations in `O(1)` time:\n",
    "- `plus`: Add a key with value 1. If the key already exists, increment its value by one.\n",
    "- `minus`: Decrement the value of a key. If the key's value is currently 1, remove it.\n",
    "- `get_max`: Return a key with the highest value.\n",
    "- `get_min`: Return a key with the lowest value.\n",
    "\n",
    "\n",
    "---\n",
    "\n"
   ]
  },
  {
   "cell_type": "code",
   "execution_count": null,
   "metadata": {},
   "outputs": [],
   "source": []
  },
  {
   "cell_type": "markdown",
   "metadata": {},
   "source": [
    "# Problem 359\n",
    "This problem was asked by Slack.\n",
    "\n",
    "You are given a string formed by concatenating several words corresponding to the integers zero through nine and then anagramming.\n",
    "\n",
    "For example, the input could be 'niesevehrtfeev', which is an anagram of 'threefiveseven'. Note that there can be multiple instances of each integer.\n",
    "\n",
    "Given this string, return the original integers in sorted order. In the example above, this would be `357`.\n",
    "\n",
    "\n",
    "---\n",
    "\n"
   ]
  },
  {
   "cell_type": "code",
   "execution_count": null,
   "metadata": {},
   "outputs": [],
   "source": []
  }
 ],
 "metadata": {},
 "nbformat": 4,
 "nbformat_minor": 4
}
