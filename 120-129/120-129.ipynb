{
 "cells": [
  {
   "cell_type": "markdown",
   "metadata": {},
   "source": [
    "# Problem 120\n",
    "This problem was asked by Microsoft.\n",
    "\n",
    "Implement the singleton pattern with a twist. First, instead of storing one instance, store two instances. And in every even call of getInstance(), return the first instance and in every odd call of getInstance(), return the second instance.\n",
    "\n",
    "\n",
    "---\n",
    "\n"
   ]
  },
  {
   "cell_type": "code",
   "execution_count": null,
   "metadata": {},
   "outputs": [],
   "source": []
  },
  {
   "cell_type": "markdown",
   "metadata": {},
   "source": [
    "# Problem 121\n",
    "This problem was asked by Google.\n",
    "\n",
    "Given a string which we can delete at most k, return whether you can make a palindrome.\n",
    "\n",
    "For example, given 'waterrfetawx' and a k of 2, you could delete f and x to get 'waterretaw'.\n",
    "\n",
    "\n",
    "---\n",
    "\n"
   ]
  },
  {
   "cell_type": "code",
   "execution_count": null,
   "metadata": {},
   "outputs": [],
   "source": []
  },
  {
   "cell_type": "markdown",
   "metadata": {},
   "source": [
    "# Problem 122\n",
    "This question was asked by Zillow.\n",
    "\n",
    "You are given a 2-d matrix where each cell represents number of coins in that cell. Assuming we start at `matrix[0][0]`, and can only move right or down, find the maximum number of coins you can collect by the bottom right corner.\n",
    "\n",
    "For example, in this matrix\n",
    "```\n",
    "0 3 1 1\n",
    "2 0 0 4\n",
    "1 5 3 1\n",
    "```\n",
    "\n",
    "The most we can collect is `0 + 2 + 1 + 5 + 3 + 1 = 12` coins.\n",
    "\n",
    "\n",
    "---\n",
    "\n"
   ]
  },
  {
   "cell_type": "code",
   "execution_count": null,
   "metadata": {},
   "outputs": [],
   "source": []
  },
  {
   "cell_type": "markdown",
   "metadata": {},
   "source": [
    "# Problem 123\n",
    "This problem was asked by LinkedIn.\n",
    "\n",
    "Given a string, return whether it represents a number. Here are the different kinds of numbers:\n",
    "* \"10\", a positive integer\n",
    "* \"-10\", a negative integer\n",
    "* \"10.1\", a positive real number\n",
    "* \"-10.1\", a negative real number\n",
    "* \"1e5\", a number in scientific notation\n",
    "\n",
    "And here are examples of non-numbers:\n",
    "* \"a\"\n",
    "* \"x 1\"\n",
    "* \"a -2\"\n",
    "* \"-\"\n",
    "\n",
    "\n",
    "---\n",
    "\n"
   ]
  },
  {
   "cell_type": "code",
   "execution_count": null,
   "metadata": {},
   "outputs": [],
   "source": []
  },
  {
   "cell_type": "markdown",
   "metadata": {},
   "source": [
    "# Problem 124\n",
    "This problem was asked by Microsoft.\n",
    "\n",
    "You have 100 fair coins and you flip them all at the same time. Any that come up tails you set aside. The ones that come up heads you flip again. How many rounds do you expect to play before only one coin remains?\n",
    "\n",
    "Write a function that, given $n$, returns the number of rounds you'd expect to play until one coin remains.\n",
    "\n",
    "\n",
    "---\n",
    "\n"
   ]
  },
  {
   "cell_type": "code",
   "execution_count": null,
   "metadata": {},
   "outputs": [],
   "source": []
  },
  {
   "cell_type": "markdown",
   "metadata": {},
   "source": [
    "# Problem 125\n",
    "This problem was asked by Google.\n",
    "\n",
    "Given the root of a binary search tree, and a target K, return two nodes in the tree whose sum equals K.\n",
    "\n",
    "For example, given the following tree and K of 20\n",
    "\n",
    "```\n",
    "    10\n",
    "   /   \\\n",
    " 5      15\n",
    "       /  \\\n",
    "     11    15\n",
    "```\n",
    "\n",
    "Return the nodes 5 and 15.\n",
    "\n",
    "\n",
    "---\n",
    "\n"
   ]
  },
  {
   "cell_type": "code",
   "execution_count": null,
   "metadata": {},
   "outputs": [],
   "source": []
  },
  {
   "cell_type": "markdown",
   "metadata": {},
   "source": [
    "# Problem 126\n",
    "This problem was asked by Facebook.\n",
    "\n",
    "Write a function that rotates a list by k elements. For example, `[1, 2, 3, 4, 5, 6]` rotated by two becomes `[3, 4, 5, 6, 1, 2]`. Try solving this without creating a copy of the list. How many swap or move operations do you need?\n",
    "\n",
    "\n",
    "---\n",
    "\n"
   ]
  },
  {
   "cell_type": "code",
   "execution_count": null,
   "metadata": {},
   "outputs": [],
   "source": []
  },
  {
   "cell_type": "markdown",
   "metadata": {},
   "source": [
    "# Problem 127\n",
    "This problem was asked by Microsoft.\n",
    "\n",
    "Let's represent an integer in a linked list format by having each node represent a digit in the number. The nodes make up the number in reversed order.\n",
    "\n",
    "For example, the following linked list:\n",
    "\n",
    "`1 -> 2 -> 3 -> 4 -> 5`\n",
    "is the number `54321`.\n",
    "\n",
    "Given two linked lists in this format, return their sum in the same linked list format.\n",
    "\n",
    "For example, given\n",
    "\n",
    "`9 -> 9`\n",
    "`5 -> 2`\n",
    "return `124 (99 + 25)` as:\n",
    "\n",
    "`4 -> 2 -> 1`\n",
    "\n",
    "\n",
    "---\n",
    "\n"
   ]
  },
  {
   "cell_type": "code",
   "execution_count": null,
   "metadata": {},
   "outputs": [],
   "source": []
  },
  {
   "cell_type": "markdown",
   "metadata": {},
   "source": [
    "# Problem 128\n",
    "The Tower of Hanoi is a puzzle game with three rods and n disks, each a different size.\n",
    "\n",
    "All the disks start off on the first rod in a stack. They are ordered by size, with the largest disk on the bottom and the smallest one at the top.\n",
    "\n",
    "The goal of this puzzle is to move all the disks from the first rod to the last rod while following these rules:\n",
    "* You can only move one disk at a time.\n",
    "* A move consists of taking the uppermost disk from one of the stacks and placing it on top of another stack.\n",
    "* You cannot place a larger disk on top of a smaller disk.\n",
    "\n",
    "Write a function that prints out all the steps necessary to complete the Tower of Hanoi. You should assume that the rods are numbered, with the first rod being 1, the second (auxiliary) rod being 2, and the last (goal) rod being 3.\n",
    "\n",
    "For example, with n = 3, we can do this in 7 moves:\n",
    "\n",
    "* Move 1 to 3\n",
    "* Move 1 to 2\n",
    "* Move 3 to 2\n",
    "* Move 1 to 3\n",
    "* Move 2 to 1\n",
    "* Move 2 to 3\n",
    "* Move 1 to 3\n",
    "\n",
    "\n",
    "---\n",
    "\n"
   ]
  },
  {
   "cell_type": "code",
   "execution_count": null,
   "metadata": {},
   "outputs": [],
   "source": []
  },
  {
   "cell_type": "markdown",
   "metadata": {},
   "source": [
    "# Problem 129\n",
    "Given a real number n, find the square root of n. For example, given n = 9, return 3.\n",
    "\n",
    "\n",
    "---\n",
    "\n"
   ]
  },
  {
   "cell_type": "code",
   "execution_count": null,
   "metadata": {},
   "outputs": [],
   "source": []
  }
 ],
 "metadata": {},
 "nbformat": 4,
 "nbformat_minor": 4
}
