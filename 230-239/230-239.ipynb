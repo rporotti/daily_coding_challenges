{
 "cells": [
  {
   "cell_type": "markdown",
   "metadata": {},
   "source": [
    "# Problem 230\n",
    "This problem was asked by Goldman Sachs.\n",
    "\n",
    "You are given `N` identical eggs and access to a building with `k` floors. Your task is to find the lowest floor that will cause an egg to break, if dropped from that floor. Once an egg breaks, it cannot be dropped again. If an egg breaks when dropped from the `x`th floor, you can assume it will also break when dropped from any floor greater than `x`.\n",
    "\n",
    "Write an algorithm that finds the minimum number of trial drops it will take, in the worst case, to identify this floor.\n",
    "\n",
    "For example, if `N = 1` and `k = 5`, we will need to try dropping the egg at every floor, beginning with the first, until we reach the fifth floor, so our solution will be `5`.\n",
    "\n",
    "\n",
    "---\n",
    "\n"
   ]
  },
  {
   "cell_type": "code",
   "execution_count": null,
   "metadata": {},
   "outputs": [],
   "source": []
  },
  {
   "cell_type": "markdown",
   "metadata": {},
   "source": [
    "# Problem 231\n",
    "This problem was asked by IBM.\n",
    "\n",
    "Given a string with repeated characters, rearrange the string so that no two adjacent characters are the same. If this is not possible, return None.\n",
    "\n",
    "For example, given \"aaabbc\", you could return \"ababac\". Given \"aaab\", return None.\n",
    "\n",
    "\n",
    "---\n",
    "\n"
   ]
  },
  {
   "cell_type": "code",
   "execution_count": null,
   "metadata": {},
   "outputs": [],
   "source": []
  },
  {
   "cell_type": "markdown",
   "metadata": {},
   "source": [
    "# Problem 232\n",
    "This problem was asked by Google.\n",
    "\n",
    "Implement a PrefixMapSum class with the following methods:\n",
    "\n",
    "`insert(key: str, value: int)`: Set a given key's value in the map. If the key already exists, overwrite the value.\n",
    "`sum(prefix: str)`: Return the sum of all values of keys that begin with a given prefix.\n",
    "For example, you should be able to run the following code:\n",
    "\n",
    "```\n",
    "mapsum.insert(\"columnar\", 3)\n",
    "assert mapsum.sum(\"col\") == 3\n",
    "```\n",
    "\n",
    "```\n",
    "mapsum.insert(\"column\", 2)\n",
    "assert mapsum.sum(\"col\") == 5\n",
    "```\n",
    "\n",
    "\n",
    "---\n",
    "\n"
   ]
  },
  {
   "cell_type": "code",
   "execution_count": null,
   "metadata": {},
   "outputs": [],
   "source": []
  },
  {
   "cell_type": "markdown",
   "metadata": {},
   "source": [
    "# Problem 233\n",
    "This problem was asked by Apple.\n",
    "\n",
    "Implement the function `fib(n)`, which returns the nth number in the Fibonacci sequence, using only `O(1)` space.\n",
    "\n",
    "\n",
    "---\n",
    "\n"
   ]
  },
  {
   "cell_type": "code",
   "execution_count": null,
   "metadata": {},
   "outputs": [],
   "source": []
  },
  {
   "cell_type": "markdown",
   "metadata": {},
   "source": [
    "# Problem 234\n",
    "This problem was asked by Microsoft.\n",
    "\n",
    "Recall that the minimum spanning tree is the subset of edges of a tree that connect all its vertices with the smallest possible total edge weight. Given an undirected graph with weighted edges, compute the maximum weight spanning tree.\n",
    "\n",
    "\n",
    "---\n",
    "\n"
   ]
  },
  {
   "cell_type": "code",
   "execution_count": null,
   "metadata": {},
   "outputs": [],
   "source": []
  },
  {
   "cell_type": "markdown",
   "metadata": {},
   "source": [
    "# Problem 235\n",
    "This problem was asked by Facebook.\n",
    "\n",
    "Given an array of numbers of length `N`, find both the minimum and maximum using less than `2 * (N - 2)` comparisons.\n",
    "\n",
    "\n",
    "---\n",
    "\n"
   ]
  },
  {
   "cell_type": "code",
   "execution_count": null,
   "metadata": {},
   "outputs": [],
   "source": []
  },
  {
   "cell_type": "markdown",
   "metadata": {},
   "source": [
    "# Problem 236\n",
    "This problem was asked by Nvidia.\n",
    "\n",
    "You are given a list of N points `(x1, y1), (x2, y2), ..., (xN, yN)` representing a polygon. You can assume these points are given in order; that is, you can construct the polygon by connecting point 1 to point 2, point 2 to point 3, and so on, finally looping around to connect point N to point 1.\n",
    "\n",
    "Determine if a new point p lies inside this polygon. (If p is on the boundary of the polygon, you should return False).\n",
    "\n",
    "\n",
    "---\n",
    "\n"
   ]
  },
  {
   "cell_type": "code",
   "execution_count": null,
   "metadata": {},
   "outputs": [],
   "source": []
  },
  {
   "cell_type": "markdown",
   "metadata": {},
   "source": [
    "# Problem 237\n",
    "This problem was asked by Amazon.\n",
    "\n",
    "A tree is symmetric if its data and shape remain unchanged when it is reflected about the root node. The following tree is an example:\n",
    "\n",
    "```\n",
    "        4\n",
    "      / | \\\n",
    "    3   5   3\n",
    "  /           \\\n",
    "9              9\n",
    "```\n",
    "\n",
    "Given a k-ary tree, determine whether it is symmetric.\n",
    "\n",
    "\n",
    "---\n",
    "\n"
   ]
  },
  {
   "cell_type": "code",
   "execution_count": null,
   "metadata": {},
   "outputs": [],
   "source": []
  },
  {
   "cell_type": "markdown",
   "metadata": {},
   "source": [
    "# Problem 238\n",
    "This problem was asked by MIT.\n",
    "\n",
    "Blackjack is a two player card game whose rules are as follows:\n",
    "* The player and then the dealer are each given two cards.\n",
    "* The player can then \"hit\", or ask for arbitrarily many additional cards, so long as their total does not exceed 21.\n",
    "* The dealer must then hit if their total is 16 or lower, otherwise pass.\n",
    "* Finally, the two compare totals, and the one with the greatest sum not exceeding 21 is the winner.\n",
    "\n",
    "For this problem, cards values are counted as follows: each card between 2 and 10 counts as their face value, face cards count as 10, and aces count as 1.\n",
    "\n",
    "Given perfect knowledge of the sequence of cards in the deck, implement a blackjack solver that maximizes the player's score (that is, wins minus losses).\n",
    "\n",
    "\n",
    "---\n",
    "\n"
   ]
  },
  {
   "cell_type": "code",
   "execution_count": null,
   "metadata": {},
   "outputs": [],
   "source": []
  },
  {
   "cell_type": "markdown",
   "metadata": {},
   "source": [
    "# Problem 239\n",
    "This problem was asked by Uber.\n",
    "\n",
    "One way to unlock an Android phone is through a pattern of swipes across a 1-9 keypad.\n",
    "\n",
    "For a pattern to be valid, it must satisfy the following:\n",
    "\n",
    "All of its keys must be distinct.\n",
    "It must not connect two keys by jumping over a third key, unless that key has already been used.\n",
    "For example, `4 - 2 - 1 - 7` is a valid pattern, whereas `2 - 1 - 7` is not.\n",
    "\n",
    "Find the total number of valid unlock patterns of length N, where `1 <= N <= 9`.\n",
    "\n",
    "\n",
    "---\n",
    "\n"
   ]
  },
  {
   "cell_type": "code",
   "execution_count": null,
   "metadata": {},
   "outputs": [],
   "source": []
  }
 ],
 "metadata": {},
 "nbformat": 4,
 "nbformat_minor": 4
}
