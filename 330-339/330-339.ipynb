{
 "cells": [
  {
   "cell_type": "markdown",
   "metadata": {},
   "source": [
    "# Problem 330\n",
    "This problem was asked by Dropbox.\n",
    "\n",
    "A Boolean formula can be said to be satisfiable if there is a way to assign truth values to each variable such that the entire formula evaluates to true.\n",
    "\n",
    "For example, suppose we have the following formula, where the symbol `¬` is used to denote negation:\n",
    "\n",
    "```\n",
    "(¬c OR b) AND (b OR c) AND (¬b OR c) AND (¬c OR ¬a)\n",
    "```\n",
    "\n",
    "One way to satisfy this formula would be to let `a = False`, `b = True`, and `c = True`.\n",
    "\n",
    "This type of formula, with AND statements joining tuples containing exactly one OR, is known as 2-CNF.\n",
    "\n",
    "Given a 2-CNF formula, find a way to assign truth values to satisfy it, or return `False` if this is impossible.\n",
    "\n",
    "\n",
    "---\n",
    "\n"
   ]
  },
  {
   "cell_type": "code",
   "execution_count": null,
   "metadata": {},
   "outputs": [],
   "source": []
  },
  {
   "cell_type": "markdown",
   "metadata": {},
   "source": [
    "# Problem 331\n",
    "This problem was asked by LinkedIn.\n",
    "\n",
    "You are given a string consisting of the letters `x` and `y`, such as `xyxxxyxyy`. In addition, you have an operation called flip, which changes a single `x` to `y` or vice versa.\n",
    "\n",
    "Determine how many times you would need to apply this operation to ensure that all `x`'s come before all `y`'s. In the preceding example, it suffices to flip the second and sixth characters, so you should return `2`.\n",
    "\n",
    "\n",
    "---\n",
    "\n"
   ]
  },
  {
   "cell_type": "code",
   "execution_count": null,
   "metadata": {},
   "outputs": [],
   "source": []
  },
  {
   "cell_type": "markdown",
   "metadata": {},
   "source": [
    "# Problem 332\n",
    "This problem was asked by Jane Street.\n",
    "\n",
    "Given integers `M` and `N`, write a program that counts how many positive integer pairs `(a, b)` satisfy the following conditions:\n",
    "\n",
    "```\n",
    "a + b = M\n",
    "a XOR b = N\n",
    "```\n",
    "\n",
    "\n",
    "---\n",
    "\n"
   ]
  },
  {
   "cell_type": "code",
   "execution_count": null,
   "metadata": {},
   "outputs": [],
   "source": []
  },
  {
   "cell_type": "markdown",
   "metadata": {},
   "source": [
    "# Problem 333\n",
    "This problem was asked by Pinterest.\n",
    "\n",
    "At a party, there is a single person who everyone knows, but who does not know anyone in return (the \"celebrity\"). To help figure out who this is, you have access to an `O(1)` method called `knows(a, b)`, which returns `True` if person `a` knows person `b`, else `False`.\n",
    "\n",
    "Given a list of `N` people and the above operation, find a way to identify the celebrity in `O(N)` time.\n",
    "\n",
    "\n",
    "---\n",
    "\n"
   ]
  },
  {
   "cell_type": "code",
   "execution_count": null,
   "metadata": {},
   "outputs": [],
   "source": []
  },
  {
   "cell_type": "markdown",
   "metadata": {},
   "source": [
    "# Problem 334\n",
    "This problem was asked by Twitter.\n",
    "\n",
    "The `24` game is played as follows. You are given a list of four integers, each between `1` and `9`, in a fixed order. By placing the operators `+`, `-`, `*`, and `/` between the numbers, and grouping them with parentheses, determine whether it is possible to reach the value `24`.\n",
    "\n",
    "For example, given the input `[5, 2, 7, 8]`, you should return True, since `(5 * 2 - 7) * 8 = 24`.\n",
    "\n",
    "Write a function that plays the `24` game.\n",
    "\n",
    "\n",
    "---\n",
    "\n"
   ]
  },
  {
   "cell_type": "code",
   "execution_count": null,
   "metadata": {},
   "outputs": [],
   "source": []
  },
  {
   "cell_type": "markdown",
   "metadata": {},
   "source": [
    "# Problem 335\n",
    "This problem was asked by Google.\n",
    "\n",
    "PageRank is an algorithm used by Google to rank the importance of different websites. While there have been changes over the years, the central idea is to assign each site a score based on the importance of other pages that link to that page.\n",
    "\n",
    "More mathematically, suppose there are `N` sites, and each site `i` has a certain count `Ci` of outgoing links. Then the score for a particular site `Sj` is defined as :\n",
    "\n",
    "```\n",
    "score(Sj) = (1 - d) / N + d * (score(Sx) / Cx+ score(Sy) / Cy+ ... + score(Sz) / Cz))\n",
    "```\n",
    "\n",
    "Here, `Sx, Sy, ..., Sz` denote the scores of all the other sites that have outgoing links to `Sj`, and `d` is a damping factor, usually set to around `0.85`, used to model the probability that a user will stop searching.\n",
    "\n",
    "Given a directed graph of links between various websites, write a program that calculates each site's page rank.\n",
    "\n",
    "\n",
    "---\n",
    "\n"
   ]
  },
  {
   "cell_type": "code",
   "execution_count": null,
   "metadata": {},
   "outputs": [],
   "source": []
  },
  {
   "cell_type": "markdown",
   "metadata": {},
   "source": [
    "# Problem 336\n",
    "This problem was asked by Microsoft.\n",
    "\n",
    "Write a program to determine how many distinct ways there are to create a max heap from a list of `N` given integers.\n",
    "\n",
    "For example, if `N = 3`, and our integers are `[1, 2, 3]`, there are two ways, shown below.\n",
    "\n",
    "```\n",
    "  3      3\n",
    " / \\    / \\\n",
    "1   2  2   1\n",
    "```\n",
    "\n",
    "\n",
    "---\n",
    "\n"
   ]
  },
  {
   "cell_type": "code",
   "execution_count": null,
   "metadata": {},
   "outputs": [],
   "source": []
  },
  {
   "cell_type": "markdown",
   "metadata": {},
   "source": [
    "# Problem 337\n",
    "This problem was asked by Apple.\n",
    "\n",
    "Given a linked list, uniformly shuffle the nodes. What if we want to prioritize space over time?\n",
    "\n",
    "\n",
    "---\n",
    "\n"
   ]
  },
  {
   "cell_type": "code",
   "execution_count": null,
   "metadata": {},
   "outputs": [],
   "source": []
  },
  {
   "cell_type": "markdown",
   "metadata": {},
   "source": [
    "# Problem 338\n",
    "This problem was asked by Facebook.\n",
    "\n",
    "Given an integer `n`, find the next biggest integer with the same number of `1`-bits on. For example, given the number `6` (`0110` in binary), return `9` (`1001`).\n",
    "\n",
    "\n",
    "---\n",
    "\n"
   ]
  },
  {
   "cell_type": "code",
   "execution_count": null,
   "metadata": {},
   "outputs": [],
   "source": []
  },
  {
   "cell_type": "markdown",
   "metadata": {},
   "source": [
    "# Problem 339\n",
    "This problem was asked by Microsoft.\n",
    "\n",
    "Given an array of numbers and a number `k`, determine if there are three entries in the array which add up to the specified number `k`. For example, given `[20, 303, 3, 4, 25]` and `k = 49`, return true as `20 + 4 + 25 = 49`.\n",
    "\n",
    "\n",
    "---\n",
    "\n"
   ]
  },
  {
   "cell_type": "code",
   "execution_count": null,
   "metadata": {},
   "outputs": [],
   "source": []
  }
 ],
 "metadata": {},
 "nbformat": 4,
 "nbformat_minor": 4
}
