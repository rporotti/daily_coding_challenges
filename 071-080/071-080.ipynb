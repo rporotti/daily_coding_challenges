{
 "cells": [
  {
   "cell_type": "markdown",
   "metadata": {},
   "source": [
    "# Problem 71"
   ]
  },
  {
   "cell_type": "markdown",
   "metadata": {},
   "source": [
    "This problem was asked by Two Sigma.\n",
    "\n",
    "Using a function rand7() that returns an integer from 1 to 7 (inclusive) with uniform probability, implement a function rand5() that returns an integer from 1 to 5 (inclusive).\n",
    "\n",
    "(repeated question - Problem 45)"
   ]
  },
  {
   "cell_type": "code",
   "execution_count": null,
   "metadata": {},
   "outputs": [],
   "source": []
  },
  {
   "cell_type": "markdown",
   "metadata": {},
   "source": [
    "# Problem 72"
   ]
  },
  {
   "cell_type": "markdown",
   "metadata": {},
   "source": [
    "\n",
    "This problem was asked by Google.\n",
    "\n",
    "In a directed graph, each node is assigned an uppercase letter. We define a path's value as the number of most frequently-occurring letter along that path. For example, if a path in the graph goes through \"ABACA\", the value of the path is 3, since there are 3 occurrences of 'A' on the path.\n",
    "\n",
    "Given a graph with n nodes and m directed edges, return the largest value path of the graph. If the largest value is infinite, then return null.\n",
    "\n",
    "The graph is represented with a string and an edge list. The i-th character represents the uppercase letter of the i-th node. Each tuple in the edge list (i, j) means there is a directed edge from the i-th node to the j-th node. Self-edges are possible, as well as multi-edges.\n",
    "\n",
    "For example, the following input graph:\n",
    "\n",
    "```\n",
    "ABACA\n",
    "[(0, 1),\n",
    " (0, 2),\n",
    " (2, 3),\n",
    " (3, 4)]\n",
    "```\n",
    "Would have maximum value 3 using the path of vertices `[0, 2, 3, 4], (A, A, C, A)`.\n",
    "\n",
    "The following input graph:\n",
    "\n",
    "```\n",
    "A\n",
    "[(0, 0)]\n",
    "```\n",
    "\n",
    "Should return null, since we have an infinite loop.\n",
    "\n"
   ]
  },
  {
   "cell_type": "code",
   "execution_count": null,
   "metadata": {},
   "outputs": [],
   "source": []
  },
  {
   "cell_type": "markdown",
   "metadata": {},
   "source": [
    "# Problem 73 (solved)"
   ]
  },
  {
   "attachments": {},
   "cell_type": "markdown",
   "metadata": {},
   "source": [
    "This problem was asked by Google.\n",
    "\n",
    "Given the head of a singly linked list, reverse it in-place."
   ]
  },
  {
   "cell_type": "code",
   "execution_count": 573,
   "metadata": {
    "ExecuteTime": {
     "end_time": "2021-01-08T21:36:55.166101Z",
     "start_time": "2021-01-08T21:36:55.045255Z"
    }
   },
   "outputs": [
    {
     "name": "stdout",
     "output_type": "stream",
     "text": [
      "1-->2-->3-->4\n",
      "4-->3-->2-->1\n"
     ]
    }
   ],
   "source": [
    "class Node:\n",
    "    def __init__(self, x, nex=None):\n",
    "        self.val = x\n",
    "        self.next = nex\n",
    "        \n",
    "def print_list(node):\n",
    "    while node:\n",
    "        if node.next:\n",
    "            print(str(node.val)+\"-->\",end='')\n",
    "        else:\n",
    "            print(str(node.val))\n",
    "        node=node.next\n",
    "        \n",
    "        \n",
    "\n",
    "\n",
    "\n",
    "def reverse(node):\n",
    "    prev=None\n",
    "    curr=node\n",
    "    nex=None\n",
    "    while curr:\n",
    "        nex=curr.next\n",
    "        curr.next=prev\n",
    "        prev=curr\n",
    "        curr=nex\n",
    "    return prev\n",
    "\n",
    "LList=Node(1,Node(2,Node(3,Node(4))))\n",
    "\n",
    "\n",
    "print_list(LList)\n",
    "LList=reverse(LList)\n",
    "print_list(LList)"
   ]
  },
  {
   "cell_type": "markdown",
   "metadata": {
    "ExecuteTime": {
     "end_time": "2020-12-28T08:09:03.116789Z",
     "start_time": "2020-12-28T08:09:03.088099Z"
    },
    "heading_collapsed": true
   },
   "source": [
    "# Problem 74 (solved)"
   ]
  },
  {
   "attachments": {},
   "cell_type": "markdown",
   "metadata": {
    "hidden": true
   },
   "source": [
    "\n",
    "This problem was asked by Apple.\n",
    "\n",
    "Suppose you have a multiplication table that is N by N. That is, a 2D array where the value at the i-th row and j-th column is (i + 1) * (j + 1) (if 0-indexed) or i * j (if 1-indexed).\n",
    "\n",
    "Given integers N and X, write a function that returns the number of times X appears as a value in an N by N multiplication table.\n",
    "\n",
    "For example, given N = 6 and X = 12, you should return 4, since the multiplication table looks like this:\n",
    "\n",
    "|     |     |     |     |     |     |\n",
    "| --- | --- | --- | --- | --- | --- |\n",
    "| 1   | 2   | 3   | 4   | 5   | 6   |\n",
    "| 2   | 4   | 6   | 8   | 10  | 12  |\n",
    "| 3   | 6   | 9   | 12  | 15  | 18  |\n",
    "| 4   | 8   | 12  | 16  | 20  | 24  |\n",
    "| 5   | 10  | 15  | 20  | 25  | 30  |\n",
    "| 6   | 12  | 18  | 24  | 30  | 36  |\n",
    "\n",
    "And there are 4 12's in the table.\n"
   ]
  },
  {
   "cell_type": "code",
   "execution_count": 319,
   "metadata": {
    "ExecuteTime": {
     "end_time": "2020-12-28T08:19:39.897104Z",
     "start_time": "2020-12-28T08:19:39.887464Z"
    },
    "hidden": true
   },
   "outputs": [],
   "source": [
    "N=6\n",
    "X=12\n",
    "\n",
    "def count_X(N,X):\n",
    "    grid=np.ones((N,N))\n",
    "    grid[0]=np.arange(N)+1\n",
    "    for row in range(1,N):\n",
    "        grid[row]=(row+1)*(np.arange(N)+1)\n",
    "    grid\n",
    "    return len(np.where(grid==X)[0])\n",
    "\n",
    "assert count_X(N,X)==4"
   ]
  },
  {
   "cell_type": "markdown",
   "metadata": {
    "heading_collapsed": true
   },
   "source": [
    "# Problem 75"
   ]
  },
  {
   "cell_type": "markdown",
   "metadata": {
    "hidden": true
   },
   "source": [
    "This problem was asked by Microsoft.\n",
    "\n",
    "Given an array of numbers, find the length of the longest increasing subsequence in the array. The subsequence does not necessarily have to be contiguous.\n",
    "\n",
    "For example, given the array `[0, 8, 4, 12, 2, 10, 6, 14, 1, 9, 5, 13, 3, 11, 7, 15]`, the longest increasing subsequence has length 6: it is `0, 2, 6, 9, 11, 15`.\n"
   ]
  },
  {
   "cell_type": "code",
   "execution_count": null,
   "metadata": {
    "hidden": true
   },
   "outputs": [],
   "source": []
  },
  {
   "cell_type": "markdown",
   "metadata": {
    "heading_collapsed": true
   },
   "source": [
    "# Problem 76 (solved)"
   ]
  },
  {
   "attachments": {},
   "cell_type": "markdown",
   "metadata": {
    "hidden": true
   },
   "source": [
    "\n",
    "This problem was asked by Google.\n",
    "\n",
    "You are given an N by M 2D matrix of lowercase letters. Determine the minimum number of columns that can be removed to ensure that each row is ordered from top to bottom lexicographically. That is, the letter at each column is lexicographically later as you go down each row. It does not matter whether each row itself is ordered lexicographically.\n",
    "\n",
    "For example, given the following table:\n",
    "\n",
    "```\n",
    "cba\n",
    "daf\n",
    "ghi\n",
    "```\n",
    "\n",
    "This is not ordered because of the a in the center. We can remove the second column to make it ordered:\n",
    "\n",
    "```\n",
    "ca\n",
    "df\n",
    "gi\n",
    "```\n",
    "\n",
    "So your function should return 1, since we only needed to remove 1 column.\n",
    "\n",
    "As another example, given the following table:\n",
    "\n",
    "```\n",
    "abcdef\n",
    "```\n",
    "\n",
    "Your function should return 0, since the rows are already ordered (there's only one row).\n",
    "\n",
    "As another example, given the following table:\n",
    "\n",
    "```\n",
    "zyx\n",
    "wvu\n",
    "tsr\n",
    "```\n",
    "\n",
    "Your function should return 3, since we would need to remove all the columns to order it.\n",
    "\n"
   ]
  },
  {
   "cell_type": "code",
   "execution_count": 291,
   "metadata": {
    "ExecuteTime": {
     "end_time": "2020-12-27T21:49:04.687882Z",
     "start_time": "2020-12-27T21:49:04.663014Z"
    },
    "hidden": true
   },
   "outputs": [],
   "source": [
    "\n",
    "\n",
    "def func(grid):\n",
    "    import numpy\n",
    "    grid=np.array([[char for char in x] for x in grid])\n",
    "    to_delete=[]\n",
    "    for i in range(len(grid[0])):\n",
    "        if np.any(np.sort(grid[:,i])!=grid[:,i]): to_delete.append(i)\n",
    "    return len(to_delete)\n",
    "    \n",
    "grid=[\n",
    "    \"cba\",\n",
    "    \"daf\",\n",
    "    \"ghi\"\n",
    "]\n",
    "assert func(grid)==1\n",
    "\n",
    "\n",
    "grid=[\n",
    "    \"abcdef\"\n",
    "]\n",
    "assert func(grid)==0\n",
    "\n",
    "grid=[\n",
    "    \"zyx\",\n",
    "    \"wvu\",\n",
    "    \"tsr\"\n",
    "]\n",
    "assert func(grid)==3"
   ]
  },
  {
   "cell_type": "markdown",
   "metadata": {
    "heading_collapsed": true
   },
   "source": [
    "# Problem 77 (solved)"
   ]
  },
  {
   "attachments": {},
   "cell_type": "markdown",
   "metadata": {
    "hidden": true
   },
   "source": [
    "\n",
    "This problem was asked by Snapchat.\n",
    "\n",
    "Given a list of possibly overlapping intervals, return a new list of intervals where all overlapping intervals have been merged.\n",
    "\n",
    "The input list is not necessarily ordered in any way.\n",
    "\n",
    "For example, given `[(1, 3), (5, 8), (4, 10), (20, 25)]`, you should return `[(1, 3), (4, 10), (20, 25)]`.\n"
   ]
  },
  {
   "cell_type": "code",
   "execution_count": 252,
   "metadata": {
    "ExecuteTime": {
     "end_time": "2020-12-27T21:27:28.395662Z",
     "start_time": "2020-12-27T21:27:28.385227Z"
    },
    "hidden": true
   },
   "outputs": [],
   "source": [
    "input_list=[\n",
    "    (1,3),\n",
    "    (5,8),\n",
    "    (4,10),\n",
    "    (20,25)\n",
    "]\n",
    "\n",
    "def overlapping_intervals(input_list):\n",
    "    ordered_list=np.sort(input_list,axis=0)\n",
    "\n",
    "    for i,ls in enumerate(ordered_list):\n",
    "        if i==0:\n",
    "            output_list=[list(ordered_list[0])]\n",
    "        else:\n",
    "            if ls[0]<ordered_list[i-1][1]: \n",
    "                output_list[i-1][1]=ls[1]\n",
    "            else: \n",
    "                output_list.append(list(ls))\n",
    "\n",
    "    return output_list\n",
    "\n",
    "assert overlapping_intervals(input_list)==[[1, 3], [4, 10], [20, 25]]"
   ]
  },
  {
   "cell_type": "markdown",
   "metadata": {
    "heading_collapsed": true
   },
   "source": [
    "# Problem 78"
   ]
  },
  {
   "attachments": {},
   "cell_type": "markdown",
   "metadata": {
    "hidden": true
   },
   "source": [
    "This problem was asked recently by Google.\n",
    "\n",
    "Given k sorted singly linked lists, write a function to merge all the lists into one sorted singly linked list.\n"
   ]
  },
  {
   "cell_type": "code",
   "execution_count": 199,
   "metadata": {
    "ExecuteTime": {
     "end_time": "2020-12-26T09:16:48.223801Z",
     "start_time": "2020-12-26T09:16:48.209195Z"
    },
    "hidden": true
   },
   "outputs": [
    {
     "ename": "SyntaxError",
     "evalue": "invalid syntax (<ipython-input-199-b5c13662d1cc>, line 8)",
     "output_type": "error",
     "traceback": [
      "\u001b[0;36m  File \u001b[0;32m\"<ipython-input-199-b5c13662d1cc>\"\u001b[0;36m, line \u001b[0;32m8\u001b[0m\n\u001b[0;31m    Node(1,Node(3,Node(7)))\u001b[0m\n\u001b[0m       ^\u001b[0m\n\u001b[0;31mSyntaxError\u001b[0m\u001b[0;31m:\u001b[0m invalid syntax\n"
     ]
    }
   ],
   "source": [
    "class Node:\n",
    "    def __init__(self, x, y=None):\n",
    "        self.value = x\n",
    "        self.next = y\n",
    "        \n",
    "lists=[\n",
    "    Node(1,Node(4,Node(6)))\n",
    "    Node(1,Node(3,Node(7)))\n",
    "    Node(2,Node(5,Node(7)))\n",
    "]\n",
    "#[1,1,2,3,4,5,6,7,7]\n",
    "\n",
    "def merge(lists):\n",
    "    for k \n",
    "    "
   ]
  },
  {
   "cell_type": "code",
   "execution_count": null,
   "metadata": {
    "hidden": true
   },
   "outputs": [],
   "source": []
  },
  {
   "cell_type": "markdown",
   "metadata": {},
   "source": [
    "# Problem 79"
   ]
  },
  {
   "attachments": {},
   "cell_type": "markdown",
   "metadata": {},
   "source": [
    "This problem was asked by Facebook.\n",
    "\n",
    "Given an array of integers, write a function to determine whether the array could become non-decreasing by modifying at most 1 element.\n",
    "\n",
    "For example, given the array `[10, 5, 7]`, you should return true, since we can modify the 10 into a 1 to make the array non-decreasing.\n",
    "\n",
    "Given the array `[10, 5, 1]`, you should return false, since we can't modify any one element to get a non-decreasing array.\n"
   ]
  },
  {
   "cell_type": "code",
   "execution_count": 192,
   "metadata": {
    "ExecuteTime": {
     "end_time": "2020-12-26T09:11:54.782974Z",
     "start_time": "2020-12-26T09:11:54.770010Z"
    }
   },
   "outputs": [
    {
     "name": "stdout",
     "output_type": "stream",
     "text": [
      "[5, 5, 7]\n",
      "[5, 5, 7]\n",
      "[5, 5, 1]\n",
      "[5, 5, 1]\n"
     ]
    }
   ],
   "source": [
    "arr=[10, 5, 1]\n",
    "\n",
    "def non_decreasing_array(arr):\n",
    "    count=0\n",
    "    for i in range(1,len(arr)):\n",
    "        if (arr[i]<arr[i-1]):\n",
    "            if count==0:\n",
    "                arr[i-1]=arr[i]\n",
    "\n",
    "                count+=1\n",
    "            else:\n",
    "                count+=1\n",
    "        print(arr)\n",
    "    if count>1:\n",
    "        return False\n",
    "    else:\n",
    "        return True\n",
    "        \n",
    "assert non_decreasing_array([10,5,7])==True\n",
    "assert non_decreasing_array([10,5,1])==False"
   ]
  },
  {
   "cell_type": "markdown",
   "metadata": {},
   "source": [
    "# Problem 80"
   ]
  },
  {
   "cell_type": "markdown",
   "metadata": {},
   "source": [
    "This problem was asked by Google.\n",
    "\n",
    "Given the root of a binary tree, return a deepest node. For example, in the following tree, return d.\n",
    "\n",
    "```\n",
    "    a\n",
    "   / \\\n",
    "  b   c\n",
    " /\n",
    "d\n",
    "```\n"
   ]
  },
  {
   "cell_type": "code",
   "execution_count": null,
   "metadata": {},
   "outputs": [],
   "source": []
  }
 ],
 "metadata": {
  "kernelspec": {
   "display_name": "Python 3",
   "language": "python",
   "name": "python3"
  },
  "language_info": {
   "codemirror_mode": {
    "name": "ipython",
    "version": 3
   },
   "file_extension": ".py",
   "mimetype": "text/x-python",
   "name": "python",
   "nbconvert_exporter": "python",
   "pygments_lexer": "ipython3",
   "version": "3.7.7"
  },
  "toc": {
   "base_numbering": 1,
   "nav_menu": {},
   "number_sections": true,
   "sideBar": true,
   "skip_h1_title": false,
   "title_cell": "Table of Contents",
   "title_sidebar": "Contents",
   "toc_cell": false,
   "toc_position": {},
   "toc_section_display": true,
   "toc_window_display": false
  }
 },
 "nbformat": 4,
 "nbformat_minor": 4
}
