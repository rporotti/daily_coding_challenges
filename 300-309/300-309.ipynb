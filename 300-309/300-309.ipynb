{
 "cells": [
  {
   "cell_type": "markdown",
   "metadata": {},
   "source": [
    "# Problem 300\n",
    "This problem was asked by Uber.\n",
    "\n",
    "On election day, a voting machine writes data in the form `(voter_id, candidate_id)` to a text file. Write a program that reads this file as a stream and returns the top 3 candidates at any given time. If you find a voter voting more than once, report this as fraud.\n",
    "\n",
    "\n",
    "---\n",
    "\n"
   ]
  },
  {
   "cell_type": "code",
   "execution_count": null,
   "metadata": {},
   "outputs": [],
   "source": []
  },
  {
   "cell_type": "markdown",
   "metadata": {},
   "source": [
    "# Problem 301\n",
    "This problem was asked by Triplebyte.\n",
    "\n",
    "Implement a data structure which carries out the following operations without resizing the underlying array:\n",
    "- `add(value)`: Add a value to the set of values.\n",
    "- `check(value)`: Check whether a value is in the set.\n",
    "\n",
    "The check method may return occasional false positives (in other words, incorrectly identifying an element as part of the set), but should always correctly identify a true element.\n",
    "\n",
    "\n",
    "---\n",
    "\n"
   ]
  },
  {
   "cell_type": "code",
   "execution_count": null,
   "metadata": {},
   "outputs": [],
   "source": []
  },
  {
   "cell_type": "markdown",
   "metadata": {},
   "source": [
    "# Problem 302\n",
    "This problem was asked by Uber.\n",
    "\n",
    "You are given a 2-d matrix where each cell consists of either `/`, `\\`, or an empty space. Write an algorithm that determines into how many regions the slashes divide the space.\n",
    "\n",
    "For example, suppose the input for a three-by-six grid is the following:\n",
    "```\n",
    "\\    /\n",
    " \\  /\n",
    "  \\/\n",
    "```\n",
    "\n",
    "Considering the edges of the matrix as boundaries, this divides the grid into three triangles, so you should return `3`.\n",
    "\n",
    "\n",
    "---\n",
    "\n"
   ]
  },
  {
   "cell_type": "code",
   "execution_count": null,
   "metadata": {},
   "outputs": [],
   "source": []
  },
  {
   "cell_type": "markdown",
   "metadata": {},
   "source": [
    "# Problem 303\n",
    "This problem was asked by Microsoft.\n",
    "\n",
    "Given a clock time in `hh:mm` format, determine, to the nearest degree, the angle between the hour and the minute hands.\n",
    "\n",
    "Bonus: When, during the course of a day, will the angle be zero?\n",
    "\n",
    "\n",
    "---\n",
    "\n"
   ]
  },
  {
   "cell_type": "code",
   "execution_count": null,
   "metadata": {},
   "outputs": [],
   "source": []
  },
  {
   "cell_type": "markdown",
   "metadata": {},
   "source": [
    "# Problem 304\n",
    "This problem was asked by Two Sigma.\n",
    "\n",
    "A knight is placed on a given square on an `8 x 8` chessboard. It is then moved randomly several times, where each move is a standard knight move. If the knight jumps off the board at any point, however, it is not allowed to jump back on.\n",
    "\n",
    "After `k` moves, what is the probability that the knight remains on the board?\n",
    "\n",
    "\n",
    "---\n",
    "\n"
   ]
  },
  {
   "cell_type": "code",
   "execution_count": null,
   "metadata": {},
   "outputs": [],
   "source": []
  },
  {
   "cell_type": "markdown",
   "metadata": {},
   "source": [
    "# Problem 305\n",
    "This problem was asked by Amazon.\n",
    "\n",
    "Given a linked list, remove all consecutive nodes that sum to zero. Print out the remaining nodes.\n",
    "\n",
    "For example, suppose you are given the input `3 -> 4 -> -7 -> 5 -> -6 -> 6`. In this case, you should first remove `3 -> 4 -> -7`, then `-6 -> 6`, leaving only `5`.\n",
    "\n",
    "\n",
    "---\n",
    "\n"
   ]
  },
  {
   "cell_type": "code",
   "execution_count": null,
   "metadata": {},
   "outputs": [],
   "source": []
  },
  {
   "cell_type": "markdown",
   "metadata": {},
   "source": [
    "# Problem 306\n",
    "This problem was asked by Palantir.\n",
    "\n",
    "You are given a list of N numbers, in which each number is located at most k places away from its sorted position. For example, if `k = 1`, a given element at index `4` might end up at indices `3`, `4`, or `5`.\n",
    "\n",
    "Come up with an algorithm that sorts this list in `O(N log k)` time.\n",
    "\n",
    "\n",
    "---\n",
    "\n"
   ]
  },
  {
   "cell_type": "code",
   "execution_count": null,
   "metadata": {},
   "outputs": [],
   "source": []
  },
  {
   "cell_type": "markdown",
   "metadata": {},
   "source": [
    "# Problem 307\n",
    "This problem was asked by Oracle.\n",
    "\n",
    "Given a binary search tree, find the floor and ceiling of a given integer. The floor is the highest element in the tree less than or equal to an integer, while the ceiling is the lowest element in the tree greater than or equal to an integer.\n",
    "\n",
    "If either value does not exist, return None.\n",
    "\n",
    "\n",
    "---\n",
    "\n"
   ]
  },
  {
   "cell_type": "code",
   "execution_count": null,
   "metadata": {},
   "outputs": [],
   "source": []
  },
  {
   "cell_type": "markdown",
   "metadata": {},
   "source": [
    "# Problem 308\n",
    "This problem was asked by Quantcast.\n",
    "\n",
    "You are presented with an array representing a Boolean expression. The elements are of two kinds:\n",
    "- `T` and `F`, representing the values `True` and `False`.\n",
    "- `&`, `|`, and `^`, representing the bitwise operators for `AND`, `OR`, and `XOR`.\n",
    "\n",
    "Determine the number of ways to group the array elements using parentheses so that the entire expression evaluates to `True`.\n",
    "\n",
    "For example, suppose the input is `['F', '|', 'T', '&', 'T']`. In this case, there are two acceptable groupings: `(F | T) & T` and `F | (T & T)`.\n",
    "\n",
    "\n",
    "---\n",
    "\n"
   ]
  },
  {
   "cell_type": "code",
   "execution_count": null,
   "metadata": {},
   "outputs": [],
   "source": []
  },
  {
   "cell_type": "markdown",
   "metadata": {},
   "source": [
    "# Problem 309\n",
    "This problem was asked by Walmart Labs.\n",
    "\n",
    "There are `M` people sitting in a row of `N` seats, where `M < N`. Your task is to redistribute people such that there are no gaps between any of them, while keeping overall movement to a minimum.\n",
    "\n",
    "For example, suppose you are faced with an input of `[0, 1, 1, 0, 1, 0, 0, 0, 1]`, where `0` represents an empty seat and `1` represents a person. In this case, one solution would be to place the person on the right in the fourth seat. We can consider the cost of a solution to be the sum of the absolute distance each person must move, so that the cost here would be `5`.\n",
    "\n",
    "Given an input such as the one above, return the lowest possible cost of moving people to remove all gaps.\n",
    "\n",
    "\n",
    "---\n",
    "\n"
   ]
  },
  {
   "cell_type": "code",
   "execution_count": null,
   "metadata": {},
   "outputs": [],
   "source": []
  }
 ],
 "metadata": {},
 "nbformat": 4,
 "nbformat_minor": 4
}
