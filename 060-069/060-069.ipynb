{
 "cells": [
  {
   "cell_type": "markdown",
   "metadata": {},
   "source": [
    "# Problem 60\n",
    "This problem was asked by Facebook.\n",
    "\n",
    "Given a multiset of integers, return whether it can be partitioned into two subsets whose sums are the same.\n",
    "\n",
    "For example, given the multiset {15, 5, 20, 10, 35, 15, 10}, it would return true, since we can split it up into {15, 5, 10, 15, 10} and {20, 35}, which both add up to 55.\n",
    "\n",
    "Given the multiset {15, 5, 20, 10, 35}, it would return false, since we can't split it up into two subsets that add up to the same sum.\n",
    "\n",
    "\n",
    "---\n",
    "\n"
   ]
  },
  {
   "cell_type": "code",
   "execution_count": null,
   "metadata": {},
   "outputs": [],
   "source": []
  },
  {
   "cell_type": "markdown",
   "metadata": {},
   "source": [
    "# Problem 61\n",
    "This problem was asked by Google.\n",
    "\n",
    "Implement integer exponentiation. That is, implement the pow(x, y) function, where x and y are integers and returns x^y.\n",
    "\n",
    "Do this faster than the naive method of repeated multiplication.\n",
    "\n",
    "For example, pow(2, 10) should return 1024.\n",
    "\n",
    "\n",
    "---\n",
    "\n"
   ]
  },
  {
   "cell_type": "code",
   "execution_count": null,
   "metadata": {},
   "outputs": [],
   "source": []
  },
  {
   "cell_type": "markdown",
   "metadata": {},
   "source": [
    "# Problem 62\n",
    "This problem was asked by Facebook.\n",
    "\n",
    "There is an N by M matrix of zeroes. Given N and M, write a function to count the number of ways of starting at the top-left corner and getting to the bottom-right corner. You can only move right or down.\n",
    "\n",
    "For example, given a 2 by 2 matrix, you should return 2, since there are two ways to get to the bottom-right:\n",
    "* Right, then down\n",
    "* Down, then right\n",
    "\n",
    "Given a 5 by 5 matrix, there are 70 ways to get to the bottom-right.\n",
    "\n",
    "\n",
    "---\n",
    "\n"
   ]
  },
  {
   "cell_type": "code",
   "execution_count": null,
   "metadata": {},
   "outputs": [],
   "source": []
  },
  {
   "cell_type": "markdown",
   "metadata": {},
   "source": [
    "# Problem 63\n",
    "This problem was asked by Microsoft.\n",
    "\n",
    "Given a 2D matrix of characters and a target word, write a function that returns whether the word can be found in the matrix by going left-to-right, or up-to-down.\n",
    "\n",
    "For example, given the following matrix:\n",
    "\n",
    "```\n",
    "[['F', 'A', 'C', 'I'],\n",
    " ['O', 'B', 'Q', 'P'],\n",
    " ['A', 'N', 'O', 'B'],\n",
    " ['M', 'A', 'S', 'S']]\n",
    "```\n",
    "\n",
    "and the target word 'FOAM', you should return true, since it's the leftmost column. Similarly, given the target word 'MASS', you should return true, since it's the last row.\n",
    "\n",
    "\n",
    "---\n",
    "\n"
   ]
  },
  {
   "cell_type": "code",
   "execution_count": null,
   "metadata": {},
   "outputs": [],
   "source": []
  },
  {
   "cell_type": "markdown",
   "metadata": {},
   "source": [
    "# Problem 64\n",
    "This problem was asked by Google.\n",
    "\n",
    "A knight's tour is a sequence of moves by a knight on a chessboard such that all squares are visited once.\n",
    "\n",
    "Given N, write a function to return the number of knight's tours on an N by N chessboard.\n",
    "\n",
    "\n",
    "---\n",
    "\n"
   ]
  },
  {
   "cell_type": "code",
   "execution_count": null,
   "metadata": {},
   "outputs": [],
   "source": []
  },
  {
   "cell_type": "markdown",
   "metadata": {},
   "source": [
    "# Problem 65\n",
    "This problem was asked by Amazon.\n",
    "\n",
    "Given a N by M matrix of numbers, print out the matrix in a clockwise spiral.\n",
    "\n",
    "For example, given the following matrix:\n",
    "\n",
    "```\n",
    "[[1,  2,  3,  4,  5],\n",
    " [6,  7,  8,  9,  10],\n",
    " [11, 12, 13, 14, 15],\n",
    " [16, 17, 18, 19, 20]]\n",
    "```\n",
    "You should print out the following:\n",
    "\n",
    "```\n",
    "1, 2, 3, 4, 5, 10, 15, 20, 19, 18, 17, 16, 11, 6, 7, 8, 9, 14, 13, 12\n",
    "```\n",
    "\n",
    "\n",
    "---\n",
    "\n"
   ]
  },
  {
   "cell_type": "code",
   "execution_count": null,
   "metadata": {},
   "outputs": [],
   "source": []
  },
  {
   "cell_type": "markdown",
   "metadata": {},
   "source": [
    "# Problem 66\n",
    "This problem was asked by Square.\n",
    "\n",
    "Assume you have access to a function toss_biased() which returns 0 or 1 with a probability that's not 50-50 (but also not 0-100 or 100-0). You do not know the bias of the coin.\n",
    "\n",
    "Write a function to simulate an unbiased coin toss.\n",
    "\n",
    "\n",
    "---\n",
    "\n"
   ]
  },
  {
   "cell_type": "code",
   "execution_count": null,
   "metadata": {},
   "outputs": [],
   "source": []
  },
  {
   "cell_type": "markdown",
   "metadata": {},
   "source": [
    "# Problem 67\n",
    "This problem was asked by Google.\n",
    "\n",
    "Implement an LFU (Least Frequently Used) cache. It should be able to be initialized with a cache size n, and contain the following methods:\n",
    "\n",
    "* `set(key, value)`: sets key to value. If there are already n items in the cache and we are adding a new item, then it should also remove the least frequently used item. If there is a tie, then the least recently used key should be removed.\n",
    "* `get(key)`: gets the value at key. If no such key exists, return null. \n",
    "\n",
    "Each operation should run in O(1) time.\n",
    "\n",
    "\n",
    "---\n",
    "\n"
   ]
  },
  {
   "cell_type": "code",
   "execution_count": null,
   "metadata": {},
   "outputs": [],
   "source": []
  },
  {
   "cell_type": "markdown",
   "metadata": {},
   "source": [
    "# Problem 68\n",
    "This problem was asked by Google.\n",
    "\n",
    "On our special chessboard, two bishops attack each other if they share the same diagonal. This includes bishops that have another bishop located between them, i.e. bishops can attack through pieces.\n",
    "\n",
    "You are given N bishops, represented as (row, column) tuples on a M by M chessboard. Write a function to count the number of pairs of bishops that attack each other. The ordering of the pair doesn't matter: (1, 2) is considered the same as (2, 1).\n",
    "\n",
    "For example, given M = 5 and the list of bishops:\n",
    "```\n",
    "(0, 0)\n",
    "(1, 2)\n",
    "(2, 2)\n",
    "(4, 0)\n",
    "```\n",
    "\n",
    "The board would look like this:\n",
    "\n",
    "```\n",
    "[b 0 0 0 0]\n",
    "[0 0 b 0 0]\n",
    "[0 0 b 0 0]\n",
    "[0 0 0 0 0]\n",
    "[b 0 0 0 0]\n",
    "```\n",
    "\n",
    "You should return 2, since bishops 1 and 3 attack each other, as well as bishops 3 and 4.\n",
    "\n",
    "\n",
    "---\n",
    "\n"
   ]
  },
  {
   "cell_type": "code",
   "execution_count": null,
   "metadata": {},
   "outputs": [],
   "source": []
  },
  {
   "cell_type": "markdown",
   "metadata": {},
   "source": [
    "# Problem 69\n",
    "This problem was asked by Facebook.\n",
    "\n",
    "Given a list of integers, return the largest product that can be made by multiplying any three integers.\n",
    "\n",
    "For example, if the list is [-10, -10, 5, 2], we should return 500, since that's -10 * -10 * 5.\n",
    "\n",
    "You can assume the list has at least three integers.\n",
    "\n",
    "\n",
    "---\n",
    "\n"
   ]
  },
  {
   "cell_type": "code",
   "execution_count": null,
   "metadata": {},
   "outputs": [],
   "source": []
  }
 ],
 "metadata": {},
 "nbformat": 4,
 "nbformat_minor": 4
}
