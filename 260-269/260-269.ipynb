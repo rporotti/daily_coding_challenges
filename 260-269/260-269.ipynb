{
 "cells": [
  {
   "cell_type": "markdown",
   "metadata": {},
   "source": [
    "# Problem 260\n",
    "This problem was asked by Pinterest.\n",
    "\n",
    "The sequence `[0, 1, ..., N]` has been jumbled, and the only clue you have for its order is an array representing whether each number is larger or smaller than the last. Given this information, reconstruct an array that is consistent with it. For example, given `[None, +, +, -, +]`, you could return `[1, 2, 3, 0, 4]`.\n",
    "\n",
    "\n",
    "---\n",
    "\n"
   ]
  },
  {
   "cell_type": "code",
   "execution_count": null,
   "metadata": {},
   "outputs": [],
   "source": []
  },
  {
   "cell_type": "markdown",
   "metadata": {},
   "source": [
    "# Problem 261\n",
    "This problem was asked by Amazon.\n",
    "\n",
    "Huffman coding is a method of encoding characters based on their frequency. Each letter is assigned a variable-length binary string, such as `0101` or `111110`, where shorter lengths correspond to more common letters. To accomplish this, a binary tree is built such that the path from the root to any leaf uniquely maps to a character. When traversing the path, descending to a left child corresponds to a `0` in the prefix, while descending right corresponds to `1`.\n",
    "\n",
    "Here is an example tree (note that only the leaf nodes have letters):\n",
    "\n",
    "```\n",
    "        *\n",
    "      /   \\\n",
    "    *       *\n",
    "   / \\     / \\\n",
    "  *   a   t   *\n",
    " /             \\\n",
    "c               s\n",
    "```\n",
    "With this encoding, cats would be represented as `0000110111`.\n",
    "\n",
    "Given a dictionary of character frequencies, build a Huffman tree, and use it to determine a mapping between characters and their encoded binary strings.\n",
    "\n",
    "\n",
    "---\n",
    "\n"
   ]
  },
  {
   "cell_type": "code",
   "execution_count": null,
   "metadata": {},
   "outputs": [],
   "source": []
  },
  {
   "cell_type": "markdown",
   "metadata": {},
   "source": [
    "# Problem 262\n",
    "This problem was asked by Mozilla.\n",
    "\n",
    "A bridge in a connected (undirected) graph is an edge that, if removed, causes the graph to become disconnected. Find all the bridges in a graph.\n",
    "\n",
    "\n",
    "---\n",
    "\n"
   ]
  },
  {
   "cell_type": "code",
   "execution_count": null,
   "metadata": {},
   "outputs": [],
   "source": []
  },
  {
   "cell_type": "markdown",
   "metadata": {},
   "source": [
    "# Problem 263\n",
    "This problem was asked by Nest.\n",
    "\n",
    "Create a basic sentence checker that takes in a stream of characters and determines whether they form valid sentences. If a sentence is valid, the program should print it out.\n",
    "\n",
    "We can consider a sentence valid if it conforms to the following rules:\n",
    "* The sentence must start with a capital letter, followed by a lowercase letter or a space.\n",
    "* All other characters must be lowercase letters, separators `(,,;,:)` or terminal marks `(.,?,!,‽)`.\n",
    "* There must be a single space between each word.\n",
    "* The sentence must end with a terminal mark immediately following a word.\n",
    "\n",
    "\n",
    "---\n",
    "\n"
   ]
  },
  {
   "cell_type": "code",
   "execution_count": null,
   "metadata": {},
   "outputs": [],
   "source": []
  },
  {
   "cell_type": "markdown",
   "metadata": {},
   "source": [
    "# Problem 264\n",
    "This problem was asked by LinkedIn.\n",
    "\n",
    "Given a set of characters `C` and an integer `k`, a De Bruijn sequence is a cyclic sequence in which every possible `k`-length string of characters in `C` occurs exactly once.\n",
    "\n",
    "For example, suppose `C = {0, 1}` and `k = 3`. Then our sequence should contain the substrings `{'000', '001', '010', '011', '100', '101', '110', '111'}`, and one possible solution would be `00010111`.\n",
    "\n",
    "Create an algorithm that finds a De Bruijn sequence.\n",
    "\n",
    "\n",
    "---\n",
    "\n"
   ]
  },
  {
   "cell_type": "code",
   "execution_count": null,
   "metadata": {},
   "outputs": [],
   "source": []
  },
  {
   "cell_type": "markdown",
   "metadata": {},
   "source": [
    "# Problem 265\n",
    "This problem was asked by Atlassian.\n",
    "\n",
    "MegaCorp wants to give bonuses to its employees based on how many lines of codes they have written. They would like to give the smallest positive amount to each worker consistent with the constraint that if a developer has written more lines of code than their neighbor, they should receive more money.\n",
    "\n",
    "Given an array representing a line of seats of employees at MegaCorp, determine how much each one should get paid.\n",
    "\n",
    "For example, given `[10, 40, 200, 1000, 60, 30]`, you should return `[1, 2, 3, 4, 2, 1]`.\n",
    "\n",
    "\n",
    "---\n",
    "\n"
   ]
  },
  {
   "cell_type": "code",
   "execution_count": null,
   "metadata": {},
   "outputs": [],
   "source": []
  },
  {
   "cell_type": "markdown",
   "metadata": {},
   "source": [
    "# Problem 266\n",
    "This problem was asked by Pivotal.\n",
    "\n",
    "A step word is formed by taking a given word, adding a letter, and anagramming the result. For example, starting with the word \"APPLE\", you can add an \"A\" and anagram to get \"APPEAL\".\n",
    "\n",
    "Given a dictionary of words and an input word, create a function that returns all valid step words.\n",
    "\n",
    "\n",
    "---\n",
    "\n"
   ]
  },
  {
   "cell_type": "code",
   "execution_count": null,
   "metadata": {},
   "outputs": [],
   "source": []
  },
  {
   "cell_type": "markdown",
   "metadata": {},
   "source": [
    "# Problem 267\n",
    "This problem was asked by Oracle.\n",
    "\n",
    "You are presented with an 8 by 8 matrix representing the positions of pieces on a chess board. The only pieces on the board are the black king and various white pieces. Given this matrix, determine whether the king is in check.\n",
    "\n",
    "For details on how each piece moves, see [here](https://en.wikipedia.org/wiki/Chess_piece#Moves_of_the_pieces).\n",
    "\n",
    "For example, given the following matrix:\n",
    "\n",
    "```\n",
    "...K....\n",
    "........\n",
    ".B......\n",
    "......P.\n",
    ".......R\n",
    "..N.....\n",
    "........\n",
    ".....Q..\n",
    "```\n",
    "\n",
    "You should return `True`, since the bishop is attacking the king diagonally.\n",
    "\n",
    "\n",
    "---\n",
    "\n"
   ]
  },
  {
   "cell_type": "code",
   "execution_count": null,
   "metadata": {},
   "outputs": [],
   "source": []
  },
  {
   "cell_type": "markdown",
   "metadata": {},
   "source": [
    "# Problem 268\n",
    "This problem was asked by Indeed.\n",
    "\n",
    "Given a 32-bit positive integer `N`, determine whether it is a power of four in faster than `O(log N)` time.\n",
    "\n",
    "\n",
    "---\n",
    "\n"
   ]
  },
  {
   "cell_type": "code",
   "execution_count": null,
   "metadata": {},
   "outputs": [],
   "source": []
  },
  {
   "cell_type": "markdown",
   "metadata": {},
   "source": [
    "# Problem 269\n",
    "This problem was asked by Microsoft.\n",
    "\n",
    "You are given an string representing the initial conditions of some dominoes. Each element can take one of three values:\n",
    "* `L`, meaning the domino has just been pushed to the left,\n",
    "* `R`, meaning the domino has just been pushed to the right, or\n",
    "* `.`, meaning the domino is standing still.\n",
    "\n",
    "Determine the orientation of each tile when the dominoes stop falling. Note that if a domino receives a force from the left and right side simultaneously, it will remain upright.\n",
    "\n",
    "For example, given the string `.L.R....L`, you should return `LL.RRRLLL`.\n",
    "\n",
    "Given the string `..R...L.L`, you should return `..RR.LLLL`.\n",
    "\n",
    "\n",
    "---\n",
    "\n"
   ]
  },
  {
   "cell_type": "code",
   "execution_count": null,
   "metadata": {},
   "outputs": [],
   "source": []
  }
 ],
 "metadata": {},
 "nbformat": 4,
 "nbformat_minor": 4
}
