{
 "cells": [
  {
   "cell_type": "markdown",
   "metadata": {},
   "source": [
    "# Problem 170\n",
    "This problem was asked by Facebook.\n",
    "\n",
    "Given a start word, an end word, and a dictionary of valid words, find the shortest transformation sequence from start to end such that only one letter is changed at each step of the sequence, and each transformed word exists in the dictionary. If there is no possible transformation, return null. Each word in the dictionary have the same length as start and end and is lowercase.\n",
    "\n",
    "For example, given `start = \"dog\"`, `end = \"cat\"`, and `dictionary = {\"dot\", \"dop\", \"dat\", \"cat\"}`, return `[\"dog\", \"dot\", \"dat\", \"cat\"]`.\n",
    "\n",
    "Given `start = \"dog\"`, `end = \"cat\"`, and `dictionary = {\"dot\", \"tod\", \"dat\", \"dar\"}`, return null as there is no possible transformation from dog to cat.\n",
    "\n",
    "\n",
    "---\n",
    "\n"
   ]
  },
  {
   "cell_type": "code",
   "execution_count": null,
   "metadata": {},
   "outputs": [],
   "source": []
  },
  {
   "cell_type": "markdown",
   "metadata": {},
   "source": [
    "# Problem 171\n",
    "This problem was asked by Amazon.\n",
    "\n",
    "You are given a list of data entries that represent entries and exits of groups of people into a building. An entry looks like this:\n",
    "\n",
    "`{\"timestamp\": 1526579928, \"count\": 3, \"type\": \"enter\"}`\n",
    "\n",
    "This means 3 people entered the building. An exit looks like this:\n",
    "\n",
    "`{\"timestamp\": 1526580382, \"count\": 2, \"type\": \"exit\"}`\n",
    "\n",
    "This means that 2 people exited the building. timestamp is in Unix time.\n",
    "\n",
    "Find the busiest period in the building, that is, the time with the most people in the building. Return it as a pair of `(start, end)` timestamps. You can assume the building always starts off and ends up empty, i.e. with 0 people inside.\n",
    "\n",
    "\n",
    "---\n",
    "\n"
   ]
  },
  {
   "cell_type": "code",
   "execution_count": null,
   "metadata": {},
   "outputs": [],
   "source": []
  },
  {
   "cell_type": "markdown",
   "metadata": {},
   "source": [
    "# Problem 172\n",
    "This problem was asked by Dropbox.\n",
    "\n",
    "Given a string `s` and a list of words `words`, where each word is the same length, find all starting indices of substrings in `s` that is a concatenation of every word in `words` exactly once.\n",
    "\n",
    "For example, given `s = \"dogcatcatcodecatdog\"` and `words = [\"cat\", \"dog\"]`, return `[0, 13]`, since `\"dogcat\"` starts at index `0` and `\"catdog\"` starts at index `13`.\n",
    "\n",
    "Given `s = \"barfoobazbitbyte\"` and `words = [\"dog\", \"cat\"]`, return `[]` since there are no substrings composed of `\"dog\"` and `\"cat\"` in `s`.\n",
    "\n",
    "The order of the indices does not matter.\n",
    "\n",
    "\n",
    "---\n",
    "\n"
   ]
  },
  {
   "cell_type": "code",
   "execution_count": null,
   "metadata": {},
   "outputs": [],
   "source": []
  },
  {
   "cell_type": "markdown",
   "metadata": {},
   "source": [
    "# Problem 173\n",
    "This problem was asked by Stripe.\n",
    "\n",
    "Write a function to flatten a nested dictionary. Namespace the keys with a period.\n",
    "\n",
    "For example, given the following dictionary:\n",
    "\n",
    "```\n",
    "{\n",
    "    \"key\": 3,\n",
    "    \"foo\": {\n",
    "        \"a\": 5,\n",
    "        \"bar\": {\n",
    "            \"baz\": 8\n",
    "        }\n",
    "    }\n",
    "}\n",
    "```\n",
    "\n",
    "it should become:\n",
    "\n",
    "```\n",
    "{\n",
    "    \"key\": 3,\n",
    "    \"foo.a\": 5,\n",
    "    \"foo.bar.baz\": 8\n",
    "}\n",
    "```\n",
    "\n",
    "You can assume keys do not contain dots in them, i.e. no clobbering will occur.\n",
    "\n",
    "\n",
    "---\n",
    "\n"
   ]
  },
  {
   "cell_type": "code",
   "execution_count": null,
   "metadata": {},
   "outputs": [],
   "source": []
  },
  {
   "cell_type": "markdown",
   "metadata": {},
   "source": [
    "# Problem 174\n",
    "This problem was asked by Microsoft.\n",
    "\n",
    "Describe and give an example of each of the following types of polymorphism:\n",
    "* Ad-hoc polymorphism\n",
    "* Parametric polymorphism\n",
    "* Subtype polymorphism\n",
    "\n",
    "\n",
    "---\n",
    "\n"
   ]
  },
  {
   "cell_type": "code",
   "execution_count": null,
   "metadata": {},
   "outputs": [],
   "source": []
  },
  {
   "cell_type": "markdown",
   "metadata": {},
   "source": [
    "# Problem 175\n",
    "This problem was asked by Google.\n",
    "\n",
    "You are given a starting state start, a list of transition probabilities for a Markov chain, and a number of steps num_steps. Run the Markov chain starting from start for num_steps and compute the number of times we visited each state.\n",
    "\n",
    "For example, given the starting state `a`, number of steps `5000`, and the following transition probabilities:\n",
    "\n",
    "```\n",
    "[\n",
    "  ('a', 'a', 0.9),\n",
    "  ('a', 'b', 0.075),\n",
    "  ('a', 'c', 0.025),\n",
    "  ('b', 'a', 0.15),\n",
    "  ('b', 'b', 0.8),\n",
    "  ('b', 'c', 0.05),\n",
    "  ('c', 'a', 0.25),\n",
    "  ('c', 'b', 0.25),\n",
    "  ('c', 'c', 0.5)\n",
    "]\n",
    "```\n",
    "One instance of running this Markov chain might produce `{'a': 3012, 'b': 1656, 'c': 332 }`.\n",
    "\n",
    "\n",
    "---\n",
    "\n"
   ]
  },
  {
   "cell_type": "code",
   "execution_count": null,
   "metadata": {},
   "outputs": [],
   "source": []
  },
  {
   "cell_type": "markdown",
   "metadata": {},
   "source": [
    "# Problem 176\n",
    "This problem was asked by Bloomberg.\n",
    "\n",
    "Determine whether there exists a one-to-one character mapping from one string `s1` to another `s2`.\n",
    "\n",
    "For example, given `s1 = abc` and `s2 = bcd`, return `true` since we can map `a` to `b`, `b` to `c`, and `c` to `d`.\n",
    "\n",
    "Given `s1 = foo` and `s2 = bar`, return `false` since the `o` cannot map to two characters.\n",
    "\n",
    "\n",
    "---\n",
    "\n"
   ]
  },
  {
   "cell_type": "code",
   "execution_count": null,
   "metadata": {},
   "outputs": [],
   "source": []
  },
  {
   "cell_type": "markdown",
   "metadata": {},
   "source": [
    "# Problem 177\n",
    "This problem was asked by Airbnb.\n",
    "\n",
    "Given a linked list and a positive integer `k`, rotate the list to the right by `k` places.\n",
    "\n",
    "For example, given the linked list `7 -> 7 -> 3 -> 5` and `k = 2`, it should become `3 -> 5 -> 7 -> 7`.\n",
    "\n",
    "Given the linked list `1 -> 2 -> 3 -> 4 -> 5` and `k = 3`, it should become `3 -> 4 -> 5 -> 1 -> 2`.\n",
    "\n",
    "\n",
    "---\n",
    "\n"
   ]
  },
  {
   "cell_type": "code",
   "execution_count": null,
   "metadata": {},
   "outputs": [],
   "source": []
  },
  {
   "cell_type": "markdown",
   "metadata": {},
   "source": [
    "# Problem 178\n",
    "This problem was asked by Two Sigma.\n",
    "\n",
    "Alice wants to join her school's Probability Student Club. Membership dues are computed via one of two simple probabilistic games.\n",
    "\n",
    "The first game: roll a die repeatedly. Stop rolling once you get a five followed by a six. Your number of rolls is the amount you pay, in dollars.\n",
    "\n",
    "The second game: same, except that the stopping condition is a five followed by a five.\n",
    "\n",
    "Which of the two games should Alice elect to play? Does it even matter? Write a program to simulate the two games and calculate their expected value.\n",
    "\n",
    "\n",
    "---\n",
    "\n"
   ]
  },
  {
   "cell_type": "code",
   "execution_count": null,
   "metadata": {},
   "outputs": [],
   "source": []
  },
  {
   "cell_type": "markdown",
   "metadata": {},
   "source": [
    "# Problem 179\n",
    "This problem was asked by Google.\n",
    "\n",
    "Given the sequence of keys visited by a postorder traversal of a binary search tree, reconstruct the tree.\n",
    "\n",
    "For example, given the sequence `2, 4, 3, 8, 7, 5`, you should construct the following tree:\n",
    "\n",
    "```\n",
    "    5\n",
    "   / \\\n",
    "  3   7\n",
    " / \\   \\\n",
    "2   4   8\n",
    "```\n",
    "\n",
    "\n",
    "---\n",
    "\n"
   ]
  },
  {
   "cell_type": "code",
   "execution_count": null,
   "metadata": {},
   "outputs": [],
   "source": []
  }
 ],
 "metadata": {},
 "nbformat": 4,
 "nbformat_minor": 4
}
