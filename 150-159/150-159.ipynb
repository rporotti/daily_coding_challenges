{
 "cells": [
  {
   "cell_type": "markdown",
   "metadata": {},
   "source": [
    "# Problem 150\n",
    "This problem was asked by LinkedIn.\n",
    "\n",
    "Given a list of points, a central point, and an integer k, find the nearest k points from the central point.\n",
    "\n",
    "For example, given the list of points `[(0, 0), (5, 4), (3, 1)]`, the central point `(1, 2)`, and `k = 2`, return `[(0, 0), (3, 1)]`.\n",
    "\n",
    "\n",
    "---\n",
    "\n"
   ]
  },
  {
   "cell_type": "code",
   "execution_count": null,
   "metadata": {},
   "outputs": [],
   "source": []
  },
  {
   "cell_type": "markdown",
   "metadata": {},
   "source": [
    "# Problem 151\n",
    "Given a 2-D matrix representing an image, a location of a pixel in the screen and a color C, replace the color of the given pixel and all adjacent same colored pixels with C.\n",
    "\n",
    "For example, given the following matrix, and location pixel of `(2, 2)`, and `'G'` for green:\n",
    "```\n",
    "B B W\n",
    "W W W\n",
    "W W W\n",
    "B B B\n",
    "```\n",
    "\n",
    "Becomes\n",
    "```\n",
    "B B G\n",
    "G G G\n",
    "G G G\n",
    "B B B\n",
    "```\n",
    "\n",
    "\n",
    "---\n",
    "\n"
   ]
  },
  {
   "cell_type": "code",
   "execution_count": null,
   "metadata": {},
   "outputs": [],
   "source": []
  },
  {
   "cell_type": "markdown",
   "metadata": {},
   "source": [
    "# Problem 152\n",
    "This problem was asked by Triplebyte.\n",
    "\n",
    "You are given `n` numbers as well as `n` probabilities that sum up to `1`. Write a function to generate one of the numbers with its corresponding probability.\n",
    "\n",
    "For example, given the numbers `[1, 2, 3, 4]` and probabilities `[0.1, 0.5, 0.2, 0.2]`, your function should return `1` `10%` of the time, `2` `50%` of the time, and `3` and `4` `20%` of the time.\n",
    "\n",
    "You can generate random numbers between 0 and 1 uniformly.\n",
    "\n",
    "\n",
    "---\n",
    "\n"
   ]
  },
  {
   "cell_type": "code",
   "execution_count": null,
   "metadata": {},
   "outputs": [],
   "source": []
  },
  {
   "cell_type": "markdown",
   "metadata": {},
   "source": [
    "# Problem 153\n",
    "Find an efficient algorithm to find the smallest distance (measured in number of words) between any two given words in a string.\n",
    "\n",
    "For example, given words \"hello\", and \"world\" and a text content of \"dog cat hello cat dog dog hello cat world\", return 1 because there's only one word \"cat\" in between the two words.\n",
    "\n",
    "\n",
    "---\n",
    "\n"
   ]
  },
  {
   "cell_type": "code",
   "execution_count": null,
   "metadata": {},
   "outputs": [],
   "source": []
  },
  {
   "cell_type": "markdown",
   "metadata": {},
   "source": [
    "# Problem 154\n",
    "This problem was asked by Amazon.\n",
    "\n",
    "Implement a stack API using only a heap. A stack implements the following methods:\n",
    "* `push(item)`, which adds an element to the stack\n",
    "* `pop()`, which removes and returns the most recently added element (or throws an error if there is nothing on the stack)\n",
    "\n",
    "Recall that a heap has the following operations:\n",
    "* `push(item)`, which adds a new key to the heap\n",
    "* `pop()`, which removes and returns the max value of the heap\n",
    "\n",
    "\n",
    "---\n",
    "\n"
   ]
  },
  {
   "cell_type": "code",
   "execution_count": null,
   "metadata": {},
   "outputs": [],
   "source": []
  },
  {
   "cell_type": "markdown",
   "metadata": {},
   "source": [
    "# Problem 155\n",
    "Given a list of elements, find the majority element, which appears more than half the times `(> floor(len(lst) / 2.0))`.\n",
    "\n",
    "You can assume that such an element exists.\n",
    "\n",
    "For example, given `[1, 2, 1, 1, 3, 4, 0]`, return `1`.\n",
    "\n",
    "\n",
    "---\n",
    "\n"
   ]
  },
  {
   "cell_type": "code",
   "execution_count": null,
   "metadata": {},
   "outputs": [],
   "source": []
  },
  {
   "cell_type": "markdown",
   "metadata": {},
   "source": [
    "# Problem 156\n",
    "This problem was asked by Facebook.\n",
    "\n",
    "Given a positive integer `n`, find the smallest number of squared integers which sum to `n`.\n",
    "\n",
    "For example, given n = `13`, return `2` since `13 = 3^2 + 2^2 = 9 + 4`.\n",
    "\n",
    "Given `n = 27`, return `3` since `27 = 3^2 + 3^2 + 3^2 = 9 + 9 + 9`.\n",
    "\n",
    "\n",
    "---\n",
    "\n"
   ]
  },
  {
   "cell_type": "code",
   "execution_count": null,
   "metadata": {},
   "outputs": [],
   "source": []
  },
  {
   "cell_type": "markdown",
   "metadata": {},
   "source": [
    "# Problem 157\n",
    "This problem was asked by Amazon.\n",
    "\n",
    "Given a string, determine whether any permutation of it is a palindrome.\n",
    "\n",
    "For example, `carrace` should return `true`, since it can be rearranged to form `racecar`, which is a palindrome. `daily` should return `false`, since there's no rearrangement that can form a palindrome.\n",
    "\n",
    "\n",
    "---\n",
    "\n"
   ]
  },
  {
   "cell_type": "code",
   "execution_count": null,
   "metadata": {},
   "outputs": [],
   "source": []
  },
  {
   "cell_type": "markdown",
   "metadata": {},
   "source": [
    "# Problem 158\n",
    "This problem was asked by Slack.\n",
    "\n",
    "You are given an `N * M` matrix of `0`s and `1`s. Starting from the top left corner, how many ways are there to reach the bottom right corner?\n",
    "\n",
    "You can only move right and down. `0` represents an empty space while `1` represents a wall you cannot walk through.\n",
    "\n",
    "For example, given the following matrix:\n",
    "\n",
    "```\n",
    "[[0, 0, 1],\n",
    " [0, 0, 1],\n",
    " [1, 0, 0]]\n",
    "```\n",
    "Return `2`, as there are only two ways to get to the bottom right:\n",
    "* `Right, down, down, right`\n",
    "* `Down, right, down, right`\n",
    "\n",
    "The top left corner and bottom right corner will always be `0`.\n",
    "\n",
    "\n",
    "---\n",
    "\n"
   ]
  },
  {
   "cell_type": "code",
   "execution_count": null,
   "metadata": {},
   "outputs": [],
   "source": []
  },
  {
   "cell_type": "markdown",
   "metadata": {},
   "source": [
    "# Problem 159\n",
    "This problem was asked by Google.\n",
    "\n",
    "Given a string, return the first recurring character in it, or `null` if there is no recurring chracter.\n",
    "\n",
    "For example, given the string `\"acbbac\"`, return `\"b\"`. Given the string `\"abcdef\"`, return `null`.\n",
    "\n",
    "\n",
    "---\n",
    "\n"
   ]
  },
  {
   "cell_type": "code",
   "execution_count": null,
   "metadata": {},
   "outputs": [],
   "source": []
  }
 ],
 "metadata": {},
 "nbformat": 4,
 "nbformat_minor": 4
}
