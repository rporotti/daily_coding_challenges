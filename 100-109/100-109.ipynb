{
 "cells": [
  {
   "cell_type": "markdown",
   "metadata": {},
   "source": [
    "# Problem 100 (solved)\n",
    "This problem was asked by Google.\n",
    "\n",
    "You are in an infinite 2D grid where you can move in any of the 8 directions:\n",
    "\n",
    "```\n",
    " (x,y) to\n",
    "    (x+1, y),\n",
    "    (x - 1, y),\n",
    "    (x, y+1),\n",
    "    (x, y-1),\n",
    "    (x-1, y-1),\n",
    "    (x+1,y+1),\n",
    "    (x-1,y+1),\n",
    "    (x+1,y-1)\n",
    "```\n",
    "\n",
    "You are given a sequence of points and the order in which you need to cover the points. Give the minimum number of steps in which you can achieve it. You start from the first point.\n",
    "\n",
    "Example:\n",
    "Input: `[(0, 0), (1, 1), (1, 2)]`\n",
    "Output: 2\n",
    "It takes 1 step to move from (0, 0) to (1, 1). It takes one more step to move from (1, 1) to (1, 2).\n",
    "\n",
    "\n",
    "---\n",
    "\n"
   ]
  },
  {
   "cell_type": "code",
   "execution_count": null,
   "metadata": {},
   "outputs": [],
   "source": [
    "def count(order):\n",
    "    order=np.array(order,dtype=np.float32)\n",
    "    count=0\n",
    "    for i in range(1,len(order)):\n",
    "        \n",
    "        appo=np.abs(order[i]-order[i-1])\n",
    "        while np.any(appo!=[0,0]):\n",
    "            \n",
    "            appo-=np.abs(np.ceil(appo/np.linalg.norm(appo)))\n",
    "            count+=1\n",
    "    return count\n",
    "    \n",
    "\n",
    "\n",
    "assert count([(0, 0), (2, 2), (1, 2)])==3\n",
    "assert count([(0, 0), (1, 1), (1, 2)])==2\n",
    "assert count([(1, 1), (1, 2)])==1"
   ]
  },
  {
   "cell_type": "markdown",
   "metadata": {},
   "source": [
    "# Problem 101\n",
    "This problem was asked by Alibaba.\n",
    "\n",
    "Given an even number (greater than 2), return two prime numbers whose sum will be equal to the given number.\n",
    "\n",
    "A solution will always exist. See Goldbach’s conjecture.\n",
    "\n",
    "Example:\n",
    "\n",
    "Input: 4\n",
    "Output: 2 + 2 = 4\n",
    "If there are more than one solution possible, return the lexicographically smaller solution.\n",
    "\n",
    "If `[a, b]` is one solution with `a <= b`, and `[c, d]` is another solution with `c <= d`, then\n",
    "\n",
    "```python\n",
    "[a, b] < [c, d]\n",
    "if a < c or a==c and b < d.\n",
    "```\n",
    "\n",
    "\n",
    "---\n",
    "\n"
   ]
  },
  {
   "cell_type": "code",
   "execution_count": null,
   "metadata": {},
   "outputs": [],
   "source": []
  },
  {
   "cell_type": "markdown",
   "metadata": {},
   "source": [
    "# Problem 102\n",
    "This problem was asked by Lyft.\n",
    "\n",
    "Given a list of integers and a number K, return which contiguous elements of the list sum to K.\n",
    "\n",
    "For example, if the list is [1, 2, 3, 4, 5] and K is 9, then it should return [2, 3, 4].\n",
    "\n",
    "\n",
    "---\n",
    "\n"
   ]
  },
  {
   "cell_type": "code",
   "execution_count": null,
   "metadata": {},
   "outputs": [],
   "source": [
    "def sum_K(l,K):\n",
    "    sol=[]\n",
    "    i=0\n",
    "    j=1\n",
    "    while True:\n",
    "        \n",
    "        if sum(l[i:j])==K:\n",
    "            sol.append(l[i:j])\n",
    "        while (sum(l[i:j])<K):     \n",
    "            j+=1\n",
    "        i+=1\n",
    "        if (i==len(l)-1 and j==len(l)):\n",
    "            break\n",
    "    return sol\n",
    "    \n",
    "assert sum_K([1,2,3,4,5],9)==[[2,3,4],[4,5]]"
   ]
  },
  {
   "cell_type": "markdown",
   "metadata": {},
   "source": [
    "# Problem 103\n",
    "This problem was asked by Square.\n",
    "\n",
    "Given a string and a set of characters, return the shortest substring containing all the characters in the set.\n",
    "\n",
    "For example, given the string \"figehaeci\" and the set of characters {a, e, i}, you should return \"aeci\".\n",
    "\n",
    "If there is no substring containing all the characters in the set, return null.\n",
    "\n",
    "\n",
    "---\n",
    "\n"
   ]
  },
  {
   "cell_type": "code",
   "execution_count": null,
   "metadata": {},
   "outputs": [],
   "source": [
    "def shortest_substring(string, chars, lenght=None):\n",
    "    out=[]\n",
    "    chars_copy=chars.copy()\n",
    "    flag=False\n",
    "    for char in string:\n",
    "        \n",
    "        if char in chars_copy:\n",
    "            flag=True\n",
    "            chars_copy.remove(char)\n",
    "        if flag is True:\n",
    "            out.append(char)\n",
    "\n",
    "    print(\"\".join(out),chars)\n",
    "    shortest_substring(\"\".join(out),chars)\n",
    "    \n",
    "    \n",
    "    \n",
    "    \n",
    "#shortest_substring(\"figehaeci\", {\"a\",\"e\",\"i\"})   "
   ]
  },
  {
   "cell_type": "markdown",
   "metadata": {},
   "source": [
    "# Problem 104 (solved)\n",
    "This problem was asked by Google.\n",
    "\n",
    "Determine whether a doubly linked list is a palindrome. What if it’s singly linked?\n",
    "\n",
    "For example, `1 -> 4 -> 3 -> 4 -> 1` returns true while `1 -> 4` returns false.\n",
    "\n",
    "\n",
    "---\n",
    "\n"
   ]
  },
  {
   "cell_type": "code",
   "execution_count": null,
   "metadata": {},
   "outputs": [],
   "source": [
    "class Node():\n",
    "    def __init__(self,val,nex=None,prev=None):\n",
    "        self.value=val\n",
    "        self.next=nex\n",
    "        self.prev=prev\n",
    "    \n",
    "a=Node(1)\n",
    "b=Node(4)\n",
    "c=Node(3)\n",
    "d=Node(4)\n",
    "e=Node(1)\n",
    "a.next=b\n",
    "b.prev=a; b.next=c\n",
    "c.prev=b; c.next=d\n",
    "d.prev=c; d.next=e\n",
    "e.prev=d\n",
    "\n",
    "def palindrome(l):\n",
    "    head=l\n",
    "    curr=l\n",
    "    length=1\n",
    "    while curr.next:\n",
    "        length+=1\n",
    "        curr=curr.next\n",
    "    tail=curr\n",
    "    for i in range(length//2):\n",
    "        if head.value==tail.value:\n",
    "            head=head.next\n",
    "            tail=tail.prev\n",
    "            continue\n",
    "        else:\n",
    "            return False\n",
    "    return True\n",
    "    \n",
    "    \n",
    "    \n",
    "assert palindrome(a)\n",
    "\n",
    "\n",
    "a=Node(1)\n",
    "b=Node(4)\n",
    "a.next=b\n",
    "b.prev=a\n",
    "assert not palindrome(a)"
   ]
  },
  {
   "cell_type": "markdown",
   "metadata": {},
   "source": [
    "# Problem 105\n",
    "This problem was asked by Facebook.\n",
    "\n",
    "Given a function f, and N return a debounced f of N milliseconds.\n",
    "\n",
    "That is, as long as the debounced f continues to be invoked, f itself will not be called for N milliseconds.\n",
    "\n",
    "\n",
    "---\n",
    "\n"
   ]
  },
  {
   "cell_type": "code",
   "execution_count": null,
   "metadata": {},
   "outputs": [],
   "source": []
  },
  {
   "cell_type": "markdown",
   "metadata": {},
   "source": [
    "# Problem 106\n",
    "This problem was asked by Pinterest.\n",
    "\n",
    "Given an integer list where each number represents the number of hops you can make, determine whether you can reach to the last index starting at index 0.\n",
    "\n",
    "For example, `[2, 0, 1, 0]` returns `true` while `[1, 1, 0, 1]` returns `false`.\n",
    "\n",
    "\n",
    "---\n",
    "\n"
   ]
  },
  {
   "cell_type": "code",
   "execution_count": null,
   "metadata": {},
   "outputs": [],
   "source": []
  },
  {
   "cell_type": "markdown",
   "metadata": {},
   "source": [
    "# Problem 107\n",
    "This problem was asked by Microsoft.\n",
    "\n",
    "Print the nodes in a binary tree level-wise. For example, the following should print `1, 2, 3, 4, 5`.\n",
    "\n",
    "```\n",
    "  1\n",
    " / \\\n",
    "2   3\n",
    "   / \\\n",
    "  4   5\n",
    "```\n",
    "\n",
    "\n",
    "---\n",
    "\n"
   ]
  },
  {
   "cell_type": "code",
   "execution_count": null,
   "metadata": {},
   "outputs": [],
   "source": []
  },
  {
   "cell_type": "markdown",
   "metadata": {},
   "source": [
    "# Problem 108 (solved)\n",
    "This problem was asked by Google.\n",
    "\n",
    "Given two strings A and B, return whether or not A can be shifted some number of times to get B.\n",
    "\n",
    "For example, if A is `abcde` and B is `cdeab`, return true. If A is `abc` and B is `acb`, return false.\n",
    "\n",
    "\n",
    "---\n",
    "\n"
   ]
  },
  {
   "cell_type": "code",
   "execution_count": null,
   "metadata": {},
   "outputs": [],
   "source": [
    "def shift(A, B):\n",
    "    for shift in range(1,len(A)):\n",
    "        if (A[shift:]+A[:shift])==B:\n",
    "            return True\n",
    "    return False\n",
    "    \n",
    "    \n",
    "assert shift(\"abcde\", \"cdeab\") \n",
    "assert not shift(\"abc\", \"acb\") "
   ]
  },
  {
   "cell_type": "markdown",
   "metadata": {},
   "source": [
    "# Problem 109 (solved)\n",
    "This problem was asked by Cisco.\n",
    "\n",
    "Given an unsigned 8-bit integer, swap its even and odd bits. The 1st and 2nd bit should be swapped, the 3rd and 4th bit should be swapped, and so on.\n",
    "\n",
    "For example, `10101010` should be `01010101`. `11100010` should be `11010001`.\n",
    "\n",
    "Bonus: Can you do this in one line?\n",
    "\n",
    "\n",
    "---\n",
    "\n"
   ]
  },
  {
   "cell_type": "code",
   "execution_count": null,
   "metadata": {},
   "outputs": [],
   "source": [
    "def swap(integer):\n",
    "    return \"\".join(sum([[y,x]  for (x,y) in zip(list(str(integer))[::2], list(str(integer))[1:9:2]) ],[]))\n",
    "    \n",
    "    \n",
    "assert swap(10101010)==\"01010101\"\n",
    "assert swap(11100010)==\"11010001\""
   ]
  }
 ],
 "metadata": {
  "kernelspec": {
   "display_name": "Python 3",
   "language": "python",
   "name": "python3"
  },
  "language_info": {
   "codemirror_mode": {
    "name": "ipython",
    "version": 3
   },
   "file_extension": ".py",
   "mimetype": "text/x-python",
   "name": "python",
   "nbconvert_exporter": "python",
   "pygments_lexer": "ipython3",
   "version": "3.7.7"
  },
  "toc": {
   "base_numbering": 1,
   "nav_menu": {},
   "number_sections": true,
   "sideBar": true,
   "skip_h1_title": false,
   "title_cell": "Table of Contents",
   "title_sidebar": "Contents",
   "toc_cell": false,
   "toc_position": {},
   "toc_section_display": true,
   "toc_window_display": false
  }
 },
 "nbformat": 4,
 "nbformat_minor": 4
}
