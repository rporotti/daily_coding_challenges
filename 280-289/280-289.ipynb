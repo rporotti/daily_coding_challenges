{
 "cells": [
  {
   "cell_type": "markdown",
   "metadata": {},
   "source": [
    "# Problem 280\n",
    "This problem was asked by Pandora.\n",
    "\n",
    "Given an undirected graph, determine if it contains a cycle.\n",
    "\n",
    "\n",
    "---\n",
    "\n"
   ]
  },
  {
   "cell_type": "code",
   "execution_count": null,
   "metadata": {},
   "outputs": [],
   "source": []
  },
  {
   "cell_type": "markdown",
   "metadata": {},
   "source": [
    "# Problem 281\n",
    "This problem was asked by LinkedIn.\n",
    "\n",
    "A wall consists of several rows of bricks of various integer lengths and uniform height. Your goal is to find a vertical line going from the top to the bottom of the wall that cuts through the fewest number of bricks. If the line goes through the edge between two bricks, this does not count as a cut.\n",
    "\n",
    "For example, suppose the input is as follows, where values in each row represent the lengths of bricks in that row:\n",
    "\n",
    "```\n",
    "[[3, 5, 1, 1],\n",
    " [2, 3, 3, 2],\n",
    " [5, 5],\n",
    " [4, 4, 2],\n",
    " [1, 3, 3, 3],\n",
    " [1, 1, 6, 1, 1]]\n",
    "```\n",
    "\n",
    "The best we can we do here is to draw a line after the eighth brick, which will only require cutting through the bricks in the third and fifth row.\n",
    "\n",
    "Given an input consisting of brick lengths for each row such as the one above, return the fewest number of bricks that must be cut to create a vertical line.\n",
    "\n",
    "\n",
    "---\n",
    "\n"
   ]
  },
  {
   "cell_type": "code",
   "execution_count": null,
   "metadata": {},
   "outputs": [],
   "source": []
  },
  {
   "cell_type": "markdown",
   "metadata": {},
   "source": [
    "# Problem 282\n",
    "This problem was asked by Netflix.\n",
    "\n",
    "Given an array of integers, determine whether it contains a Pythagorean triplet. Recall that a Pythogorean triplet `(a, b, c)` is defined by the equation `a^2 + b^2 = c^2`.\n",
    "\n",
    "\n",
    "---\n",
    "\n"
   ]
  },
  {
   "cell_type": "code",
   "execution_count": null,
   "metadata": {},
   "outputs": [],
   "source": []
  },
  {
   "cell_type": "markdown",
   "metadata": {},
   "source": [
    "# Problem 283\n",
    "This problem was asked by Google.\n",
    "\n",
    "A regular number in mathematics is defined as one which evenly divides some power of `60`. Equivalently, we can say that a regular number is one whose only prime divisors are `2`, `3`, and `5`.\n",
    "\n",
    "These numbers have had many applications, from helping ancient Babylonians keep time to tuning instruments according to the diatonic scale.\n",
    "\n",
    "Given an integer `N`, write a program that returns, in order, the first `N` regular numbers.\n",
    "\n",
    "\n",
    "---\n",
    "\n"
   ]
  },
  {
   "cell_type": "code",
   "execution_count": null,
   "metadata": {},
   "outputs": [],
   "source": []
  },
  {
   "cell_type": "markdown",
   "metadata": {},
   "source": [
    "# Problem 284\n",
    "This problem was asked by Yext.\n",
    "\n",
    "Two nodes in a binary tree can be called cousins if they are on the same level of the tree but have different parents. For example, in the following diagram `4` and `6` are cousins.\n",
    "\n",
    "```\n",
    "    1\n",
    "   / \\\n",
    "  2   3\n",
    " / \\   \\\n",
    "4   5   6\n",
    "```\n",
    "\n",
    "Given a binary tree and a particular node, find all cousins of that node.\n",
    "\n",
    "\n",
    "---\n",
    "\n"
   ]
  },
  {
   "cell_type": "code",
   "execution_count": null,
   "metadata": {},
   "outputs": [],
   "source": []
  },
  {
   "cell_type": "markdown",
   "metadata": {},
   "source": [
    "# Problem 285\n",
    "This problem was asked by Mailchimp.\n",
    "\n",
    "You are given an array representing the heights of neighboring buildings on a city street, from east to west. The city assessor would like you to write an algorithm that returns how many of these buildings have a view of the setting sun, in order to properly value the street.\n",
    "\n",
    "For example, given the array `[3, 7, 8, 3, 6, 1]`, you should return `3`, since the top floors of the buildings with heights `8`, `6`, and `1` all have an unobstructed view to the west.\n",
    "\n",
    "Can you do this using just one forward pass through the array?\n",
    "\n",
    "\n",
    "---\n",
    "\n"
   ]
  },
  {
   "cell_type": "code",
   "execution_count": null,
   "metadata": {},
   "outputs": [],
   "source": []
  },
  {
   "cell_type": "markdown",
   "metadata": {},
   "source": [
    "# Problem 286\n",
    "This problem was asked by VMware.\n",
    "\n",
    "The skyline of a city is composed of several buildings of various widths and heights, possibly overlapping one another when viewed from a distance. We can represent the buildings using an array of `(left, right, height)` tuples, which tell us where on an imaginary `x`-axis a building begins and ends, and how tall it is. The skyline itself can be described by a list of `(x, height)` tuples, giving the locations at which the height visible to a distant observer changes, and each new height.\n",
    "\n",
    "Given an array of buildings as described above, create a function that returns the skyline.\n",
    "\n",
    "For example, suppose the input consists of the buildings `[(0, 15, 3), (4, 11, 5), (19, 23, 4)]`. In aggregate, these buildings would create a skyline that looks like the one below.\n",
    "\n",
    "```\n",
    "     ______  \n",
    "    |      |        ___\n",
    " ___|      |___    |   | \n",
    "|   |   B  |   |   | C |\n",
    "| A |      | A |   |   |\n",
    "|   |      |   |   |   |\n",
    "------------------------\n",
    "```\n",
    "\n",
    "As a result, your function should return `[(0, 3), (4, 5), (11, 3), (15, 0), (19, 4), (23, 0)]`.\n",
    "\n",
    "\n",
    "---\n",
    "\n"
   ]
  },
  {
   "cell_type": "code",
   "execution_count": null,
   "metadata": {},
   "outputs": [],
   "source": []
  },
  {
   "cell_type": "markdown",
   "metadata": {},
   "source": [
    "# Problem 287\n",
    "This problem was asked by Quora.\n",
    "\n",
    "You are given a list of (website, user) pairs that represent users visiting websites. Come up with a program that identifies the top `k` pairs of websites with the greatest similarity.\n",
    "\n",
    "For example, suppose `k = 1`, and the list of tuples is:\n",
    "\n",
    "```\n",
    "[('a', 1), ('a', 3), ('a', 5),\n",
    " ('b', 2), ('b', 6),\n",
    " ('c', 1), ('c', 2), ('c', 3), ('c', 4), ('c', 5),\n",
    " ('d', 4), ('d', 5), ('d', 6), ('d', 7),\n",
    " ('e', 1), ('e', 3), ('e', 5), ('e', 6)]\n",
    "```\n",
    "\n",
    "Then a reasonable similarity metric would most likely conclude that `a` and `e` are the most similar, so your program should return `[('a', 'e')]`.\n",
    "\n",
    "\n",
    "---\n",
    "\n"
   ]
  },
  {
   "cell_type": "code",
   "execution_count": null,
   "metadata": {},
   "outputs": [],
   "source": []
  },
  {
   "cell_type": "markdown",
   "metadata": {},
   "source": [
    "# Problem 288\n",
    "This problem was asked by Salesforce.\n",
    "\n",
    "The number `6174` is known as Kaprekar's contant, after the mathematician who discovered an associated property: for all four-digit numbers with at least two distinct digits, repeatedly applying a simple procedure eventually results in this value. The procedure is as follows:\n",
    "\n",
    "For a given input `x`, create two new numbers that consist of the digits in `x` in ascending and descending order.\n",
    "Subtract the smaller number from the larger number.\n",
    "For example, this algorithm terminates in three steps when starting from `1234`:\n",
    "\n",
    "```\n",
    "4321 - 1234 = 3087\n",
    "8730 - 0378 = 8352\n",
    "8532 - 2358 = 6174\n",
    "```\n",
    "\n",
    "Write a function that returns how many steps this will take for a given input `N`.\n",
    "\n",
    "\n",
    "---\n",
    "\n"
   ]
  },
  {
   "cell_type": "code",
   "execution_count": null,
   "metadata": {},
   "outputs": [],
   "source": []
  },
  {
   "cell_type": "markdown",
   "metadata": {},
   "source": [
    "# Problem 289\n",
    "This problem was asked by Google.\n",
    "\n",
    "The game of Nim is played as follows. Starting with three heaps, each containing a variable number of items, two players take turns removing one or more items from a single pile. The player who eventually is forced to take the last stone loses. For example, if the initial heap sizes are 3, 4, and 5, a game could be played as shown below:\n",
    "\n",
    "| A   | B   | C   |\n",
    "| --- | --- | --- |\n",
    "| 3   | 4   | 5   |\n",
    "| 3   | 1   | 5   |\n",
    "| 3   | 1   | 3   |\n",
    "| 0   | 1   | 3   |\n",
    "| 0   | 1   | 0   |\n",
    "| 0   | 0   | 0   |\n",
    "\n",
    "In other words, to start, the first player takes three items from pile `B`. The second player responds by removing two stones from pile `C`. The game continues in this way until player one takes last stone and loses.\n",
    "\n",
    "Given a list of non-zero starting values `[a, b, c]`, and assuming optimal play, determine whether the first player has a forced win.\n",
    "\n",
    "\n",
    "---\n",
    "\n"
   ]
  },
  {
   "cell_type": "code",
   "execution_count": null,
   "metadata": {},
   "outputs": [],
   "source": []
  }
 ],
 "metadata": {},
 "nbformat": 4,
 "nbformat_minor": 4
}
